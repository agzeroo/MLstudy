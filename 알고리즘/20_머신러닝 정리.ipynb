{
 "cells": [
  {
   "cell_type": "markdown",
   "metadata": {},
   "source": [
    "# 알고리즘 종류\n",
    "- 지도 학습 : 학습시 입력과 결과 데이터를 주고 결과를 예측한다.\n",
    "- 비 지도 학습 : 학습시 입력만 주거나 결과도 주지만 결과를 예측하진 않는다.\n",
    "- 강화학습 : 환경, 에이전트, 상벌을 정의하여 에이전트가 주어진 환경에서 상을 받기위해 노력하는 학습 방법\n",
    "\n",
    "# 지도학습\n",
    "- 알고리즘 모두 값을 예측한다는 공통의 목표를 가지고 있다.\n",
    "- 분류 : 결과 데이터가 카테고리 형태인 경우(혈액형, 성별, 사망생존 등등)\n",
    "- 회귀 : 결과 데이터가 계산된 수치 형태인 경우(집값 상승률, 소득금액 등등)\n",
    "- KNN : 학습시 데이터를 저장만 하고 예측시에는 발생된 데이터가 가장 가까운 데이터의 결과를 보고 최종 결과를 예측한다. 속도는 빠르지만 다른 모델에 비해 다소 정확도가 떨어질 수 있다.\n",
    "- 선형모델 : 분류에서는 예측선, 회귀에서는 데이터들이 투영될 선을 찾는 알고리즘. 실제 데이터와 예측된 데이터간의 오차를 최소화 시키는 선을 찾으려고 노력한다.(LogisticRegression, SVM, LinearRegression, Ridge, Lasso, ElasticNet)\n",
    "- 결정트리 : KNN이나 선형모델은 각 컬럼간의 상관관계가 높으면 에측을 잘 하지 못할 수도 있고 컬럼간의 데이터 범위가 너무 많이 차이가 나면 예측을 잘 하지 못할 수도 있다. 이를 해소하기 위해 만든 모델. 각 컬럼들을 각각 독립적으로 취급하여 질문을 생성하고 질문에 따라 데이터를 나누어 예측하는 알고리즘. 회귀에서 매우 않좋은 성능을 보일 가능성이 높다. \n",
    "- 앙상블 : 다수의 모델을 사용하여 다수의 모델이 던지는 결과를 취합하여 최종 결과를 선정하는 알고리즘(RandomForest)\n",
    "- 부스팅 : 앙상블 모델이 던지는 결과와 진짜 결과의 오차 정도를 파악하여 오차를 보정해 나가는 알고리즘. 회귀에서 좋은 성능을 보인다.(AdaBoost, GradianBoost, LGBM, XGboost)\n",
    "\n",
    "# 앙상블\n",
    "- 다수의 모델을 사용하여 결과를 취합하는 알고리즘\n",
    "- 운영방식 : Voting, Bagging\n",
    "- 예측방식 : Soft Voting, HardVoting\n",
    "---\n",
    "- Voting : 모두 다른 모델들을 사용하여 같은 데이터를 학습하고 예측하는 방식\n",
    "- Bagging : 모두 같은 모델들을 사용하여 다른 데이터를 학습하고 예측하는 방식\n",
    "- sklearn에서 제공하는 앙상블, 부스팅들은 Bagging을 사용한다.\n",
    "---\n",
    "- HardVoting : 각 알고리즘이 던지는 결과를 취합하여 다수결을 통해 최종 결과를 선정한다.\n",
    "- SoftVoting : 각 알고리즘이 던지는 결과 확률을 취합하여 확률이 가장 높은 결과를 최종 선정한다.\n",
    "- sklearn에서 제공하는 앙상블, 부스팅들은 Soft Voting을 사용한다.\n",
    "\n",
    "# 비 지도 학습\n",
    "- 주어진 데이터를 통해 다양한 목적을 이룰 수 있도록 제공되는 알고리즘이다.\n",
    "- LabelEncoder : 문자데이터를 숫자로 변환하는 목적\n",
    "- StandardScaler : 데이터를 표준화하는 목적으로 사용한다. Tree를 사용하지 않는 모델(선형모델, KNN)을 사용할 때 표준화를 하면 예측 정확도가 상승될 수 도 있다.\n",
    "- K-means : 개발자가 그룹의 개수를 정해주고 그 만큼의 그룹으로 군집한다.\n",
    "- mean shift : 개발자가 그룹의 크기를 정해주고 그 만큼의 그룹들로 군집한다.\n",
    "- PCA : 변동량이 가장 많은 방향으로 선을 만들고 거기에 데이터들을 투영시켜 차원 축소(컬럼의 수를 줄인다)를 하는 알고리즘\n",
    "- LDA : 결과 데이터가 가장 잘 분류될 수 있도록 차원을 축소하는 알고리즘.."
   ]
  },
  {
   "cell_type": "markdown",
   "metadata": {},
   "source": [
    "https://datascienceschool.net/intro.html"
   ]
  },
  {
   "cell_type": "markdown",
   "metadata": {},
   "source": [
    "https://www.tutorialspoint.com/tutorialslibrary.htm"
   ]
  },
  {
   "cell_type": "markdown",
   "metadata": {},
   "source": [
    "https://www.w3schools.com/python/default.asp"
   ]
  },
  {
   "cell_type": "markdown",
   "metadata": {},
   "source": [
    "https://kaggle.com"
   ]
  },
  {
   "cell_type": "code",
   "execution_count": null,
   "metadata": {},
   "outputs": [],
   "source": []
  }
 ],
 "metadata": {
  "kernelspec": {
   "display_name": "Python 3",
   "language": "python",
   "name": "python3"
  },
  "language_info": {
   "codemirror_mode": {
    "name": "ipython",
    "version": 3
   },
   "file_extension": ".py",
   "mimetype": "text/x-python",
   "name": "python",
   "nbconvert_exporter": "python",
   "pygments_lexer": "ipython3",
   "version": "3.8.5"
  }
 },
 "nbformat": 4,
 "nbformat_minor": 4
}
