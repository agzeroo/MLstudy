{
  "nbformat": 4,
  "nbformat_minor": 0,
  "metadata": {
    "kernelspec": {
      "display_name": "Python 3",
      "language": "python",
      "name": "python3"
    },
    "language_info": {
      "codemirror_mode": {
        "name": "ipython",
        "version": 3
      },
      "file_extension": ".py",
      "mimetype": "text/x-python",
      "name": "python",
      "nbconvert_exporter": "python",
      "pygments_lexer": "ipython3",
      "version": "3.8.5"
    },
    "colab": {
      "name": "06_맥시코풍 프렌차이즈 Chipotle 주문 데이터 분석_class.ipynb",
      "provenance": [],
      "collapsed_sections": [
        "xOYAd5T994Mx",
        "XxLlwFiK94M2",
        "GYqyx9_m94M2",
        "w0crGMGH94M6",
        "sLpdNLtT94M8"
      ]
    }
  },
  "cells": [
    {
      "cell_type": "code",
      "metadata": {
        "id": "lPx8gRm394ML"
      },
      "source": [
        "# 기본\n",
        "import pandas as pd\n",
        "import numpy as np\n",
        "import matplotlib.pyplot as plt\n",
        "import seaborn as sns\n",
        "\n",
        "# 경고 뜨지 않게 설정\n",
        "import warnings\n",
        "warnings.filterwarnings('ignore')\n",
        "\n",
        "# 그래프 설정\n",
        "plt.rcParams['font.family'] = 'Malgun Gothic'\n",
        "# plt.rcParams['font.family'] = 'AppleGothic'\n",
        "plt.rcParams['font.size'] = 16\n",
        "plt.rcParams['figure.figsize'] = 20, 10\n",
        "plt.rcParams['axes.unicode_minus'] = False\n",
        "\n",
        "# 데이터 전처리 알고리즘\n",
        "from sklearn.preprocessing import LabelEncoder\n",
        "from sklearn.preprocessing import StandardScaler\n",
        "\n",
        "# 학습용과 검증용으로 나누는 함수\n",
        "from sklearn.model_selection import train_test_split\n",
        "\n",
        "# 교차 검증\n",
        "# 지표를 하나만 설정할 경우\n",
        "from sklearn.model_selection import cross_val_score\n",
        "# 지표를 하나 이상 설정할 경우\n",
        "from sklearn.model_selection import cross_validate\n",
        "from sklearn.model_selection import KFold\n",
        "from sklearn.model_selection import StratifiedKFold\n",
        "\n",
        "# 모델의 최적의 하이퍼파라미터를 찾기 위한 도구\n",
        "from sklearn.model_selection import GridSearchCV\n",
        "\n",
        "# 평가함수\n",
        "# 분류용\n",
        "from sklearn.metrics import accuracy_score\n",
        "from sklearn.metrics import precision_score\n",
        "from sklearn.metrics import recall_score\n",
        "from sklearn.metrics import f1_score\n",
        "from sklearn.metrics import roc_auc_score\n",
        "\n",
        "# 회귀용\n",
        "from sklearn.metrics import r2_score\n",
        "from sklearn.metrics import mean_squared_error\n",
        "\n",
        "# 머신러닝 알고리즘 - 분류\n",
        "from sklearn.neighbors import KNeighborsClassifier\n",
        "from sklearn.linear_model import LogisticRegression\n",
        "from sklearn.svm import SVC\n",
        "from sklearn.tree import DecisionTreeClassifier\n",
        "from sklearn.ensemble import RandomForestClassifier\n",
        "from sklearn.ensemble import AdaBoostClassifier\n",
        "from sklearn.ensemble import GradientBoostingClassifier\n",
        "from lightgbm import LGBMClassifier\n",
        "from xgboost import XGBClassifier\n",
        "from sklearn.ensemble import VotingClassifier\n",
        "\n",
        "# 머신러닝 알고리즘 - 회귀\n",
        "from sklearn.neighbors import KNeighborsRegressor\n",
        "from sklearn.linear_model import LinearRegression\n",
        "from sklearn.linear_model import Ridge\n",
        "from sklearn.linear_model import Lasso\n",
        "from sklearn.linear_model import ElasticNet\n",
        "from sklearn.svm import SVR\n",
        "from sklearn.tree import DecisionTreeRegressor\n",
        "from sklearn.ensemble import RandomForestRegressor\n",
        "from sklearn.ensemble import AdaBoostRegressor\n",
        "from sklearn.ensemble import GradientBoostingRegressor\n",
        "from lightgbm import LGBMRegressor\n",
        "from xgboost import XGBRegressor\n",
        "from sklearn.ensemble import VotingRegressor\n",
        "\n",
        "# 차원축소\n",
        "from sklearn.decomposition import PCA\n",
        "from sklearn.discriminant_analysis import LinearDiscriminantAnalysis\n",
        "\n",
        "# 군집화\n",
        "from sklearn.cluster import KMeans\n",
        "from sklearn.cluster import MeanShift\n",
        "from sklearn.cluster import estimate_bandwidth\n",
        "\n",
        "# 시간 측정을 위한 시간 모듈\n",
        "import datetime\n",
        "# 주식 정보를 읽어오기 위한 라이브러리\n",
        "from pandas_datareader import data"
      ],
      "execution_count": null,
      "outputs": []
    },
    {
      "cell_type": "markdown",
      "metadata": {
        "id": "s7-kxDxF94MW"
      },
      "source": [
        "### 데이터 읽어오기\n",
        "- \\t으로 구분된 데이터"
      ]
    },
    {
      "cell_type": "code",
      "metadata": {
        "id": "Aepjcylp94MX",
        "outputId": "8fb29af0-53c4-4ad1-ed58-0fbfd434a43c"
      },
      "source": [
        "chipo = pd.read_csv('data/chipotle.tsv', sep='\\t')\n",
        "chipo"
      ],
      "execution_count": null,
      "outputs": [
        {
          "output_type": "execute_result",
          "data": {
            "text/html": [
              "<div>\n",
              "<style scoped>\n",
              "    .dataframe tbody tr th:only-of-type {\n",
              "        vertical-align: middle;\n",
              "    }\n",
              "\n",
              "    .dataframe tbody tr th {\n",
              "        vertical-align: top;\n",
              "    }\n",
              "\n",
              "    .dataframe thead th {\n",
              "        text-align: right;\n",
              "    }\n",
              "</style>\n",
              "<table border=\"1\" class=\"dataframe\">\n",
              "  <thead>\n",
              "    <tr style=\"text-align: right;\">\n",
              "      <th></th>\n",
              "      <th>order_id</th>\n",
              "      <th>quantity</th>\n",
              "      <th>item_name</th>\n",
              "      <th>choice_description</th>\n",
              "      <th>item_price</th>\n",
              "    </tr>\n",
              "  </thead>\n",
              "  <tbody>\n",
              "    <tr>\n",
              "      <th>0</th>\n",
              "      <td>1</td>\n",
              "      <td>1</td>\n",
              "      <td>Chips and Fresh Tomato Salsa</td>\n",
              "      <td>NaN</td>\n",
              "      <td>$2.39</td>\n",
              "    </tr>\n",
              "    <tr>\n",
              "      <th>1</th>\n",
              "      <td>1</td>\n",
              "      <td>1</td>\n",
              "      <td>Izze</td>\n",
              "      <td>[Clementine]</td>\n",
              "      <td>$3.39</td>\n",
              "    </tr>\n",
              "    <tr>\n",
              "      <th>2</th>\n",
              "      <td>1</td>\n",
              "      <td>1</td>\n",
              "      <td>Nantucket Nectar</td>\n",
              "      <td>[Apple]</td>\n",
              "      <td>$3.39</td>\n",
              "    </tr>\n",
              "    <tr>\n",
              "      <th>3</th>\n",
              "      <td>1</td>\n",
              "      <td>1</td>\n",
              "      <td>Chips and Tomatillo-Green Chili Salsa</td>\n",
              "      <td>NaN</td>\n",
              "      <td>$2.39</td>\n",
              "    </tr>\n",
              "    <tr>\n",
              "      <th>4</th>\n",
              "      <td>2</td>\n",
              "      <td>2</td>\n",
              "      <td>Chicken Bowl</td>\n",
              "      <td>[Tomatillo-Red Chili Salsa (Hot), [Black Beans...</td>\n",
              "      <td>$16.98</td>\n",
              "    </tr>\n",
              "    <tr>\n",
              "      <th>...</th>\n",
              "      <td>...</td>\n",
              "      <td>...</td>\n",
              "      <td>...</td>\n",
              "      <td>...</td>\n",
              "      <td>...</td>\n",
              "    </tr>\n",
              "    <tr>\n",
              "      <th>4617</th>\n",
              "      <td>1833</td>\n",
              "      <td>1</td>\n",
              "      <td>Steak Burrito</td>\n",
              "      <td>[Fresh Tomato Salsa, [Rice, Black Beans, Sour ...</td>\n",
              "      <td>$11.75</td>\n",
              "    </tr>\n",
              "    <tr>\n",
              "      <th>4618</th>\n",
              "      <td>1833</td>\n",
              "      <td>1</td>\n",
              "      <td>Steak Burrito</td>\n",
              "      <td>[Fresh Tomato Salsa, [Rice, Sour Cream, Cheese...</td>\n",
              "      <td>$11.75</td>\n",
              "    </tr>\n",
              "    <tr>\n",
              "      <th>4619</th>\n",
              "      <td>1834</td>\n",
              "      <td>1</td>\n",
              "      <td>Chicken Salad Bowl</td>\n",
              "      <td>[Fresh Tomato Salsa, [Fajita Vegetables, Pinto...</td>\n",
              "      <td>$11.25</td>\n",
              "    </tr>\n",
              "    <tr>\n",
              "      <th>4620</th>\n",
              "      <td>1834</td>\n",
              "      <td>1</td>\n",
              "      <td>Chicken Salad Bowl</td>\n",
              "      <td>[Fresh Tomato Salsa, [Fajita Vegetables, Lettu...</td>\n",
              "      <td>$8.75</td>\n",
              "    </tr>\n",
              "    <tr>\n",
              "      <th>4621</th>\n",
              "      <td>1834</td>\n",
              "      <td>1</td>\n",
              "      <td>Chicken Salad Bowl</td>\n",
              "      <td>[Fresh Tomato Salsa, [Fajita Vegetables, Pinto...</td>\n",
              "      <td>$8.75</td>\n",
              "    </tr>\n",
              "  </tbody>\n",
              "</table>\n",
              "<p>4622 rows × 5 columns</p>\n",
              "</div>"
            ],
            "text/plain": [
              "      order_id  quantity                              item_name  \\\n",
              "0            1         1           Chips and Fresh Tomato Salsa   \n",
              "1            1         1                                   Izze   \n",
              "2            1         1                       Nantucket Nectar   \n",
              "3            1         1  Chips and Tomatillo-Green Chili Salsa   \n",
              "4            2         2                           Chicken Bowl   \n",
              "...        ...       ...                                    ...   \n",
              "4617      1833         1                          Steak Burrito   \n",
              "4618      1833         1                          Steak Burrito   \n",
              "4619      1834         1                     Chicken Salad Bowl   \n",
              "4620      1834         1                     Chicken Salad Bowl   \n",
              "4621      1834         1                     Chicken Salad Bowl   \n",
              "\n",
              "                                     choice_description item_price  \n",
              "0                                                   NaN     $2.39   \n",
              "1                                          [Clementine]     $3.39   \n",
              "2                                               [Apple]     $3.39   \n",
              "3                                                   NaN     $2.39   \n",
              "4     [Tomatillo-Red Chili Salsa (Hot), [Black Beans...    $16.98   \n",
              "...                                                 ...        ...  \n",
              "4617  [Fresh Tomato Salsa, [Rice, Black Beans, Sour ...    $11.75   \n",
              "4618  [Fresh Tomato Salsa, [Rice, Sour Cream, Cheese...    $11.75   \n",
              "4619  [Fresh Tomato Salsa, [Fajita Vegetables, Pinto...    $11.25   \n",
              "4620  [Fresh Tomato Salsa, [Fajita Vegetables, Lettu...     $8.75   \n",
              "4621  [Fresh Tomato Salsa, [Fajita Vegetables, Pinto...     $8.75   \n",
              "\n",
              "[4622 rows x 5 columns]"
            ]
          },
          "metadata": {
            "tags": []
          },
          "execution_count": 2
        }
      ]
    },
    {
      "cell_type": "code",
      "metadata": {
        "id": "0HJ6wZud94Mc",
        "outputId": "30e769e4-f17e-4182-94cd-331d66064502"
      },
      "source": [
        "# 데이터 프레임 확인\n",
        "chipo.info()"
      ],
      "execution_count": null,
      "outputs": [
        {
          "output_type": "stream",
          "text": [
            "<class 'pandas.core.frame.DataFrame'>\n",
            "RangeIndex: 4622 entries, 0 to 4621\n",
            "Data columns (total 5 columns):\n",
            " #   Column              Non-Null Count  Dtype \n",
            "---  ------              --------------  ----- \n",
            " 0   order_id            4622 non-null   int64 \n",
            " 1   quantity            4622 non-null   int64 \n",
            " 2   item_name           4622 non-null   object\n",
            " 3   choice_description  3376 non-null   object\n",
            " 4   item_price          4622 non-null   object\n",
            "dtypes: int64(2), object(3)\n",
            "memory usage: 180.7+ KB\n"
          ],
          "name": "stdout"
        }
      ]
    },
    {
      "cell_type": "code",
      "metadata": {
        "id": "ZLZN5nK_94Md",
        "outputId": "fe747192-66ac-4f7f-9b48-3b1a886b192f"
      },
      "source": [
        "# 결측치 확인\n",
        "chipo.isna().sum()"
      ],
      "execution_count": null,
      "outputs": [
        {
          "output_type": "execute_result",
          "data": {
            "text/plain": [
              "order_id                 0\n",
              "quantity                 0\n",
              "item_name                0\n",
              "choice_description    1246\n",
              "item_price               0\n",
              "dtype: int64"
            ]
          },
          "metadata": {
            "tags": []
          },
          "execution_count": 4
        }
      ]
    },
    {
      "cell_type": "code",
      "metadata": {
        "id": "DccoXSq094Mf",
        "outputId": "f926db64-705b-4bde-b4f9-158dbbdeee27"
      },
      "source": [
        "# 컬럼명확인\n",
        "chipo.columns"
      ],
      "execution_count": null,
      "outputs": [
        {
          "output_type": "execute_result",
          "data": {
            "text/plain": [
              "Index(['order_id', 'quantity', 'item_name', 'choice_description',\n",
              "       'item_price'],\n",
              "      dtype='object')"
            ]
          },
          "metadata": {
            "tags": []
          },
          "execution_count": 5
        }
      ]
    },
    {
      "cell_type": "code",
      "metadata": {
        "id": "9cK7SbDo94Mg",
        "outputId": "d6511b3e-25ff-46c2-efb1-d585c03b2299"
      },
      "source": [
        "# 인덱스확인\n",
        "chipo.index"
      ],
      "execution_count": null,
      "outputs": [
        {
          "output_type": "execute_result",
          "data": {
            "text/plain": [
              "RangeIndex(start=0, stop=4622, step=1)"
            ]
          },
          "metadata": {
            "tags": []
          },
          "execution_count": 6
        }
      ]
    },
    {
      "cell_type": "markdown",
      "metadata": {
        "id": "kKi7XTxg94Mi"
      },
      "source": [
        "### 요약 통계 정보\n",
        "####  .describe()\n",
        "- 숫자 데이터에 대한 요약 통계 정보\n",
        "- 숫자 데이터 중에 범위형 데이터의 컬럼만 확인한다.\n",
        "- count : 결측치를 제외한 개수\n",
        "- mean : 결측치를 제외한 평균\n",
        "- std : 결측치를 제외한 표준 편차\n",
        "- min : 결측치를 제외한 최소값\n",
        "- 25% : 결측치를 제외한 25% 위치 값\n",
        "- 50% : 결측치를 제외한 50% 위치 값\n",
        "- 75% : 결측치를 제외한 75% 위치 값\n",
        "- max : 결측치를 제외한 최대값"
      ]
    },
    {
      "cell_type": "code",
      "metadata": {
        "id": "WTyA-Og494Mj",
        "outputId": "dce45902-969f-4280-e618-c11a778fc8fb"
      },
      "source": [
        "chipo[['order_id', 'quantity']].describe()"
      ],
      "execution_count": null,
      "outputs": [
        {
          "output_type": "execute_result",
          "data": {
            "text/html": [
              "<div>\n",
              "<style scoped>\n",
              "    .dataframe tbody tr th:only-of-type {\n",
              "        vertical-align: middle;\n",
              "    }\n",
              "\n",
              "    .dataframe tbody tr th {\n",
              "        vertical-align: top;\n",
              "    }\n",
              "\n",
              "    .dataframe thead th {\n",
              "        text-align: right;\n",
              "    }\n",
              "</style>\n",
              "<table border=\"1\" class=\"dataframe\">\n",
              "  <thead>\n",
              "    <tr style=\"text-align: right;\">\n",
              "      <th></th>\n",
              "      <th>order_id</th>\n",
              "      <th>quantity</th>\n",
              "    </tr>\n",
              "  </thead>\n",
              "  <tbody>\n",
              "    <tr>\n",
              "      <th>count</th>\n",
              "      <td>4622.000000</td>\n",
              "      <td>4622.000000</td>\n",
              "    </tr>\n",
              "    <tr>\n",
              "      <th>mean</th>\n",
              "      <td>927.254868</td>\n",
              "      <td>1.075725</td>\n",
              "    </tr>\n",
              "    <tr>\n",
              "      <th>std</th>\n",
              "      <td>528.890796</td>\n",
              "      <td>0.410186</td>\n",
              "    </tr>\n",
              "    <tr>\n",
              "      <th>min</th>\n",
              "      <td>1.000000</td>\n",
              "      <td>1.000000</td>\n",
              "    </tr>\n",
              "    <tr>\n",
              "      <th>25%</th>\n",
              "      <td>477.250000</td>\n",
              "      <td>1.000000</td>\n",
              "    </tr>\n",
              "    <tr>\n",
              "      <th>50%</th>\n",
              "      <td>926.000000</td>\n",
              "      <td>1.000000</td>\n",
              "    </tr>\n",
              "    <tr>\n",
              "      <th>75%</th>\n",
              "      <td>1393.000000</td>\n",
              "      <td>1.000000</td>\n",
              "    </tr>\n",
              "    <tr>\n",
              "      <th>max</th>\n",
              "      <td>1834.000000</td>\n",
              "      <td>15.000000</td>\n",
              "    </tr>\n",
              "  </tbody>\n",
              "</table>\n",
              "</div>"
            ],
            "text/plain": [
              "          order_id     quantity\n",
              "count  4622.000000  4622.000000\n",
              "mean    927.254868     1.075725\n",
              "std     528.890796     0.410186\n",
              "min       1.000000     1.000000\n",
              "25%     477.250000     1.000000\n",
              "50%     926.000000     1.000000\n",
              "75%    1393.000000     1.000000\n",
              "max    1834.000000    15.000000"
            ]
          },
          "metadata": {
            "tags": []
          },
          "execution_count": 7
        }
      ]
    },
    {
      "cell_type": "markdown",
      "metadata": {
        "id": "Q9j0ancy-TAh"
      },
      "source": [
        "### 문자열 컬럼 요약통계 정보\n",
        "- 숫자 컬럼이라고 하더라도 카테고리형 데이터라고 한다면 문자로 변환한다음\n",
        "- 문자열 컬럼 요약통계 정보로 확인한다.\n",
        "- count : 결측치를 제외한 데이터의 개수\n",
        "- unique : 중복을 제거한 값의 종류 수\n",
        "- top : 제일 많이 출현한 값\n",
        "- freq : top의 값이 출현한 수"
      ]
    },
    {
      "cell_type": "code",
      "metadata": {
        "id": "rWRCvTwX94Ml",
        "outputId": "1161e1e0-0f6e-40d6-984b-1c56cca0b810"
      },
      "source": [
        "chipo[['item_name', 'choice_description', 'item_price']].describe()"
      ],
      "execution_count": null,
      "outputs": [
        {
          "output_type": "execute_result",
          "data": {
            "text/html": [
              "<div>\n",
              "<style scoped>\n",
              "    .dataframe tbody tr th:only-of-type {\n",
              "        vertical-align: middle;\n",
              "    }\n",
              "\n",
              "    .dataframe tbody tr th {\n",
              "        vertical-align: top;\n",
              "    }\n",
              "\n",
              "    .dataframe thead th {\n",
              "        text-align: right;\n",
              "    }\n",
              "</style>\n",
              "<table border=\"1\" class=\"dataframe\">\n",
              "  <thead>\n",
              "    <tr style=\"text-align: right;\">\n",
              "      <th></th>\n",
              "      <th>item_name</th>\n",
              "      <th>choice_description</th>\n",
              "      <th>item_price</th>\n",
              "    </tr>\n",
              "  </thead>\n",
              "  <tbody>\n",
              "    <tr>\n",
              "      <th>count</th>\n",
              "      <td>4622</td>\n",
              "      <td>3376</td>\n",
              "      <td>4622</td>\n",
              "    </tr>\n",
              "    <tr>\n",
              "      <th>unique</th>\n",
              "      <td>50</td>\n",
              "      <td>1043</td>\n",
              "      <td>78</td>\n",
              "    </tr>\n",
              "    <tr>\n",
              "      <th>top</th>\n",
              "      <td>Chicken Bowl</td>\n",
              "      <td>[Diet Coke]</td>\n",
              "      <td>$8.75</td>\n",
              "    </tr>\n",
              "    <tr>\n",
              "      <th>freq</th>\n",
              "      <td>726</td>\n",
              "      <td>134</td>\n",
              "      <td>730</td>\n",
              "    </tr>\n",
              "  </tbody>\n",
              "</table>\n",
              "</div>"
            ],
            "text/plain": [
              "           item_name choice_description item_price\n",
              "count           4622               3376       4622\n",
              "unique            50               1043         78\n",
              "top     Chicken Bowl        [Diet Coke]     $8.75 \n",
              "freq             726                134        730"
            ]
          },
          "metadata": {
            "tags": []
          },
          "execution_count": 8
        }
      ]
    },
    {
      "cell_type": "markdown",
      "metadata": {
        "id": "GPHLF8nP94Mm"
      },
      "source": [
        "### 카테고리형 데이터의 데이터 종류"
      ]
    },
    {
      "cell_type": "code",
      "metadata": {
        "id": "inV3UsIN94Mn",
        "outputId": "a2ec66e2-5ac0-4c9e-e2f0-24adcc9b2c49"
      },
      "source": [
        "chipo['item_name'].value_counts().index"
      ],
      "execution_count": null,
      "outputs": [
        {
          "output_type": "execute_result",
          "data": {
            "text/plain": [
              "Index(['Chicken Bowl', 'Chicken Burrito', 'Chips and Guacamole',\n",
              "       'Steak Burrito', 'Canned Soft Drink', 'Steak Bowl', 'Chips',\n",
              "       'Bottled Water', 'Chicken Soft Tacos', 'Chips and Fresh Tomato Salsa',\n",
              "       'Chicken Salad Bowl', 'Canned Soda', 'Side of Chips', 'Veggie Burrito',\n",
              "       'Barbacoa Burrito', 'Veggie Bowl', 'Carnitas Bowl', 'Barbacoa Bowl',\n",
              "       'Carnitas Burrito', 'Steak Soft Tacos', '6 Pack Soft Drink',\n",
              "       'Chips and Tomatillo Red Chili Salsa', 'Chicken Crispy Tacos',\n",
              "       'Chips and Tomatillo Green Chili Salsa', 'Carnitas Soft Tacos',\n",
              "       'Steak Crispy Tacos', 'Chips and Tomatillo-Green Chili Salsa',\n",
              "       'Steak Salad Bowl', 'Nantucket Nectar', 'Barbacoa Soft Tacos',\n",
              "       'Chips and Roasted Chili Corn Salsa',\n",
              "       'Chips and Tomatillo-Red Chili Salsa', 'Izze',\n",
              "       'Chips and Roasted Chili-Corn Salsa', 'Veggie Salad Bowl',\n",
              "       'Barbacoa Crispy Tacos', 'Barbacoa Salad Bowl', 'Chicken Salad',\n",
              "       'Carnitas Crispy Tacos', 'Veggie Soft Tacos', 'Carnitas Salad Bowl',\n",
              "       'Veggie Salad', 'Burrito', 'Steak Salad', 'Bowl', 'Salad',\n",
              "       'Crispy Tacos', 'Carnitas Salad', 'Veggie Crispy Tacos',\n",
              "       'Chips and Mild Fresh Tomato Salsa'],\n",
              "      dtype='object')"
            ]
          },
          "metadata": {
            "tags": []
          },
          "execution_count": 9
        }
      ]
    },
    {
      "cell_type": "code",
      "metadata": {
        "id": "TIojBreL94Mo",
        "outputId": "6d5096d4-53f3-4ab4-f547-55b90c649269"
      },
      "source": [
        "# 컬럼내에서 중복을 제외하고 데이터를 가져온다.\n",
        "chipo['item_name'].unique()"
      ],
      "execution_count": null,
      "outputs": [
        {
          "output_type": "execute_result",
          "data": {
            "text/plain": [
              "array(['Chips and Fresh Tomato Salsa', 'Izze', 'Nantucket Nectar',\n",
              "       'Chips and Tomatillo-Green Chili Salsa', 'Chicken Bowl',\n",
              "       'Side of Chips', 'Steak Burrito', 'Steak Soft Tacos',\n",
              "       'Chips and Guacamole', 'Chicken Crispy Tacos',\n",
              "       'Chicken Soft Tacos', 'Chicken Burrito', 'Canned Soda',\n",
              "       'Barbacoa Burrito', 'Carnitas Burrito', 'Carnitas Bowl',\n",
              "       'Bottled Water', 'Chips and Tomatillo Green Chili Salsa',\n",
              "       'Barbacoa Bowl', 'Chips', 'Chicken Salad Bowl', 'Steak Bowl',\n",
              "       'Barbacoa Soft Tacos', 'Veggie Burrito', 'Veggie Bowl',\n",
              "       'Steak Crispy Tacos', 'Chips and Tomatillo Red Chili Salsa',\n",
              "       'Barbacoa Crispy Tacos', 'Veggie Salad Bowl',\n",
              "       'Chips and Roasted Chili-Corn Salsa',\n",
              "       'Chips and Roasted Chili Corn Salsa', 'Carnitas Soft Tacos',\n",
              "       'Chicken Salad', 'Canned Soft Drink', 'Steak Salad Bowl',\n",
              "       '6 Pack Soft Drink', 'Chips and Tomatillo-Red Chili Salsa', 'Bowl',\n",
              "       'Burrito', 'Crispy Tacos', 'Carnitas Crispy Tacos', 'Steak Salad',\n",
              "       'Chips and Mild Fresh Tomato Salsa', 'Veggie Soft Tacos',\n",
              "       'Carnitas Salad Bowl', 'Barbacoa Salad Bowl', 'Salad',\n",
              "       'Veggie Crispy Tacos', 'Veggie Salad', 'Carnitas Salad'],\n",
              "      dtype=object)"
            ]
          },
          "metadata": {
            "tags": []
          },
          "execution_count": 10
        }
      ]
    },
    {
      "cell_type": "code",
      "metadata": {
        "id": "rFZTdmki94Mp",
        "outputId": "506c0b13-9e32-45a2-a06c-9223901f3b1d"
      },
      "source": [
        "# 중복을 제외한 데이터의 개수\n",
        "len(chipo['item_name'].unique())"
      ],
      "execution_count": null,
      "outputs": [
        {
          "output_type": "execute_result",
          "data": {
            "text/plain": [
              "50"
            ]
          },
          "metadata": {
            "tags": []
          },
          "execution_count": 11
        }
      ]
    },
    {
      "cell_type": "markdown",
      "metadata": {
        "id": "1Tkt_qYw94Mq"
      },
      "source": [
        "이 식당의 메뉴는 총 50가지가 된다."
      ]
    },
    {
      "cell_type": "markdown",
      "metadata": {
        "id": "03snY8Zr-7FW"
      },
      "source": [
        "### 가장 많이 주문한 item 파악하기"
      ]
    },
    {
      "cell_type": "code",
      "metadata": {
        "id": "fWPnNYZe-7FX",
        "outputId": "2c3712fc-3832-458a-ca86-855141516747"
      },
      "source": [
        "# 상품 이름별 몇 개씩 저장되어 있는지 값을 가져온다.\n",
        "a1 = chipo['item_name'].value_counts()\n",
        "# 만약 결과에서 정렬이 안되어 있다면..\n",
        "# a1.sort_values(ascending=False, inplace=True)\n",
        "# 처음 것을 가져온다.\n",
        "print(f'가장 많이 주문한 음식 : {a1.index[0]}')"
      ],
      "execution_count": null,
      "outputs": [
        {
          "output_type": "stream",
          "text": [
            "가장 많이 주문한 음식 : Chicken Bowl\n"
          ],
          "name": "stdout"
        }
      ]
    },
    {
      "cell_type": "markdown",
      "metadata": {
        "id": "VB_sRm4294Mr"
      },
      "source": [
        "### item_name 당 주문 개수와 총량을 구한다."
      ]
    },
    {
      "cell_type": "code",
      "metadata": {
        "id": "ZjtkGHw694Ms",
        "outputId": "a11aa7bf-d891-4036-a79e-97c93b3439ee"
      },
      "source": [
        "# item 당 주문 개수를 가져온다.\n",
        "order_count = chipo.groupby('item_name')['order_id'].count()\n",
        "order_count.sort_values(ascending=False)"
      ],
      "execution_count": null,
      "outputs": [
        {
          "output_type": "execute_result",
          "data": {
            "text/plain": [
              "item_name\n",
              "Chicken Bowl                             726\n",
              "Chicken Burrito                          553\n",
              "Chips and Guacamole                      479\n",
              "Steak Burrito                            368\n",
              "Canned Soft Drink                        301\n",
              "Steak Bowl                               211\n",
              "Chips                                    211\n",
              "Bottled Water                            162\n",
              "Chicken Soft Tacos                       115\n",
              "Chicken Salad Bowl                       110\n",
              "Chips and Fresh Tomato Salsa             110\n",
              "Canned Soda                              104\n",
              "Side of Chips                            101\n",
              "Veggie Burrito                            95\n",
              "Barbacoa Burrito                          91\n",
              "Veggie Bowl                               85\n",
              "Carnitas Bowl                             68\n",
              "Barbacoa Bowl                             66\n",
              "Carnitas Burrito                          59\n",
              "Steak Soft Tacos                          55\n",
              "6 Pack Soft Drink                         54\n",
              "Chips and Tomatillo Red Chili Salsa       48\n",
              "Chicken Crispy Tacos                      47\n",
              "Chips and Tomatillo Green Chili Salsa     43\n",
              "Carnitas Soft Tacos                       40\n",
              "Steak Crispy Tacos                        35\n",
              "Chips and Tomatillo-Green Chili Salsa     31\n",
              "Steak Salad Bowl                          29\n",
              "Nantucket Nectar                          27\n",
              "Barbacoa Soft Tacos                       25\n",
              "Chips and Roasted Chili Corn Salsa        22\n",
              "Chips and Tomatillo-Red Chili Salsa       20\n",
              "Izze                                      20\n",
              "Chips and Roasted Chili-Corn Salsa        18\n",
              "Veggie Salad Bowl                         18\n",
              "Barbacoa Crispy Tacos                     11\n",
              "Barbacoa Salad Bowl                       10\n",
              "Chicken Salad                              9\n",
              "Veggie Soft Tacos                          7\n",
              "Carnitas Crispy Tacos                      7\n",
              "Burrito                                    6\n",
              "Carnitas Salad Bowl                        6\n",
              "Veggie Salad                               6\n",
              "Steak Salad                                4\n",
              "Salad                                      2\n",
              "Bowl                                       2\n",
              "Crispy Tacos                               2\n",
              "Chips and Mild Fresh Tomato Salsa          1\n",
              "Veggie Crispy Tacos                        1\n",
              "Carnitas Salad                             1\n",
              "Name: order_id, dtype: int64"
            ]
          },
          "metadata": {
            "tags": []
          },
          "execution_count": 13
        }
      ]
    },
    {
      "cell_type": "code",
      "metadata": {
        "id": "1on3XUs294Ms",
        "outputId": "baa6bdcd-20e8-4d39-ccb6-d305fac7c9e4"
      },
      "source": [
        "# item 당 주문 총량을 구한다\n",
        "item_quantity = chipo.groupby('item_name')['quantity'].sum()\n",
        "item_quantity.sort_values(ascending=False)"
      ],
      "execution_count": null,
      "outputs": [
        {
          "output_type": "execute_result",
          "data": {
            "text/plain": [
              "item_name\n",
              "Chicken Bowl                             761\n",
              "Chicken Burrito                          591\n",
              "Chips and Guacamole                      506\n",
              "Steak Burrito                            386\n",
              "Canned Soft Drink                        351\n",
              "Chips                                    230\n",
              "Steak Bowl                               221\n",
              "Bottled Water                            211\n",
              "Chips and Fresh Tomato Salsa             130\n",
              "Canned Soda                              126\n",
              "Chicken Salad Bowl                       123\n",
              "Chicken Soft Tacos                       120\n",
              "Side of Chips                            110\n",
              "Veggie Burrito                            97\n",
              "Barbacoa Burrito                          91\n",
              "Veggie Bowl                               87\n",
              "Carnitas Bowl                             71\n",
              "Barbacoa Bowl                             66\n",
              "Carnitas Burrito                          60\n",
              "Steak Soft Tacos                          56\n",
              "6 Pack Soft Drink                         55\n",
              "Chips and Tomatillo Red Chili Salsa       50\n",
              "Chicken Crispy Tacos                      50\n",
              "Chips and Tomatillo Green Chili Salsa     45\n",
              "Carnitas Soft Tacos                       40\n",
              "Steak Crispy Tacos                        36\n",
              "Chips and Tomatillo-Green Chili Salsa     33\n",
              "Steak Salad Bowl                          31\n",
              "Nantucket Nectar                          29\n",
              "Chips and Tomatillo-Red Chili Salsa       25\n",
              "Barbacoa Soft Tacos                       25\n",
              "Chips and Roasted Chili Corn Salsa        23\n",
              "Izze                                      20\n",
              "Chips and Roasted Chili-Corn Salsa        18\n",
              "Veggie Salad Bowl                         18\n",
              "Barbacoa Crispy Tacos                     12\n",
              "Barbacoa Salad Bowl                       10\n",
              "Chicken Salad                              9\n",
              "Veggie Soft Tacos                          8\n",
              "Carnitas Crispy Tacos                      8\n",
              "Burrito                                    6\n",
              "Carnitas Salad Bowl                        6\n",
              "Veggie Salad                               6\n",
              "Steak Salad                                4\n",
              "Bowl                                       4\n",
              "Salad                                      2\n",
              "Crispy Tacos                               2\n",
              "Chips and Mild Fresh Tomato Salsa          1\n",
              "Veggie Crispy Tacos                        1\n",
              "Carnitas Salad                             1\n",
              "Name: quantity, dtype: int64"
            ]
          },
          "metadata": {
            "tags": []
          },
          "execution_count": 14
        }
      ]
    },
    {
      "cell_type": "code",
      "metadata": {
        "id": "5l4eoA9Y94Mt",
        "outputId": "a93cad1c-4920-444a-ad60-e95f990b427c"
      },
      "source": [
        "# 각 상품별 주문 횟수\n",
        "order_count = order_count.sort_values(ascending=False)\n",
        "item_name_list = order_count.index.tolist()\n",
        "# x 축 (상품의 개수만큼 값이 들어있는 range)\n",
        "x = np.arange(len(item_name_list))\n",
        "# x = order_count.index\n",
        "# 상품별 주문 횟수\n",
        "order_count2 = order_count.values.tolist()\n",
        "\n",
        "# 시각화\n",
        "plt.bar(x, order_count2, align='center')\n",
        "plt.ylabel('상품 주문 횟수')\n",
        "plt.xlabel('상품 인덱스')\n",
        "plt.title('각 상품별 주문 횟수')\n",
        "plt.show()"
      ],
      "execution_count": null,
      "outputs": [
        {
          "output_type": "display_data",
          "data": {
            "image/png": "[encoded data removed]",
            "text/plain": [
              "<Figure size 1440x720 with 1 Axes>"
            ]
          },
          "metadata": {
            "tags": [],
            "needs_background": "light"
          }
        }
      ]
    },
    {
      "cell_type": "code",
      "metadata": {
        "id": "Y5W9zP4A94Mu",
        "outputId": "507455fa-5ea5-4101-d5c4-738bb24845b9"
      },
      "source": [
        "order_count.head(10)"
      ],
      "execution_count": null,
      "outputs": [
        {
          "output_type": "execute_result",
          "data": {
            "text/plain": [
              "item_name\n",
              "Chicken Bowl           726\n",
              "Chicken Burrito        553\n",
              "Chips and Guacamole    479\n",
              "Steak Burrito          368\n",
              "Canned Soft Drink      301\n",
              "Steak Bowl             211\n",
              "Chips                  211\n",
              "Bottled Water          162\n",
              "Chicken Soft Tacos     115\n",
              "Chicken Salad Bowl     110\n",
              "Name: order_id, dtype: int64"
            ]
          },
          "metadata": {
            "tags": []
          },
          "execution_count": 16
        }
      ]
    },
    {
      "cell_type": "code",
      "metadata": {
        "id": "6PMDdkeE94Mu",
        "outputId": "b38647e8-3833-4bf7-f37a-f9c4f4ce6ae9"
      },
      "source": [
        "# 주문 상품 총 개수\n",
        "# 값을 기준으로 내림차순 정렬을 한다.\n",
        "item_quantity.sort_values(ascending=False, inplace=True)\n",
        "\n",
        "# 상품 이름 목록을 가져온다.\n",
        "item_name_list = item_quantity.index.tolist()\n",
        "\n",
        "# X 축(상품의개수만큼 값이 들어있는 range)\n",
        "x_pos = np.arange(len(item_name_list))\n",
        "\n",
        "# 상품별 주문 개수\n",
        "item_cnt = item_quantity.values.tolist()\n",
        "\n",
        "# 시각화\n",
        "plt.bar(x_pos, item_cnt, align='center')\n",
        "plt.ylabel('상품 주문 개수')\n",
        "plt.xlabel('상품 인덱스')\n",
        "plt.title('각 상품별 주문 개수')\n",
        "plt.show()"
      ],
      "execution_count": null,
      "outputs": [
        {
          "output_type": "display_data",
          "data": {
            "image/png": "[encoded data removed]",
            "text/plain": [
              "<Figure size 1440x720 with 1 Axes>"
            ]
          },
          "metadata": {
            "tags": [],
            "needs_background": "light"
          }
        }
      ]
    },
    {
      "cell_type": "code",
      "metadata": {
        "id": "2-dKQ5DL94Mw",
        "outputId": "cf6d467c-6a37-4d43-940d-88e2bd7b2661"
      },
      "source": [
        "item_quantity.head(10)"
      ],
      "execution_count": null,
      "outputs": [
        {
          "output_type": "execute_result",
          "data": {
            "text/plain": [
              "item_name\n",
              "Chicken Bowl                    761\n",
              "Chicken Burrito                 591\n",
              "Chips and Guacamole             506\n",
              "Steak Burrito                   386\n",
              "Canned Soft Drink               351\n",
              "Chips                           230\n",
              "Steak Bowl                      221\n",
              "Bottled Water                   211\n",
              "Chips and Fresh Tomato Salsa    130\n",
              "Canned Soda                     126\n",
              "Name: quantity, dtype: int64"
            ]
          },
          "metadata": {
            "tags": []
          },
          "execution_count": 18
        }
      ]
    },
    {
      "cell_type": "code",
      "metadata": {
        "id": "HS6Ct_Jp94Mw",
        "outputId": "bfa2f457-dc23-4dc6-d691-8d9a442e5d3c"
      },
      "source": [
        "df1 = pd.DataFrame({\n",
        "    '주문횟수 top10 상품명' : order_count.head(10).index,\n",
        "    '주문횟수' : order_count.head(10).values,\n",
        "    '주문개수 top10 상품명' : item_quantity.head(10).index,\n",
        "    '주문개수' : item_quantity.head(10).values\n",
        "})\n",
        "\n",
        "df1"
      ],
      "execution_count": null,
      "outputs": [
        {
          "output_type": "execute_result",
          "data": {
            "text/html": [
              "<div>\n",
              "<style scoped>\n",
              "    .dataframe tbody tr th:only-of-type {\n",
              "        vertical-align: middle;\n",
              "    }\n",
              "\n",
              "    .dataframe tbody tr th {\n",
              "        vertical-align: top;\n",
              "    }\n",
              "\n",
              "    .dataframe thead th {\n",
              "        text-align: right;\n",
              "    }\n",
              "</style>\n",
              "<table border=\"1\" class=\"dataframe\">\n",
              "  <thead>\n",
              "    <tr style=\"text-align: right;\">\n",
              "      <th></th>\n",
              "      <th>주문횟수 top10 상품명</th>\n",
              "      <th>주문횟수</th>\n",
              "      <th>주문개수 top10 상품명</th>\n",
              "      <th>주문개수</th>\n",
              "    </tr>\n",
              "  </thead>\n",
              "  <tbody>\n",
              "    <tr>\n",
              "      <th>0</th>\n",
              "      <td>Chicken Bowl</td>\n",
              "      <td>726</td>\n",
              "      <td>Chicken Bowl</td>\n",
              "      <td>761</td>\n",
              "    </tr>\n",
              "    <tr>\n",
              "      <th>1</th>\n",
              "      <td>Chicken Burrito</td>\n",
              "      <td>553</td>\n",
              "      <td>Chicken Burrito</td>\n",
              "      <td>591</td>\n",
              "    </tr>\n",
              "    <tr>\n",
              "      <th>2</th>\n",
              "      <td>Chips and Guacamole</td>\n",
              "      <td>479</td>\n",
              "      <td>Chips and Guacamole</td>\n",
              "      <td>506</td>\n",
              "    </tr>\n",
              "    <tr>\n",
              "      <th>3</th>\n",
              "      <td>Steak Burrito</td>\n",
              "      <td>368</td>\n",
              "      <td>Steak Burrito</td>\n",
              "      <td>386</td>\n",
              "    </tr>\n",
              "    <tr>\n",
              "      <th>4</th>\n",
              "      <td>Canned Soft Drink</td>\n",
              "      <td>301</td>\n",
              "      <td>Canned Soft Drink</td>\n",
              "      <td>351</td>\n",
              "    </tr>\n",
              "    <tr>\n",
              "      <th>5</th>\n",
              "      <td>Steak Bowl</td>\n",
              "      <td>211</td>\n",
              "      <td>Chips</td>\n",
              "      <td>230</td>\n",
              "    </tr>\n",
              "    <tr>\n",
              "      <th>6</th>\n",
              "      <td>Chips</td>\n",
              "      <td>211</td>\n",
              "      <td>Steak Bowl</td>\n",
              "      <td>221</td>\n",
              "    </tr>\n",
              "    <tr>\n",
              "      <th>7</th>\n",
              "      <td>Bottled Water</td>\n",
              "      <td>162</td>\n",
              "      <td>Bottled Water</td>\n",
              "      <td>211</td>\n",
              "    </tr>\n",
              "    <tr>\n",
              "      <th>8</th>\n",
              "      <td>Chicken Soft Tacos</td>\n",
              "      <td>115</td>\n",
              "      <td>Chips and Fresh Tomato Salsa</td>\n",
              "      <td>130</td>\n",
              "    </tr>\n",
              "    <tr>\n",
              "      <th>9</th>\n",
              "      <td>Chicken Salad Bowl</td>\n",
              "      <td>110</td>\n",
              "      <td>Canned Soda</td>\n",
              "      <td>126</td>\n",
              "    </tr>\n",
              "  </tbody>\n",
              "</table>\n",
              "</div>"
            ],
            "text/plain": [
              "        주문횟수 top10 상품명  주문횟수                주문개수 top10 상품명  주문개수\n",
              "0         Chicken Bowl   726                  Chicken Bowl   761\n",
              "1      Chicken Burrito   553               Chicken Burrito   591\n",
              "2  Chips and Guacamole   479           Chips and Guacamole   506\n",
              "3        Steak Burrito   368                 Steak Burrito   386\n",
              "4    Canned Soft Drink   301             Canned Soft Drink   351\n",
              "5           Steak Bowl   211                         Chips   230\n",
              "6                Chips   211                    Steak Bowl   221\n",
              "7        Bottled Water   162                 Bottled Water   211\n",
              "8   Chicken Soft Tacos   115  Chips and Fresh Tomato Salsa   130\n",
              "9   Chicken Salad Bowl   110                   Canned Soda   126"
            ]
          },
          "metadata": {
            "tags": []
          },
          "execution_count": 19
        }
      ]
    },
    {
      "cell_type": "markdown",
      "metadata": {
        "id": "xOYAd5T994Mx"
      },
      "source": [
        "### apply와 lambda 함수를 이용한 데이터 전처리"
      ]
    },
    {
      "cell_type": "markdown",
      "metadata": {
        "id": "ewCzCvr7_oOd"
      },
      "source": [
        "#### lambda와 같이 쓰는 연산\n",
        "- transform()= 각 원소를 살리고 그 안에 연산결과를 채운다.(평균값이 같으면 그대로 각각 같은값이 모든 행에 표시)\n",
        "- apply()= 그룹별로 행당 한줄의 정리된 값으로 정리되어 출력."
      ]
    },
    {
      "cell_type": "markdown",
      "metadata": {
        "id": "RrH597U3AImx"
      },
      "source": [
        "- 컬럼 단위 데이터에 apply 함수를 통해 전처리를 한다.\n",
        "- lambda : 먼저 lambada x 에서 x 에 데이터가 들어오게 된다.\n",
        "- 그 후 콜론(:) 뒤에 있는 식을 수행하여 그 결과를 반환한다.\n",
        "- apply : lambda 식으로 수행된 결과를 하니씩 쌓아서 Series로 반환한다.\n",
        "- lambda 식은 주어진 데이터의 수 만큼 반복한다."
      ]
    },
    {
      "cell_type": "code",
      "metadata": {
        "id": "t2S5AEwH94Mx",
        "outputId": "6f3a5439-4395-423f-86fd-c95e121f4955"
      },
      "source": [
        "chipo.info()"
      ],
      "execution_count": null,
      "outputs": [
        {
          "output_type": "stream",
          "text": [
            "<class 'pandas.core.frame.DataFrame'>\n",
            "RangeIndex: 4622 entries, 0 to 4621\n",
            "Data columns (total 5 columns):\n",
            " #   Column              Non-Null Count  Dtype \n",
            "---  ------              --------------  ----- \n",
            " 0   order_id            4622 non-null   int64 \n",
            " 1   quantity            4622 non-null   int64 \n",
            " 2   item_name           4622 non-null   object\n",
            " 3   choice_description  3376 non-null   object\n",
            " 4   item_price          4622 non-null   object\n",
            "dtypes: int64(2), object(3)\n",
            "memory usage: 180.7+ KB\n"
          ],
          "name": "stdout"
        }
      ]
    },
    {
      "cell_type": "code",
      "metadata": {
        "id": "TymMfdwR94My",
        "outputId": "eed008ed-11f4-4623-a09a-f3756e19b038"
      },
      "source": [
        "chipo['item_price']"
      ],
      "execution_count": null,
      "outputs": [
        {
          "output_type": "execute_result",
          "data": {
            "text/plain": [
              "0        $2.39 \n",
              "1        $3.39 \n",
              "2        $3.39 \n",
              "3        $2.39 \n",
              "4       $16.98 \n",
              "         ...   \n",
              "4617    $11.75 \n",
              "4618    $11.75 \n",
              "4619    $11.25 \n",
              "4620     $8.75 \n",
              "4621     $8.75 \n",
              "Name: item_price, Length: 4622, dtype: object"
            ]
          },
          "metadata": {
            "tags": []
          },
          "execution_count": 21
        }
      ]
    },
    {
      "cell_type": "code",
      "metadata": {
        "id": "RgSO_K0D94M1",
        "outputId": "b102abf0-e209-4847-a7a6-0678eb6700e8"
      },
      "source": [
        "chipo['item_price'].describe()"
      ],
      "execution_count": null,
      "outputs": [
        {
          "output_type": "execute_result",
          "data": {
            "text/plain": [
              "count    4622.000000\n",
              "mean        7.464336\n",
              "std         4.245557\n",
              "min         1.090000\n",
              "25%         3.390000\n",
              "50%         8.750000\n",
              "75%         9.250000\n",
              "max        44.250000\n",
              "Name: item_price, dtype: float64"
            ]
          },
          "metadata": {
            "tags": []
          },
          "execution_count": 31
        }
      ]
    },
    {
      "cell_type": "markdown",
      "metadata": {
        "id": "XxLlwFiK94M2"
      },
      "source": [
        "### 문제\n",
        "- 주문당 평균 계산 금액 출력\n",
        "- 한 주문에 10달러 이상 사용한 주문의 id를 출력한다.\n",
        "- 각 아이템의 가격 구하기\n",
        "- 가장 비싼 주문에서 item이 몇개 팔렸는지..\n",
        "- Veggie Salad Bowl'이 몇번 주문 되었는지.\n",
        "- 'Chiken Bowl'을 2개 이상 주문한 주문 횟수 구하기"
      ]
    },
    {
      "cell_type": "markdown",
      "metadata": {
        "id": "GYqyx9_m94M2"
      },
      "source": [
        "### 주문당 평균 계산 금액 출력"
      ]
    },
    {
      "cell_type": "code",
      "metadata": {
        "id": "c2rRrMPC94M3",
        "outputId": "c3d80007-9cdd-4b23-947c-744864c2415f"
      },
      "source": [
        "# 데이터 프레임 확인\n",
        "# order_id가 주문번호\n",
        "chipo.info()"
      ],
      "execution_count": null,
      "outputs": [
        {
          "output_type": "stream",
          "text": [
            "<class 'pandas.core.frame.DataFrame'>\n",
            "RangeIndex: 4622 entries, 0 to 4621\n",
            "Data columns (total 5 columns):\n",
            " #   Column              Non-Null Count  Dtype  \n",
            "---  ------              --------------  -----  \n",
            " 0   order_id            4622 non-null   int64  \n",
            " 1   quantity            4622 non-null   int64  \n",
            " 2   item_name           4622 non-null   object \n",
            " 3   choice_description  3376 non-null   object \n",
            " 4   item_price          4622 non-null   float64\n",
            "dtypes: float64(1), int64(2), object(2)\n",
            "memory usage: 180.7+ KB\n"
          ],
          "name": "stdout"
        }
      ]
    },
    {
      "cell_type": "code",
      "metadata": {
        "id": "TMjIqFpi94M3",
        "outputId": "47436234-cb2e-47a3-9ffa-1a7d2590dd42"
      },
      "source": [
        "# 추가 주문 내역이 없는 것을 가져온다.\n",
        "a1 = chipo['choice_description'].isna()\n",
        "a2 = chipo[a1]\n",
        "\n",
        "# quantity가 두 개인 것을 가져온다.\n",
        "a3 = a2.query('quantity == 2 and item_name == \"Chips\"')\n",
        "display(a3)\n",
        "\n",
        "# quantity가 한 개인 것을 가져온다.\n",
        "a4 = a2.query('quantity == 1 and item_name == \"Chips\"')\n",
        "display(a4)"
      ],
      "execution_count": null,
      "outputs": [
        {
          "output_type": "display_data",
          "data": {
            "text/html": [
              "<div>\n",
              "<style scoped>\n",
              "    .dataframe tbody tr th:only-of-type {\n",
              "        vertical-align: middle;\n",
              "    }\n",
              "\n",
              "    .dataframe tbody tr th {\n",
              "        vertical-align: top;\n",
              "    }\n",
              "\n",
              "    .dataframe thead th {\n",
              "        text-align: right;\n",
              "    }\n",
              "</style>\n",
              "<table border=\"1\" class=\"dataframe\">\n",
              "  <thead>\n",
              "    <tr style=\"text-align: right;\">\n",
              "      <th></th>\n",
              "      <th>order_id</th>\n",
              "      <th>quantity</th>\n",
              "      <th>item_name</th>\n",
              "      <th>choice_description</th>\n",
              "      <th>item_price</th>\n",
              "    </tr>\n",
              "  </thead>\n",
              "  <tbody>\n",
              "    <tr>\n",
              "      <th>223</th>\n",
              "      <td>98</td>\n",
              "      <td>2</td>\n",
              "      <td>Chips</td>\n",
              "      <td>NaN</td>\n",
              "      <td>4.3</td>\n",
              "    </tr>\n",
              "    <tr>\n",
              "      <th>828</th>\n",
              "      <td>343</td>\n",
              "      <td>2</td>\n",
              "      <td>Chips</td>\n",
              "      <td>NaN</td>\n",
              "      <td>4.3</td>\n",
              "    </tr>\n",
              "    <tr>\n",
              "      <th>1301</th>\n",
              "      <td>530</td>\n",
              "      <td>2</td>\n",
              "      <td>Chips</td>\n",
              "      <td>NaN</td>\n",
              "      <td>4.3</td>\n",
              "    </tr>\n",
              "    <tr>\n",
              "      <th>1600</th>\n",
              "      <td>648</td>\n",
              "      <td>2</td>\n",
              "      <td>Chips</td>\n",
              "      <td>NaN</td>\n",
              "      <td>4.3</td>\n",
              "    </tr>\n",
              "    <tr>\n",
              "      <th>1605</th>\n",
              "      <td>649</td>\n",
              "      <td>2</td>\n",
              "      <td>Chips</td>\n",
              "      <td>NaN</td>\n",
              "      <td>4.3</td>\n",
              "    </tr>\n",
              "    <tr>\n",
              "      <th>1850</th>\n",
              "      <td>750</td>\n",
              "      <td>2</td>\n",
              "      <td>Chips</td>\n",
              "      <td>NaN</td>\n",
              "      <td>4.3</td>\n",
              "    </tr>\n",
              "    <tr>\n",
              "      <th>1900</th>\n",
              "      <td>766</td>\n",
              "      <td>2</td>\n",
              "      <td>Chips</td>\n",
              "      <td>NaN</td>\n",
              "      <td>4.3</td>\n",
              "    </tr>\n",
              "    <tr>\n",
              "      <th>2112</th>\n",
              "      <td>850</td>\n",
              "      <td>2</td>\n",
              "      <td>Chips</td>\n",
              "      <td>NaN</td>\n",
              "      <td>4.3</td>\n",
              "    </tr>\n",
              "    <tr>\n",
              "      <th>2258</th>\n",
              "      <td>909</td>\n",
              "      <td>2</td>\n",
              "      <td>Chips</td>\n",
              "      <td>NaN</td>\n",
              "      <td>4.3</td>\n",
              "    </tr>\n",
              "    <tr>\n",
              "      <th>2343</th>\n",
              "      <td>934</td>\n",
              "      <td>2</td>\n",
              "      <td>Chips</td>\n",
              "      <td>NaN</td>\n",
              "      <td>4.3</td>\n",
              "    </tr>\n",
              "    <tr>\n",
              "      <th>2421</th>\n",
              "      <td>961</td>\n",
              "      <td>2</td>\n",
              "      <td>Chips</td>\n",
              "      <td>NaN</td>\n",
              "      <td>4.3</td>\n",
              "    </tr>\n",
              "    <tr>\n",
              "      <th>2746</th>\n",
              "      <td>1090</td>\n",
              "      <td>2</td>\n",
              "      <td>Chips</td>\n",
              "      <td>NaN</td>\n",
              "      <td>4.3</td>\n",
              "    </tr>\n",
              "    <tr>\n",
              "      <th>3291</th>\n",
              "      <td>1320</td>\n",
              "      <td>2</td>\n",
              "      <td>Chips</td>\n",
              "      <td>NaN</td>\n",
              "      <td>4.3</td>\n",
              "    </tr>\n",
              "    <tr>\n",
              "      <th>3932</th>\n",
              "      <td>1577</td>\n",
              "      <td>2</td>\n",
              "      <td>Chips</td>\n",
              "      <td>NaN</td>\n",
              "      <td>4.3</td>\n",
              "    </tr>\n",
              "    <tr>\n",
              "      <th>4126</th>\n",
              "      <td>1652</td>\n",
              "      <td>2</td>\n",
              "      <td>Chips</td>\n",
              "      <td>NaN</td>\n",
              "      <td>4.3</td>\n",
              "    </tr>\n",
              "    <tr>\n",
              "      <th>4389</th>\n",
              "      <td>1751</td>\n",
              "      <td>2</td>\n",
              "      <td>Chips</td>\n",
              "      <td>NaN</td>\n",
              "      <td>4.3</td>\n",
              "    </tr>\n",
              "    <tr>\n",
              "      <th>4417</th>\n",
              "      <td>1761</td>\n",
              "      <td>2</td>\n",
              "      <td>Chips</td>\n",
              "      <td>NaN</td>\n",
              "      <td>4.3</td>\n",
              "    </tr>\n",
              "  </tbody>\n",
              "</table>\n",
              "</div>"
            ],
            "text/plain": [
              "      order_id  quantity item_name choice_description  item_price\n",
              "223         98         2     Chips                NaN         4.3\n",
              "828        343         2     Chips                NaN         4.3\n",
              "1301       530         2     Chips                NaN         4.3\n",
              "1600       648         2     Chips                NaN         4.3\n",
              "1605       649         2     Chips                NaN         4.3\n",
              "1850       750         2     Chips                NaN         4.3\n",
              "1900       766         2     Chips                NaN         4.3\n",
              "2112       850         2     Chips                NaN         4.3\n",
              "2258       909         2     Chips                NaN         4.3\n",
              "2343       934         2     Chips                NaN         4.3\n",
              "2421       961         2     Chips                NaN         4.3\n",
              "2746      1090         2     Chips                NaN         4.3\n",
              "3291      1320         2     Chips                NaN         4.3\n",
              "3932      1577         2     Chips                NaN         4.3\n",
              "4126      1652         2     Chips                NaN         4.3\n",
              "4389      1751         2     Chips                NaN         4.3\n",
              "4417      1761         2     Chips                NaN         4.3"
            ]
          },
          "metadata": {
            "tags": []
          }
        },
        {
          "output_type": "display_data",
          "data": {
            "text/html": [
              "<div>\n",
              "<style scoped>\n",
              "    .dataframe tbody tr th:only-of-type {\n",
              "        vertical-align: middle;\n",
              "    }\n",
              "\n",
              "    .dataframe tbody tr th {\n",
              "        vertical-align: top;\n",
              "    }\n",
              "\n",
              "    .dataframe thead th {\n",
              "        text-align: right;\n",
              "    }\n",
              "</style>\n",
              "<table border=\"1\" class=\"dataframe\">\n",
              "  <thead>\n",
              "    <tr style=\"text-align: right;\">\n",
              "      <th></th>\n",
              "      <th>order_id</th>\n",
              "      <th>quantity</th>\n",
              "      <th>item_name</th>\n",
              "      <th>choice_description</th>\n",
              "      <th>item_price</th>\n",
              "    </tr>\n",
              "  </thead>\n",
              "  <tbody>\n",
              "    <tr>\n",
              "      <th>40</th>\n",
              "      <td>19</td>\n",
              "      <td>1</td>\n",
              "      <td>Chips</td>\n",
              "      <td>NaN</td>\n",
              "      <td>2.15</td>\n",
              "    </tr>\n",
              "    <tr>\n",
              "      <th>59</th>\n",
              "      <td>27</td>\n",
              "      <td>1</td>\n",
              "      <td>Chips</td>\n",
              "      <td>NaN</td>\n",
              "      <td>2.15</td>\n",
              "    </tr>\n",
              "    <tr>\n",
              "      <th>77</th>\n",
              "      <td>34</td>\n",
              "      <td>1</td>\n",
              "      <td>Chips</td>\n",
              "      <td>NaN</td>\n",
              "      <td>2.15</td>\n",
              "    </tr>\n",
              "    <tr>\n",
              "      <th>80</th>\n",
              "      <td>35</td>\n",
              "      <td>1</td>\n",
              "      <td>Chips</td>\n",
              "      <td>NaN</td>\n",
              "      <td>2.15</td>\n",
              "    </tr>\n",
              "    <tr>\n",
              "      <th>208</th>\n",
              "      <td>92</td>\n",
              "      <td>1</td>\n",
              "      <td>Chips</td>\n",
              "      <td>NaN</td>\n",
              "      <td>2.15</td>\n",
              "    </tr>\n",
              "    <tr>\n",
              "      <th>...</th>\n",
              "      <td>...</td>\n",
              "      <td>...</td>\n",
              "      <td>...</td>\n",
              "      <td>...</td>\n",
              "      <td>...</td>\n",
              "    </tr>\n",
              "    <tr>\n",
              "      <th>4505</th>\n",
              "      <td>1791</td>\n",
              "      <td>1</td>\n",
              "      <td>Chips</td>\n",
              "      <td>NaN</td>\n",
              "      <td>2.15</td>\n",
              "    </tr>\n",
              "    <tr>\n",
              "      <th>4509</th>\n",
              "      <td>1793</td>\n",
              "      <td>1</td>\n",
              "      <td>Chips</td>\n",
              "      <td>NaN</td>\n",
              "      <td>1.99</td>\n",
              "    </tr>\n",
              "    <tr>\n",
              "      <th>4525</th>\n",
              "      <td>1799</td>\n",
              "      <td>1</td>\n",
              "      <td>Chips</td>\n",
              "      <td>NaN</td>\n",
              "      <td>2.15</td>\n",
              "    </tr>\n",
              "    <tr>\n",
              "      <th>4584</th>\n",
              "      <td>1823</td>\n",
              "      <td>1</td>\n",
              "      <td>Chips</td>\n",
              "      <td>NaN</td>\n",
              "      <td>2.15</td>\n",
              "    </tr>\n",
              "    <tr>\n",
              "      <th>4613</th>\n",
              "      <td>1831</td>\n",
              "      <td>1</td>\n",
              "      <td>Chips</td>\n",
              "      <td>NaN</td>\n",
              "      <td>2.15</td>\n",
              "    </tr>\n",
              "  </tbody>\n",
              "</table>\n",
              "<p>193 rows × 5 columns</p>\n",
              "</div>"
            ],
            "text/plain": [
              "      order_id  quantity item_name choice_description  item_price\n",
              "40          19         1     Chips                NaN        2.15\n",
              "59          27         1     Chips                NaN        2.15\n",
              "77          34         1     Chips                NaN        2.15\n",
              "80          35         1     Chips                NaN        2.15\n",
              "208         92         1     Chips                NaN        2.15\n",
              "...        ...       ...       ...                ...         ...\n",
              "4505      1791         1     Chips                NaN        2.15\n",
              "4509      1793         1     Chips                NaN        1.99\n",
              "4525      1799         1     Chips                NaN        2.15\n",
              "4584      1823         1     Chips                NaN        2.15\n",
              "4613      1831         1     Chips                NaN        2.15\n",
              "\n",
              "[193 rows x 5 columns]"
            ]
          },
          "metadata": {
            "tags": []
          }
        }
      ]
    },
    {
      "cell_type": "markdown",
      "metadata": {
        "id": "pF0jpUf294M4"
      },
      "source": [
        "item_price 는 상품에 대한 단가가 아니라 해당 주문에 대한 총 금액임을 알 수 있다."
      ]
    },
    {
      "cell_type": "markdown",
      "metadata": {
        "id": "2PG3mzkt94M4"
      },
      "source": [
        "item_price는 단가에 quantity를 곱한 값이된다. 이에 order_id 를 기준으로 그룹을 묶고 평균을 구하면 된다. 만약 item_price가 단가였다면 item_price와 quantity를 곱한 결과를 가진 컬럼을 추가한다음에 그 컬럼의 평균을 구해야 한다."
      ]
    },
    {
      "cell_type": "code",
      "metadata": {
        "id": "Ma_mHxYK94M4",
        "outputId": "4fc12386-f6fd-4d7b-c12d-b1ad7999db59"
      },
      "source": [
        "# 주문당 평균을 구한다.\n",
        "chipo.groupby('order_id')['item_price'].mean()"
      ],
      "execution_count": null,
      "outputs": [
        {
          "output_type": "execute_result",
          "data": {
            "text/plain": [
              "order_id\n",
              "1        2.890000\n",
              "2       16.980000\n",
              "3        6.335000\n",
              "4       10.500000\n",
              "5        6.850000\n",
              "          ...    \n",
              "1830    11.500000\n",
              "1831     4.300000\n",
              "1832     6.600000\n",
              "1833    11.750000\n",
              "1834     9.583333\n",
              "Name: item_price, Length: 1834, dtype: float64"
            ]
          },
          "metadata": {
            "tags": []
          },
          "execution_count": 46
        }
      ]
    },
    {
      "cell_type": "code",
      "metadata": {
        "id": "wHvDiI1R94M5",
        "outputId": "3cfb4701-0d76-4ddd-cfc9-b2b740bf3242"
      },
      "source": [
        "# 주문당 총합을 구한다.\n",
        "chipo.groupby('order_id')['item_price'].sum()"
      ],
      "execution_count": null,
      "outputs": [
        {
          "output_type": "execute_result",
          "data": {
            "text/plain": [
              "order_id\n",
              "1       11.56\n",
              "2       16.98\n",
              "3       12.67\n",
              "4       21.00\n",
              "5       13.70\n",
              "        ...  \n",
              "1830    23.00\n",
              "1831    12.90\n",
              "1832    13.20\n",
              "1833    23.50\n",
              "1834    28.75\n",
              "Name: item_price, Length: 1834, dtype: float64"
            ]
          },
          "metadata": {
            "tags": []
          },
          "execution_count": 47
        }
      ]
    },
    {
      "cell_type": "code",
      "metadata": {
        "id": "Nhb_4XbQ94M5",
        "outputId": "b20b3f91-343e-407a-9d18-6de2f1cef856"
      },
      "source": [
        "# 주문당 주문건을 구한다.\n",
        "chipo.groupby('order_id')['item_price'].count()"
      ],
      "execution_count": null,
      "outputs": [
        {
          "output_type": "execute_result",
          "data": {
            "text/plain": [
              "order_id\n",
              "1       4\n",
              "2       1\n",
              "3       2\n",
              "4       2\n",
              "5       2\n",
              "       ..\n",
              "1830    2\n",
              "1831    3\n",
              "1832    2\n",
              "1833    2\n",
              "1834    3\n",
              "Name: item_price, Length: 1834, dtype: int64"
            ]
          },
          "metadata": {
            "tags": []
          },
          "execution_count": 48
        }
      ]
    },
    {
      "cell_type": "markdown",
      "metadata": {
        "id": "w0crGMGH94M6"
      },
      "source": [
        "### 한 주문에서 20달러 이상 사용한 주문의 id를 가져온다."
      ]
    },
    {
      "cell_type": "code",
      "metadata": {
        "id": "aZxwtpk_94M6",
        "outputId": "c01bd6f4-430a-4542-97c0-064a6af3448b"
      },
      "source": [
        "# 각 주문별 총 주문 금액을 가져온다.\n",
        "a1 = chipo.groupby('order_id')['item_price'].sum()\n",
        "a1"
      ],
      "execution_count": null,
      "outputs": [
        {
          "output_type": "execute_result",
          "data": {
            "text/plain": [
              "order_id\n",
              "1       11.56\n",
              "2       16.98\n",
              "3       12.67\n",
              "4       21.00\n",
              "5       13.70\n",
              "        ...  \n",
              "1830    23.00\n",
              "1831    12.90\n",
              "1832    13.20\n",
              "1833    23.50\n",
              "1834    28.75\n",
              "Name: item_price, Length: 1834, dtype: float64"
            ]
          },
          "metadata": {
            "tags": []
          },
          "execution_count": 49
        }
      ]
    },
    {
      "cell_type": "code",
      "metadata": {
        "id": "nfOPMR3E94M7",
        "outputId": "1bf79ca9-ae2e-4c02-b407-58284e61c42b"
      },
      "source": [
        "# 주문 총 금액이 20달러 이상인 것은 True, 아닌 것인 False은 데이터를 가져온다.\n",
        "a2 = a1 >= 20\n",
        "a2"
      ],
      "execution_count": null,
      "outputs": [
        {
          "output_type": "execute_result",
          "data": {
            "text/plain": [
              "order_id\n",
              "1       False\n",
              "2       False\n",
              "3       False\n",
              "4        True\n",
              "5       False\n",
              "        ...  \n",
              "1830     True\n",
              "1831    False\n",
              "1832    False\n",
              "1833     True\n",
              "1834     True\n",
              "Name: item_price, Length: 1834, dtype: bool"
            ]
          },
          "metadata": {
            "tags": []
          },
          "execution_count": 50
        }
      ]
    },
    {
      "cell_type": "code",
      "metadata": {
        "id": "7tHe_G3q94M7",
        "outputId": "e3ca0668-910a-4635-8bfa-c7368d15beea"
      },
      "source": [
        "# 조건에 해당하는 주문의 id를 가져온다.\n",
        "a3 = a1[a2]\n",
        "a3.index"
      ],
      "execution_count": null,
      "outputs": [
        {
          "output_type": "execute_result",
          "data": {
            "text/plain": [
              "Int64Index([   4,   18,   20,   21,   26,   28,   30,   34,   40,   43,\n",
              "            ...\n",
              "            1811, 1812, 1822, 1824, 1825, 1827, 1829, 1830, 1833, 1834],\n",
              "           dtype='int64', name='order_id', length=589)"
            ]
          },
          "metadata": {
            "tags": []
          },
          "execution_count": 51
        }
      ]
    },
    {
      "cell_type": "markdown",
      "metadata": {
        "id": "sLpdNLtT94M8"
      },
      "source": [
        "### 각 상품별 가격 구하기"
      ]
    },
    {
      "cell_type": "code",
      "metadata": {
        "id": "-N0ycJ6F94M8",
        "outputId": "06f3eed5-d986-4879-d657-a354a63dea0c"
      },
      "source": [
        "# 상품 종류 개수를 가져온다.\n",
        "a1 = chipo['item_name'].value_counts()\n",
        "len(a1)"
      ],
      "execution_count": null,
      "outputs": [
        {
          "output_type": "execute_result",
          "data": {
            "text/plain": [
              "50"
            ]
          },
          "metadata": {
            "tags": []
          },
          "execution_count": 54
        }
      ]
    },
    {
      "cell_type": "code",
      "metadata": {
        "id": "fZ0MuwA794M9",
        "outputId": "c3a8ef07-587b-497b-d6e9-06a0f0d8c3da"
      },
      "source": [
        "# 한개만 팔린 상품들의 종류 개수를 가져온다.\n",
        "a1 = chipo.query('quantity == 1')\n",
        "a2 = a1['item_name'].value_counts()\n",
        "len(a2)"
      ],
      "execution_count": null,
      "outputs": [
        {
          "output_type": "execute_result",
          "data": {
            "text/plain": [
              "50"
            ]
          },
          "metadata": {
            "tags": []
          },
          "execution_count": 55
        }
      ]
    },
    {
      "cell_type": "markdown",
      "metadata": {
        "id": "A6d_tTBQ94M9"
      },
      "source": [
        "하나만 팔린 목록에 모든 상품이 존재한다."
      ]
    },
    {
      "cell_type": "code",
      "metadata": {
        "id": "Y3FkE_2194M9",
        "outputId": "e987f984-36dd-4e91-a7b9-d39e3f4c5827"
      },
      "source": [
        "# 1개만 팔린 상품들의 목록을 가져온다.\n",
        "chipo_one_item = chipo.query('quantity == 1')\n",
        "chipo_one_item"
      ],
      "execution_count": null,
      "outputs": [
        {
          "output_type": "execute_result",
          "data": {
            "text/html": [
              "<div>\n",
              "<style scoped>\n",
              "    .dataframe tbody tr th:only-of-type {\n",
              "        vertical-align: middle;\n",
              "    }\n",
              "\n",
              "    .dataframe tbody tr th {\n",
              "        vertical-align: top;\n",
              "    }\n",
              "\n",
              "    .dataframe thead th {\n",
              "        text-align: right;\n",
              "    }\n",
              "</style>\n",
              "<table border=\"1\" class=\"dataframe\">\n",
              "  <thead>\n",
              "    <tr style=\"text-align: right;\">\n",
              "      <th></th>\n",
              "      <th>order_id</th>\n",
              "      <th>quantity</th>\n",
              "      <th>item_name</th>\n",
              "      <th>choice_description</th>\n",
              "      <th>item_price</th>\n",
              "    </tr>\n",
              "  </thead>\n",
              "  <tbody>\n",
              "    <tr>\n",
              "      <th>0</th>\n",
              "      <td>1</td>\n",
              "      <td>1</td>\n",
              "      <td>Chips and Fresh Tomato Salsa</td>\n",
              "      <td>NaN</td>\n",
              "      <td>2.39</td>\n",
              "    </tr>\n",
              "    <tr>\n",
              "      <th>1</th>\n",
              "      <td>1</td>\n",
              "      <td>1</td>\n",
              "      <td>Izze</td>\n",
              "      <td>[Clementine]</td>\n",
              "      <td>3.39</td>\n",
              "    </tr>\n",
              "    <tr>\n",
              "      <th>2</th>\n",
              "      <td>1</td>\n",
              "      <td>1</td>\n",
              "      <td>Nantucket Nectar</td>\n",
              "      <td>[Apple]</td>\n",
              "      <td>3.39</td>\n",
              "    </tr>\n",
              "    <tr>\n",
              "      <th>3</th>\n",
              "      <td>1</td>\n",
              "      <td>1</td>\n",
              "      <td>Chips and Tomatillo-Green Chili Salsa</td>\n",
              "      <td>NaN</td>\n",
              "      <td>2.39</td>\n",
              "    </tr>\n",
              "    <tr>\n",
              "      <th>5</th>\n",
              "      <td>3</td>\n",
              "      <td>1</td>\n",
              "      <td>Chicken Bowl</td>\n",
              "      <td>[Fresh Tomato Salsa (Mild), [Rice, Cheese, Sou...</td>\n",
              "      <td>10.98</td>\n",
              "    </tr>\n",
              "    <tr>\n",
              "      <th>...</th>\n",
              "      <td>...</td>\n",
              "      <td>...</td>\n",
              "      <td>...</td>\n",
              "      <td>...</td>\n",
              "      <td>...</td>\n",
              "    </tr>\n",
              "    <tr>\n",
              "      <th>4617</th>\n",
              "      <td>1833</td>\n",
              "      <td>1</td>\n",
              "      <td>Steak Burrito</td>\n",
              "      <td>[Fresh Tomato Salsa, [Rice, Black Beans, Sour ...</td>\n",
              "      <td>11.75</td>\n",
              "    </tr>\n",
              "    <tr>\n",
              "      <th>4618</th>\n",
              "      <td>1833</td>\n",
              "      <td>1</td>\n",
              "      <td>Steak Burrito</td>\n",
              "      <td>[Fresh Tomato Salsa, [Rice, Sour Cream, Cheese...</td>\n",
              "      <td>11.75</td>\n",
              "    </tr>\n",
              "    <tr>\n",
              "      <th>4619</th>\n",
              "      <td>1834</td>\n",
              "      <td>1</td>\n",
              "      <td>Chicken Salad Bowl</td>\n",
              "      <td>[Fresh Tomato Salsa, [Fajita Vegetables, Pinto...</td>\n",
              "      <td>11.25</td>\n",
              "    </tr>\n",
              "    <tr>\n",
              "      <th>4620</th>\n",
              "      <td>1834</td>\n",
              "      <td>1</td>\n",
              "      <td>Chicken Salad Bowl</td>\n",
              "      <td>[Fresh Tomato Salsa, [Fajita Vegetables, Lettu...</td>\n",
              "      <td>8.75</td>\n",
              "    </tr>\n",
              "    <tr>\n",
              "      <th>4621</th>\n",
              "      <td>1834</td>\n",
              "      <td>1</td>\n",
              "      <td>Chicken Salad Bowl</td>\n",
              "      <td>[Fresh Tomato Salsa, [Fajita Vegetables, Pinto...</td>\n",
              "      <td>8.75</td>\n",
              "    </tr>\n",
              "  </tbody>\n",
              "</table>\n",
              "<p>4355 rows × 5 columns</p>\n",
              "</div>"
            ],
            "text/plain": [
              "      order_id  quantity                              item_name  \\\n",
              "0            1         1           Chips and Fresh Tomato Salsa   \n",
              "1            1         1                                   Izze   \n",
              "2            1         1                       Nantucket Nectar   \n",
              "3            1         1  Chips and Tomatillo-Green Chili Salsa   \n",
              "5            3         1                           Chicken Bowl   \n",
              "...        ...       ...                                    ...   \n",
              "4617      1833         1                          Steak Burrito   \n",
              "4618      1833         1                          Steak Burrito   \n",
              "4619      1834         1                     Chicken Salad Bowl   \n",
              "4620      1834         1                     Chicken Salad Bowl   \n",
              "4621      1834         1                     Chicken Salad Bowl   \n",
              "\n",
              "                                     choice_description  item_price  \n",
              "0                                                   NaN        2.39  \n",
              "1                                          [Clementine]        3.39  \n",
              "2                                               [Apple]        3.39  \n",
              "3                                                   NaN        2.39  \n",
              "5     [Fresh Tomato Salsa (Mild), [Rice, Cheese, Sou...       10.98  \n",
              "...                                                 ...         ...  \n",
              "4617  [Fresh Tomato Salsa, [Rice, Black Beans, Sour ...       11.75  \n",
              "4618  [Fresh Tomato Salsa, [Rice, Sour Cream, Cheese...       11.75  \n",
              "4619  [Fresh Tomato Salsa, [Fajita Vegetables, Pinto...       11.25  \n",
              "4620  [Fresh Tomato Salsa, [Fajita Vegetables, Lettu...        8.75  \n",
              "4621  [Fresh Tomato Salsa, [Fajita Vegetables, Pinto...        8.75  \n",
              "\n",
              "[4355 rows x 5 columns]"
            ]
          },
          "metadata": {
            "tags": []
          },
          "execution_count": 56
        }
      ]
    },
    {
      "cell_type": "code",
      "metadata": {
        "id": "GzHCqnaj94M-",
        "outputId": "7b805bad-8340-46e0-ae3c-7859a9e84d5a"
      },
      "source": [
        "# 특정 상품의 가격이 한가지만 있는지 확인한다..\n",
        "a1 = chipo_one_item.query('item_name == \"Chips and Fresh Tomato Salsa\"')\n",
        "a2 = a1['item_price']\n",
        "a2.value_counts()"
      ],
      "execution_count": null,
      "outputs": [
        {
          "output_type": "execute_result",
          "data": {
            "text/plain": [
              "2.95    66\n",
              "2.39    36\n",
              "2.29     3\n",
              "Name: item_price, dtype: int64"
            ]
          },
          "metadata": {
            "tags": []
          },
          "execution_count": 57
        }
      ]
    },
    {
      "cell_type": "markdown",
      "metadata": {
        "id": "zHx0ZSKV94M_"
      },
      "source": [
        "상품의 가격이 변할 수 있다."
      ]
    },
    {
      "cell_type": "code",
      "metadata": {
        "id": "rfPxNQZk94M_",
        "outputId": "3db0e6eb-d817-47af-be6d-ee4cb6f8b776"
      },
      "source": [
        "# 모든 주문건수에 대한 상품 하나의 가격을 구한다.\n",
        "chipo['item_price2'] = chipo['item_price'] / chipo['quantity']\n",
        "chipo"
      ],
      "execution_count": null,
      "outputs": [
        {
          "output_type": "execute_result",
          "data": {
            "text/html": [
              "<div>\n",
              "<style scoped>\n",
              "    .dataframe tbody tr th:only-of-type {\n",
              "        vertical-align: middle;\n",
              "    }\n",
              "\n",
              "    .dataframe tbody tr th {\n",
              "        vertical-align: top;\n",
              "    }\n",
              "\n",
              "    .dataframe thead th {\n",
              "        text-align: right;\n",
              "    }\n",
              "</style>\n",
              "<table border=\"1\" class=\"dataframe\">\n",
              "  <thead>\n",
              "    <tr style=\"text-align: right;\">\n",
              "      <th></th>\n",
              "      <th>order_id</th>\n",
              "      <th>quantity</th>\n",
              "      <th>item_name</th>\n",
              "      <th>choice_description</th>\n",
              "      <th>item_price</th>\n",
              "      <th>item_price2</th>\n",
              "    </tr>\n",
              "  </thead>\n",
              "  <tbody>\n",
              "    <tr>\n",
              "      <th>0</th>\n",
              "      <td>1</td>\n",
              "      <td>1</td>\n",
              "      <td>Chips and Fresh Tomato Salsa</td>\n",
              "      <td>NaN</td>\n",
              "      <td>2.39</td>\n",
              "      <td>2.39</td>\n",
              "    </tr>\n",
              "    <tr>\n",
              "      <th>1</th>\n",
              "      <td>1</td>\n",
              "      <td>1</td>\n",
              "      <td>Izze</td>\n",
              "      <td>[Clementine]</td>\n",
              "      <td>3.39</td>\n",
              "      <td>3.39</td>\n",
              "    </tr>\n",
              "    <tr>\n",
              "      <th>2</th>\n",
              "      <td>1</td>\n",
              "      <td>1</td>\n",
              "      <td>Nantucket Nectar</td>\n",
              "      <td>[Apple]</td>\n",
              "      <td>3.39</td>\n",
              "      <td>3.39</td>\n",
              "    </tr>\n",
              "    <tr>\n",
              "      <th>3</th>\n",
              "      <td>1</td>\n",
              "      <td>1</td>\n",
              "      <td>Chips and Tomatillo-Green Chili Salsa</td>\n",
              "      <td>NaN</td>\n",
              "      <td>2.39</td>\n",
              "      <td>2.39</td>\n",
              "    </tr>\n",
              "    <tr>\n",
              "      <th>4</th>\n",
              "      <td>2</td>\n",
              "      <td>2</td>\n",
              "      <td>Chicken Bowl</td>\n",
              "      <td>[Tomatillo-Red Chili Salsa (Hot), [Black Beans...</td>\n",
              "      <td>16.98</td>\n",
              "      <td>8.49</td>\n",
              "    </tr>\n",
              "    <tr>\n",
              "      <th>...</th>\n",
              "      <td>...</td>\n",
              "      <td>...</td>\n",
              "      <td>...</td>\n",
              "      <td>...</td>\n",
              "      <td>...</td>\n",
              "      <td>...</td>\n",
              "    </tr>\n",
              "    <tr>\n",
              "      <th>4617</th>\n",
              "      <td>1833</td>\n",
              "      <td>1</td>\n",
              "      <td>Steak Burrito</td>\n",
              "      <td>[Fresh Tomato Salsa, [Rice, Black Beans, Sour ...</td>\n",
              "      <td>11.75</td>\n",
              "      <td>11.75</td>\n",
              "    </tr>\n",
              "    <tr>\n",
              "      <th>4618</th>\n",
              "      <td>1833</td>\n",
              "      <td>1</td>\n",
              "      <td>Steak Burrito</td>\n",
              "      <td>[Fresh Tomato Salsa, [Rice, Sour Cream, Cheese...</td>\n",
              "      <td>11.75</td>\n",
              "      <td>11.75</td>\n",
              "    </tr>\n",
              "    <tr>\n",
              "      <th>4619</th>\n",
              "      <td>1834</td>\n",
              "      <td>1</td>\n",
              "      <td>Chicken Salad Bowl</td>\n",
              "      <td>[Fresh Tomato Salsa, [Fajita Vegetables, Pinto...</td>\n",
              "      <td>11.25</td>\n",
              "      <td>11.25</td>\n",
              "    </tr>\n",
              "    <tr>\n",
              "      <th>4620</th>\n",
              "      <td>1834</td>\n",
              "      <td>1</td>\n",
              "      <td>Chicken Salad Bowl</td>\n",
              "      <td>[Fresh Tomato Salsa, [Fajita Vegetables, Lettu...</td>\n",
              "      <td>8.75</td>\n",
              "      <td>8.75</td>\n",
              "    </tr>\n",
              "    <tr>\n",
              "      <th>4621</th>\n",
              "      <td>1834</td>\n",
              "      <td>1</td>\n",
              "      <td>Chicken Salad Bowl</td>\n",
              "      <td>[Fresh Tomato Salsa, [Fajita Vegetables, Pinto...</td>\n",
              "      <td>8.75</td>\n",
              "      <td>8.75</td>\n",
              "    </tr>\n",
              "  </tbody>\n",
              "</table>\n",
              "<p>4622 rows × 6 columns</p>\n",
              "</div>"
            ],
            "text/plain": [
              "      order_id  quantity                              item_name  \\\n",
              "0            1         1           Chips and Fresh Tomato Salsa   \n",
              "1            1         1                                   Izze   \n",
              "2            1         1                       Nantucket Nectar   \n",
              "3            1         1  Chips and Tomatillo-Green Chili Salsa   \n",
              "4            2         2                           Chicken Bowl   \n",
              "...        ...       ...                                    ...   \n",
              "4617      1833         1                          Steak Burrito   \n",
              "4618      1833         1                          Steak Burrito   \n",
              "4619      1834         1                     Chicken Salad Bowl   \n",
              "4620      1834         1                     Chicken Salad Bowl   \n",
              "4621      1834         1                     Chicken Salad Bowl   \n",
              "\n",
              "                                     choice_description  item_price  \\\n",
              "0                                                   NaN        2.39   \n",
              "1                                          [Clementine]        3.39   \n",
              "2                                               [Apple]        3.39   \n",
              "3                                                   NaN        2.39   \n",
              "4     [Tomatillo-Red Chili Salsa (Hot), [Black Beans...       16.98   \n",
              "...                                                 ...         ...   \n",
              "4617  [Fresh Tomato Salsa, [Rice, Black Beans, Sour ...       11.75   \n",
              "4618  [Fresh Tomato Salsa, [Rice, Sour Cream, Cheese...       11.75   \n",
              "4619  [Fresh Tomato Salsa, [Fajita Vegetables, Pinto...       11.25   \n",
              "4620  [Fresh Tomato Salsa, [Fajita Vegetables, Lettu...        8.75   \n",
              "4621  [Fresh Tomato Salsa, [Fajita Vegetables, Pinto...        8.75   \n",
              "\n",
              "      item_price2  \n",
              "0            2.39  \n",
              "1            3.39  \n",
              "2            3.39  \n",
              "3            2.39  \n",
              "4            8.49  \n",
              "...           ...  \n",
              "4617        11.75  \n",
              "4618        11.75  \n",
              "4619        11.25  \n",
              "4620         8.75  \n",
              "4621         8.75  \n",
              "\n",
              "[4622 rows x 6 columns]"
            ]
          },
          "metadata": {
            "tags": []
          },
          "execution_count": 59
        }
      ]
    },
    {
      "cell_type": "code",
      "metadata": {
        "id": "tAlDg5mI94NA",
        "outputId": "82e94432-9d43-4bbb-9f5e-5a4608793c68"
      },
      "source": [
        "# 하나의 상품에 대해 여러가지 값이 존재하므로 최소값으로 결정한다.\n",
        "# 각 상품별 최소값을 구한다.\n",
        "a1 = chipo.groupby('item_name')['item_price2'].min()\n",
        "a1"
      ],
      "execution_count": null,
      "outputs": [
        {
          "output_type": "execute_result",
          "data": {
            "text/plain": [
              "item_name\n",
              "6 Pack Soft Drink                        6.49\n",
              "Barbacoa Bowl                            8.69\n",
              "Barbacoa Burrito                         8.69\n",
              "Barbacoa Crispy Tacos                    8.99\n",
              "Barbacoa Salad Bowl                      9.39\n",
              "Barbacoa Soft Tacos                      8.99\n",
              "Bottled Water                            1.09\n",
              "Bowl                                     7.40\n",
              "Burrito                                  7.40\n",
              "Canned Soda                              1.09\n",
              "Canned Soft Drink                        1.25\n",
              "Carnitas Bowl                            8.99\n",
              "Carnitas Burrito                         8.69\n",
              "Carnitas Crispy Tacos                    8.99\n",
              "Carnitas Salad                           8.99\n",
              "Carnitas Salad Bowl                      9.39\n",
              "Carnitas Soft Tacos                      8.99\n",
              "Chicken Bowl                             8.19\n",
              "Chicken Burrito                          8.19\n",
              "Chicken Crispy Tacos                     8.49\n",
              "Chicken Salad                            8.19\n",
              "Chicken Salad Bowl                       8.75\n",
              "Chicken Soft Tacos                       8.49\n",
              "Chips                                    1.99\n",
              "Chips and Fresh Tomato Salsa             2.29\n",
              "Chips and Guacamole                      3.89\n",
              "Chips and Mild Fresh Tomato Salsa        3.00\n",
              "Chips and Roasted Chili Corn Salsa       2.95\n",
              "Chips and Roasted Chili-Corn Salsa       2.39\n",
              "Chips and Tomatillo Green Chili Salsa    2.95\n",
              "Chips and Tomatillo Red Chili Salsa      2.95\n",
              "Chips and Tomatillo-Green Chili Salsa    2.39\n",
              "Chips and Tomatillo-Red Chili Salsa      2.39\n",
              "Crispy Tacos                             7.40\n",
              "Izze                                     3.39\n",
              "Nantucket Nectar                         3.39\n",
              "Salad                                    7.40\n",
              "Side of Chips                            1.69\n",
              "Steak Bowl                               8.69\n",
              "Steak Burrito                            8.69\n",
              "Steak Crispy Tacos                       8.69\n",
              "Steak Salad                              8.69\n",
              "Steak Salad Bowl                         9.39\n",
              "Steak Soft Tacos                         8.99\n",
              "Veggie Bowl                              8.49\n",
              "Veggie Burrito                           8.49\n",
              "Veggie Crispy Tacos                      8.49\n",
              "Veggie Salad                             8.49\n",
              "Veggie Salad Bowl                        8.75\n",
              "Veggie Soft Tacos                        8.49\n",
              "Name: item_price2, dtype: float64"
            ]
          },
          "metadata": {
            "tags": []
          },
          "execution_count": 61
        }
      ]
    },
    {
      "cell_type": "code",
      "metadata": {
        "id": "GEXfsAEI94NB",
        "outputId": "7d42f0ad-2097-4ac8-900a-addb46c54383"
      },
      "source": [
        "# 시각화\n",
        "a1.sort_values(inplace=True, ascending=False)\n",
        "\n",
        "# 상품의 이름의 수 만큼 들어있는 리스트를 생성한다.\n",
        "x_pos = np.arange(len(a1))\n",
        "\n",
        "# 가격\n",
        "y_pos = a1.values\n",
        "\n",
        "plt.bar(x_pos, y_pos, align='center')\n",
        "plt.ylabel('상품 가격($)')\n",
        "plt.xlabel('상품번호')\n",
        "plt.title('상품가격')\n",
        "plt.show()"
      ],
      "execution_count": null,
      "outputs": [
        {
          "output_type": "display_data",
          "data": {
            "image/png": "[encoded data removed]",
            "text/plain": [
              "<Figure size 1440x720 with 1 Axes>"
            ]
          },
          "metadata": {
            "tags": [],
            "needs_background": "light"
          }
        }
      ]
    },
    {
      "cell_type": "code",
      "metadata": {
        "id": "YWvACiet94NB",
        "outputId": "bcfd7a1f-1ed2-4002-ebe4-7358a65ef9d8"
      },
      "source": [
        "# 상품 가격 히스토그램\n",
        "plt.hist(a1)\n",
        "plt.ylabel('개수')\n",
        "plt.xlabel('가격')\n",
        "plt.show()"
      ],
      "execution_count": null,
      "outputs": [
        {
          "output_type": "display_data",
          "data": {
            "image/png": "[encoded data removed]",
            "text/plain": [
              "<Figure size 1440x720 with 1 Axes>"
            ]
          },
          "metadata": {
            "tags": [],
            "needs_background": "light"
          }
        }
      ]
    },
    {
      "cell_type": "code",
      "metadata": {
        "id": "cBExHazj94NC"
      },
      "source": [
        ""
      ],
      "execution_count": null,
      "outputs": []
    }
  ]
}