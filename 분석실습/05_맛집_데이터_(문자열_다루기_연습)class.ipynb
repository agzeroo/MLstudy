{
  "nbformat": 4,
  "nbformat_minor": 0,
  "metadata": {
    "kernelspec": {
      "display_name": "Python 3",
      "language": "python",
      "name": "python3"
    },
    "language_info": {
      "codemirror_mode": {
        "name": "ipython",
        "version": 3
      },
      "file_extension": ".py",
      "mimetype": "text/x-python",
      "name": "python",
      "nbconvert_exporter": "python",
      "pygments_lexer": "ipython3",
      "version": "3.8.5"
    },
    "colab": {
      "name": "05_맛집 데이터 (문자열 다루기 연습)class.ipynb",
      "provenance": []
    }
  },
  "cells": [
    {
      "cell_type": "code",
      "metadata": {
        "id": "7wFrL4U45mj4"
      },
      "source": [
        "# 기본\n",
        "import pandas as pd\n",
        "import numpy as np\n",
        "import matplotlib.pyplot as plt\n",
        "import seaborn as sns\n",
        "\n",
        "# 경고 뜨지 않게 설정\n",
        "import warnings\n",
        "warnings.filterwarnings('ignore')\n",
        "\n",
        "# 그래프 설정\n",
        "plt.rcParams['font.family'] = 'Malgun Gothic'\n",
        "# plt.rcParams['font.family'] = 'AppleGothic'\n",
        "plt.rcParams['font.size'] = 16\n",
        "plt.rcParams['figure.figsize'] = 20, 10\n",
        "plt.rcParams['axes.unicode_minus'] = False\n",
        "\n",
        "# 데이터 전처리 알고리즘\n",
        "from sklearn.preprocessing import LabelEncoder\n",
        "from sklearn.preprocessing import StandardScaler\n",
        "\n",
        "# 학습용과 검증용으로 나누는 함수\n",
        "from sklearn.model_selection import train_test_split\n",
        "\n",
        "# 교차 검증\n",
        "# 지표를 하나만 설정할 경우\n",
        "from sklearn.model_selection import cross_val_score\n",
        "# 지표를 하나 이상 설정할 경우\n",
        "from sklearn.model_selection import cross_validate\n",
        "from sklearn.model_selection import KFold\n",
        "from sklearn.model_selection import StratifiedKFold\n",
        "\n",
        "# 모델의 최적의 하이퍼파라미터를 찾기 위한 도구\n",
        "from sklearn.model_selection import GridSearchCV\n",
        "\n",
        "# 평가함수\n",
        "# 분류용\n",
        "from sklearn.metrics import accuracy_score\n",
        "from sklearn.metrics import precision_score\n",
        "from sklearn.metrics import recall_score\n",
        "from sklearn.metrics import f1_score\n",
        "from sklearn.metrics import roc_auc_score\n",
        "\n",
        "# 회귀용\n",
        "from sklearn.metrics import r2_score\n",
        "from sklearn.metrics import mean_squared_error\n",
        "\n",
        "# 머신러닝 알고리즘 - 분류\n",
        "from sklearn.neighbors import KNeighborsClassifier\n",
        "from sklearn.linear_model import LogisticRegression\n",
        "from sklearn.svm import SVC\n",
        "from sklearn.tree import DecisionTreeClassifier\n",
        "from sklearn.ensemble import RandomForestClassifier\n",
        "from sklearn.ensemble import AdaBoostClassifier\n",
        "from sklearn.ensemble import GradientBoostingClassifier\n",
        "from lightgbm import LGBMClassifier\n",
        "from xgboost import XGBClassifier\n",
        "from sklearn.ensemble import VotingClassifier\n",
        "\n",
        "# 머신러닝 알고리즘 - 회귀\n",
        "from sklearn.neighbors import KNeighborsRegressor\n",
        "from sklearn.linear_model import LinearRegression\n",
        "from sklearn.linear_model import Ridge\n",
        "from sklearn.linear_model import Lasso\n",
        "from sklearn.linear_model import ElasticNet\n",
        "from sklearn.svm import SVR\n",
        "from sklearn.tree import DecisionTreeRegressor\n",
        "from sklearn.ensemble import RandomForestRegressor\n",
        "from sklearn.ensemble import AdaBoostRegressor\n",
        "from sklearn.ensemble import GradientBoostingRegressor\n",
        "from lightgbm import LGBMRegressor\n",
        "from xgboost import XGBRegressor\n",
        "from sklearn.ensemble import VotingRegressor\n",
        "\n",
        "# 차원축소\n",
        "from sklearn.decomposition import PCA\n",
        "from sklearn.discriminant_analysis import LinearDiscriminantAnalysis\n",
        "\n",
        "# 군집화\n",
        "from sklearn.cluster import KMeans\n",
        "from sklearn.cluster import MeanShift\n",
        "from sklearn.cluster import estimate_bandwidth\n",
        "\n",
        "# 시간 측정을 위한 시간 모듈\n",
        "import datetime\n",
        "# 주식 정보를 읽어오기 위한 라이브러리\n",
        "from pandas_datareader import data"
      ],
      "execution_count": null,
      "outputs": []
    },
    {
      "cell_type": "markdown",
      "metadata": {
        "id": "Kgk9g3W05mkD"
      },
      "source": [
        "### 맛집 데이터 불러오기"
      ]
    },
    {
      "cell_type": "code",
      "metadata": {
        "id": "tnuMDUnj5mkE",
        "outputId": "3cab1920-a611-44fc-ab04-a0efa4048464"
      },
      "source": [
        "# 데이터를 읽어온다.\n",
        "matzip = pd.read_csv('data/matzipData.csv')\n",
        "matzip"
      ],
      "execution_count": null,
      "outputs": [
        {
          "output_type": "execute_result",
          "data": {
            "text/html": [
              "<div>\n",
              "<style scoped>\n",
              "    .dataframe tbody tr th:only-of-type {\n",
              "        vertical-align: middle;\n",
              "    }\n",
              "\n",
              "    .dataframe tbody tr th {\n",
              "        vertical-align: top;\n",
              "    }\n",
              "\n",
              "    .dataframe thead th {\n",
              "        text-align: right;\n",
              "    }\n",
              "</style>\n",
              "<table border=\"1\" class=\"dataframe\">\n",
              "  <thead>\n",
              "    <tr style=\"text-align: right;\">\n",
              "      <th></th>\n",
              "      <th>Restaurant Name</th>\n",
              "      <th>Rating</th>\n",
              "      <th>Address</th>\n",
              "      <th>Tel</th>\n",
              "      <th>Food</th>\n",
              "      <th>Price</th>\n",
              "      <th>Parking</th>\n",
              "      <th>Operating Time</th>\n",
              "      <th>Holiday</th>\n",
              "    </tr>\n",
              "  </thead>\n",
              "  <tbody>\n",
              "    <tr>\n",
              "      <th>0</th>\n",
              "      <td>이나니와요스케</td>\n",
              "      <td>4.4</td>\n",
              "      <td>서울시 중구 을지로1가 192-11</td>\n",
              "      <td>02-772-9994</td>\n",
              "      <td>라멘 / 소바 / 우동</td>\n",
              "      <td>만원-2만원</td>\n",
              "      <td>주차공간없음</td>\n",
              "      <td>11:00 - 23:00</td>\n",
              "      <td>일</td>\n",
              "    </tr>\n",
              "    <tr>\n",
              "      <th>1</th>\n",
              "      <td>바오차이</td>\n",
              "      <td>4.4</td>\n",
              "      <td>서울시 중구 을지로2가 203</td>\n",
              "      <td>02-6031-0107</td>\n",
              "      <td>정통 중식 / 일반 중식</td>\n",
              "      <td>2만원-3만원</td>\n",
              "      <td>유료주차 가능</td>\n",
              "      <td>11:30 - 21:30</td>\n",
              "      <td>NaN</td>\n",
              "    </tr>\n",
              "    <tr>\n",
              "      <th>2</th>\n",
              "      <td>라칸티나</td>\n",
              "      <td>4.4</td>\n",
              "      <td>서울시 중구 을지로1가 50</td>\n",
              "      <td>02-777-2579</td>\n",
              "      <td>이탈리안</td>\n",
              "      <td>3만원-4만원</td>\n",
              "      <td>NaN</td>\n",
              "      <td>월-토: 11:30 - 23:00 일: 17:30 - 23:00</td>\n",
              "      <td>NaN</td>\n",
              "    </tr>\n",
              "    <tr>\n",
              "      <th>3</th>\n",
              "      <td>라세느</td>\n",
              "      <td>4.3</td>\n",
              "      <td>서울시 중구 소공동 1</td>\n",
              "      <td>02-317-7171</td>\n",
              "      <td>뷔페</td>\n",
              "      <td>4만원 이상</td>\n",
              "      <td>발렛</td>\n",
              "      <td>06:00 - 22:00</td>\n",
              "      <td>NaN</td>\n",
              "    </tr>\n",
              "    <tr>\n",
              "      <th>4</th>\n",
              "      <td>산수갑산</td>\n",
              "      <td>4.3</td>\n",
              "      <td>서울시 중구 인현동1가 15-4</td>\n",
              "      <td>02-2275-6654</td>\n",
              "      <td>탕 / 찌개 / 전골</td>\n",
              "      <td>만원 미만</td>\n",
              "      <td>유료주차 가능</td>\n",
              "      <td>월-금: 11:30 - 22:00 토: 11:30 - 20:00</td>\n",
              "      <td>일</td>\n",
              "    </tr>\n",
              "    <tr>\n",
              "      <th>...</th>\n",
              "      <td>...</td>\n",
              "      <td>...</td>\n",
              "      <td>...</td>\n",
              "      <td>...</td>\n",
              "      <td>...</td>\n",
              "      <td>...</td>\n",
              "      <td>...</td>\n",
              "      <td>...</td>\n",
              "      <td>...</td>\n",
              "    </tr>\n",
              "    <tr>\n",
              "      <th>395</th>\n",
              "      <td>누룩나무</td>\n",
              "      <td>4</td>\n",
              "      <td>서울시 종로구 관훈동 118-19</td>\n",
              "      <td>02-722-3398</td>\n",
              "      <td>전통 주점 / 포차</td>\n",
              "      <td>만원-2만원</td>\n",
              "      <td>주차공간없음</td>\n",
              "      <td>17:00 - 01:30</td>\n",
              "      <td>일</td>\n",
              "    </tr>\n",
              "    <tr>\n",
              "      <th>396</th>\n",
              "      <td>옴</td>\n",
              "      <td>4</td>\n",
              "      <td>서울시 종로구 신문로1가 2</td>\n",
              "      <td>02-723-4848</td>\n",
              "      <td>인도 음식</td>\n",
              "      <td>만원-2만원</td>\n",
              "      <td>주차공간없음</td>\n",
              "      <td>11:00 - 22:00</td>\n",
              "      <td>NaN</td>\n",
              "    </tr>\n",
              "    <tr>\n",
              "      <th>397</th>\n",
              "      <td>코블러</td>\n",
              "      <td>4</td>\n",
              "      <td>서울시 종로구 내자동 157</td>\n",
              "      <td>02-733-6421</td>\n",
              "      <td>칵테일 / 와인</td>\n",
              "      <td>만원-2만원</td>\n",
              "      <td>유료주차 가능</td>\n",
              "      <td>19:00 - 03:00</td>\n",
              "      <td>일</td>\n",
              "    </tr>\n",
              "    <tr>\n",
              "      <th>398</th>\n",
              "      <td>클류치</td>\n",
              "      <td>4</td>\n",
              "      <td>서울시 종로구 명륜3가 79-1</td>\n",
              "      <td>010-2702-1496</td>\n",
              "      <td>카페 / 디저트</td>\n",
              "      <td>만원 미만</td>\n",
              "      <td>주차공간없음</td>\n",
              "      <td>월-토: 10:00 - 23:00 일: 11:00 - 20:00</td>\n",
              "      <td>NaN</td>\n",
              "    </tr>\n",
              "    <tr>\n",
              "      <th>399</th>\n",
              "      <td>도토리</td>\n",
              "      <td>4</td>\n",
              "      <td>서울시 종로구 안국동 24-1</td>\n",
              "      <td>02-6405-8153</td>\n",
              "      <td>기타 한식</td>\n",
              "      <td>만원 미만</td>\n",
              "      <td>유료주차 가능</td>\n",
              "      <td>월-금: 10:30 - 21:00 토-일: 10:30 - 22:00</td>\n",
              "      <td>NaN</td>\n",
              "    </tr>\n",
              "  </tbody>\n",
              "</table>\n",
              "<p>400 rows × 9 columns</p>\n",
              "</div>"
            ],
            "text/plain": [
              "    Restaurant Name Rating              Address            Tel           Food  \\\n",
              "0           이나니와요스케    4.4  서울시 중구 을지로1가 192-11    02-772-9994   라멘 / 소바 / 우동   \n",
              "1              바오차이    4.4     서울시 중구 을지로2가 203   02-6031-0107  정통 중식 / 일반 중식   \n",
              "2              라칸티나    4.4      서울시 중구 을지로1가 50    02-777-2579           이탈리안   \n",
              "3               라세느    4.3         서울시 중구 소공동 1    02-317-7171             뷔페   \n",
              "4              산수갑산    4.3    서울시 중구 인현동1가 15-4   02-2275-6654    탕 / 찌개 / 전골   \n",
              "..              ...    ...                  ...            ...            ...   \n",
              "395            누룩나무      4   서울시 종로구 관훈동 118-19    02-722-3398     전통 주점 / 포차   \n",
              "396               옴      4      서울시 종로구 신문로1가 2    02-723-4848          인도 음식   \n",
              "397             코블러      4      서울시 종로구 내자동 157    02-733-6421       칵테일 / 와인   \n",
              "398             클류치      4    서울시 종로구 명륜3가 79-1  010-2702-1496       카페 / 디저트   \n",
              "399             도토리      4     서울시 종로구 안국동 24-1   02-6405-8153          기타 한식   \n",
              "\n",
              "       Price  Parking                         Operating Time Holiday  \n",
              "0     만원-2만원   주차공간없음                          11:00 - 23:00       일  \n",
              "1    2만원-3만원  유료주차 가능                          11:30 - 21:30     NaN  \n",
              "2    3만원-4만원      NaN    월-토: 11:30 - 23:00 일: 17:30 - 23:00     NaN  \n",
              "3     4만원 이상       발렛                          06:00 - 22:00     NaN  \n",
              "4      만원 미만  유료주차 가능    월-금: 11:30 - 22:00 토: 11:30 - 20:00       일  \n",
              "..       ...      ...                                    ...     ...  \n",
              "395   만원-2만원   주차공간없음                          17:00 - 01:30       일  \n",
              "396   만원-2만원   주차공간없음                          11:00 - 22:00     NaN  \n",
              "397   만원-2만원  유료주차 가능                          19:00 - 03:00       일  \n",
              "398    만원 미만   주차공간없음    월-토: 10:00 - 23:00 일: 11:00 - 20:00     NaN  \n",
              "399    만원 미만  유료주차 가능  월-금: 10:30 - 21:00 토-일: 10:30 - 22:00     NaN  \n",
              "\n",
              "[400 rows x 9 columns]"
            ]
          },
          "metadata": {
            "tags": []
          },
          "execution_count": 2
        }
      ]
    },
    {
      "cell_type": "markdown",
      "metadata": {
        "id": "d8o4pfvX5mkH"
      },
      "source": [
        "### 맛집 데이터 처리"
      ]
    },
    {
      "cell_type": "code",
      "metadata": {
        "id": "m7AFNdDq5mkI",
        "outputId": "13c90fcf-7b0c-42f9-fd3d-371f6f63419f"
      },
      "source": [
        "# 정보 확인\n",
        "matzip.info()"
      ],
      "execution_count": null,
      "outputs": [
        {
          "output_type": "stream",
          "text": [
            "<class 'pandas.core.frame.DataFrame'>\n",
            "RangeIndex: 400 entries, 0 to 399\n",
            "Data columns (total 9 columns):\n",
            " #   Column           Non-Null Count  Dtype \n",
            "---  ------           --------------  ----- \n",
            " 0   Restaurant Name  400 non-null    object\n",
            " 1   Rating           400 non-null    object\n",
            " 2   Address          400 non-null    object\n",
            " 3   Tel              350 non-null    object\n",
            " 4   Food             400 non-null    object\n",
            " 5   Price            397 non-null    object\n",
            " 6   Parking          329 non-null    object\n",
            " 7   Operating Time   364 non-null    object\n",
            " 8   Holiday          126 non-null    object\n",
            "dtypes: object(9)\n",
            "memory usage: 28.2+ KB\n"
          ],
          "name": "stdout"
        }
      ]
    },
    {
      "cell_type": "code",
      "metadata": {
        "id": "NOXc1Nk75mkJ",
        "outputId": "f4b36cff-d074-445e-f85b-17154cfd36b4"
      },
      "source": [
        "# 결측치 확인\n",
        "matzip.isna().sum()"
      ],
      "execution_count": null,
      "outputs": [
        {
          "output_type": "execute_result",
          "data": {
            "text/plain": [
              "Restaurant Name      0\n",
              "Rating               0\n",
              "Address              0\n",
              "Tel                 50\n",
              "Food                 0\n",
              "Price                3\n",
              "Parking             71\n",
              "Operating Time      36\n",
              "Holiday            274\n",
              "dtype: int64"
            ]
          },
          "metadata": {
            "tags": []
          },
          "execution_count": 4
        }
      ]
    },
    {
      "cell_type": "markdown",
      "metadata": {
        "id": "BQdZ9ap05mkK"
      },
      "source": [
        "#### 결측치 처리"
      ]
    },
    {
      "cell_type": "markdown",
      "metadata": {
        "id": "_fnw6xJ05mkL"
      },
      "source": [
        "- 휴일에 대한 결측치 처리"
      ]
    },
    {
      "cell_type": "code",
      "metadata": {
        "id": "jHckP3jc5mkM",
        "outputId": "5bbc744d-b6f5-420b-b35f-b2d2258c1060"
      },
      "source": [
        "# 휴일 구조 파악\n",
        "matzip['Holiday'].value_counts()"
      ],
      "execution_count": null,
      "outputs": [
        {
          "output_type": "execute_result",
          "data": {
            "text/plain": [
              "일                     75\n",
              "월                     21\n",
              "토, 일                   7\n",
              "화                      3\n",
              "일, 첫째 월                2\n",
              "일, 월                   2\n",
              "수                      2\n",
              "월, 화                   2\n",
              "둘째/넷째 일                2\n",
              "둘째, 넷째 일               1\n",
              "토-일                    1\n",
              "첫째/셋째 일                1\n",
              "격주 월                   1\n",
              "첫째, 셋째 월, 둘째, 넷째 일     1\n",
              "월, 셋째 화                1\n",
              "넷째 일, 월                1\n",
              "토                      1\n",
              "월, 마지막 화               1\n",
              "월, 일                   1\n",
              "Name: Holiday, dtype: int64"
            ]
          },
          "metadata": {
            "tags": []
          },
          "execution_count": 5
        }
      ]
    },
    {
      "cell_type": "code",
      "metadata": {
        "id": "KZF-aFvo5mkN",
        "outputId": "81ec8bd2-e1a4-4b0a-9f39-84310b3694f2"
      },
      "source": [
        "# 휴일에 결측치인 곳은 연중무휴로 설정한다.\n",
        "matzip['Holiday'].fillna('연중무휴', inplace=True)\n",
        "matzip.isna().sum()"
      ],
      "execution_count": null,
      "outputs": [
        {
          "output_type": "execute_result",
          "data": {
            "text/plain": [
              "Restaurant Name     0\n",
              "Rating              0\n",
              "Address             0\n",
              "Tel                50\n",
              "Food                0\n",
              "Price               3\n",
              "Parking            71\n",
              "Operating Time     36\n",
              "Holiday             0\n",
              "dtype: int64"
            ]
          },
          "metadata": {
            "tags": []
          },
          "execution_count": 6
        }
      ]
    },
    {
      "cell_type": "code",
      "metadata": {
        "id": "H5qrZzMq5mkO",
        "outputId": "33b02cdb-de6c-4dd7-adb9-a4b42569c737"
      },
      "source": [
        "matzip['Holiday'].value_counts()"
      ],
      "execution_count": null,
      "outputs": [
        {
          "output_type": "execute_result",
          "data": {
            "text/plain": [
              "연중무휴                  274\n",
              "일                      75\n",
              "월                      21\n",
              "토, 일                    7\n",
              "화                       3\n",
              "일, 월                    2\n",
              "둘째/넷째 일                 2\n",
              "일, 첫째 월                 2\n",
              "월, 화                    2\n",
              "수                       2\n",
              "토                       1\n",
              "넷째 일, 월                 1\n",
              "월, 마지막 화                1\n",
              "월, 셋째 화                 1\n",
              "첫째, 셋째 월, 둘째, 넷째 일      1\n",
              "첫째/셋째 일                 1\n",
              "토-일                     1\n",
              "둘째, 넷째 일                1\n",
              "월, 일                    1\n",
              "격주 월                    1\n",
              "Name: Holiday, dtype: int64"
            ]
          },
          "metadata": {
            "tags": []
          },
          "execution_count": 7
        }
      ]
    },
    {
      "cell_type": "markdown",
      "metadata": {
        "id": "l5jK5kQl5mkP"
      },
      "source": [
        "- 가격에 대한 결측치 처리"
      ]
    },
    {
      "cell_type": "code",
      "metadata": {
        "id": "irGxIp3I5mkQ",
        "outputId": "bfb7eff5-eefc-4e39-a20c-b8c455518d48"
      },
      "source": [
        "# 가격 데이터 확인\n",
        "matzip['Price'].value_counts()"
      ],
      "execution_count": null,
      "outputs": [
        {
          "output_type": "execute_result",
          "data": {
            "text/plain": [
              "만원-2만원     161\n",
              "만원 미만      159\n",
              "2만원-3만원     46\n",
              "4만원 이상      22\n",
              "3만원-4만원      9\n",
              "Name: Price, dtype: int64"
            ]
          },
          "metadata": {
            "tags": []
          },
          "execution_count": 8
        }
      ]
    },
    {
      "cell_type": "code",
      "metadata": {
        "id": "VyL3lm-W5mkQ",
        "outputId": "fa9a44a0-9c0f-4a45-ed1a-e1a4995b9046"
      },
      "source": [
        "# 결측치 확인\n",
        "matzip['Price'].isna().sum()"
      ],
      "execution_count": null,
      "outputs": [
        {
          "output_type": "execute_result",
          "data": {
            "text/plain": [
              "3"
            ]
          },
          "metadata": {
            "tags": []
          },
          "execution_count": 9
        }
      ]
    },
    {
      "cell_type": "code",
      "metadata": {
        "id": "UfyhB0975mkR",
        "outputId": "7546431c-3a56-4cd0-b18d-f792ba5aca44"
      },
      "source": [
        "# 결측치를 10000으로 채운다.\n",
        "matzip_price = matzip['Price'].fillna('10000')\n",
        "matzip_price"
      ],
      "execution_count": null,
      "outputs": [
        {
          "output_type": "execute_result",
          "data": {
            "text/plain": [
              "0       만원-2만원\n",
              "1      2만원-3만원\n",
              "2      3만원-4만원\n",
              "3       4만원 이상\n",
              "4        만원 미만\n",
              "        ...   \n",
              "395     만원-2만원\n",
              "396     만원-2만원\n",
              "397     만원-2만원\n",
              "398      만원 미만\n",
              "399      만원 미만\n",
              "Name: Price, Length: 400, dtype: object"
            ]
          },
          "metadata": {
            "tags": []
          },
          "execution_count": 10
        }
      ]
    },
    {
      "cell_type": "code",
      "metadata": {
        "id": "YXdog5X05mkS",
        "outputId": "426a30a7-5f98-4fe7-9050-ed30e8b271f9"
      },
      "source": [
        "# 결측치 확인\n",
        "matzip_price.isna().sum()"
      ],
      "execution_count": null,
      "outputs": [
        {
          "output_type": "execute_result",
          "data": {
            "text/plain": [
              "0"
            ]
          },
          "metadata": {
            "tags": []
          },
          "execution_count": 11
        }
      ]
    },
    {
      "cell_type": "code",
      "metadata": {
        "id": "i269K6x85mkT",
        "outputId": "dfa2f5ca-65ee-40c4-bc00-1691755089f9"
      },
      "source": [
        "# 저장되어 있는 값 확인\n",
        "matzip_price.value_counts()"
      ],
      "execution_count": null,
      "outputs": [
        {
          "output_type": "execute_result",
          "data": {
            "text/plain": [
              "만원-2만원     161\n",
              "만원 미만      159\n",
              "2만원-3만원     46\n",
              "4만원 이상      22\n",
              "3만원-4만원      9\n",
              "10000        3\n",
              "Name: Price, dtype: int64"
            ]
          },
          "metadata": {
            "tags": []
          },
          "execution_count": 12
        }
      ]
    },
    {
      "cell_type": "markdown",
      "metadata": {
        "id": "nX6hU34A9d5c"
      },
      "source": [
        "### str.replace( 'before', 'after' )"
      ]
    },
    {
      "cell_type": "code",
      "metadata": {
        "id": "hR7AWcL75mkU",
        "outputId": "7aff4228-7a24-417a-ef1a-86cf13c77c50"
      },
      "source": [
        "# 값을 변경한다.\n",
        "# 만원이라는 글자를 10000으로 변경한다.\n",
        "matzip_price = matzip_price.str.replace('만원', '10000')\n",
        "# 210000 을 20000으로 바꾼다.\n",
        "matzip_price = matzip_price.str.replace('210000', '20000')\n",
        "# 310000 을 30000으로 바꾼다.\n",
        "matzip_price = matzip_price.str.replace('310000', '30000')\n",
        "# 410000 을 40000으로 바꾼다.\n",
        "matzip_price = matzip_price.str.replace('410000', '40000')\n",
        "# 10000- 을 제거한다.\n",
        "matzip_price = matzip_price.str.replace('10000-', '')\n",
        "# 20000- 을 제거한다.\n",
        "matzip_price = matzip_price.str.replace('20000-', '')\n",
        "# 30000- 을 제거한다.\n",
        "matzip_price = matzip_price.str.replace('30000-', '')\n",
        "# 이상을 제거한다.\n",
        "matzip_price = matzip_price.str.replace('이상', '')\n",
        "# 미만을 제거한다.\n",
        "matzip_price = matzip_price.str.replace('미만', '')\n",
        "# 좌우 공백을 제거한다.\n",
        "matzip_price = matzip_price.str.strip()\n",
        "\n",
        "matzip_price.value_counts()"
      ],
      "execution_count": null,
      "outputs": [
        {
          "output_type": "execute_result",
          "data": {
            "text/plain": [
              "10000    162\n",
              "20000    161\n",
              "30000     46\n",
              "40000     31\n",
              "Name: Price, dtype: int64"
            ]
          },
          "metadata": {
            "tags": []
          },
          "execution_count": 13
        }
      ]
    },
    {
      "cell_type": "code",
      "metadata": {
        "id": "2KGbAzj95mkV",
        "outputId": "b0e511e9-4a0c-479c-ab53-27c1c95a343d"
      },
      "source": [
        "# 변경 후 값의 타입을 확인한다.\n",
        "matzip_price.dtype"
      ],
      "execution_count": null,
      "outputs": [
        {
          "output_type": "execute_result",
          "data": {
            "text/plain": [
              "dtype('O')"
            ]
          },
          "metadata": {
            "tags": []
          },
          "execution_count": 14
        }
      ]
    },
    {
      "cell_type": "code",
      "metadata": {
        "id": "eAbwjaxN5mkW",
        "outputId": "3730ac0a-bfc6-41fc-f1ab-1cce0e05e52c"
      },
      "source": [
        "# 혹시나 문자열로 되어 있다면.....(object)\n",
        "# 정수로 변환\n",
        "matzip_price = matzip_price.astype('int64')\n",
        "matzip_price.dtype"
      ],
      "execution_count": null,
      "outputs": [
        {
          "output_type": "execute_result",
          "data": {
            "text/plain": [
              "dtype('int64')"
            ]
          },
          "metadata": {
            "tags": []
          },
          "execution_count": 15
        }
      ]
    },
    {
      "cell_type": "code",
      "metadata": {
        "id": "QHRzYrR85mkX",
        "outputId": "45c9c3ec-c4ad-4ef6-972e-fdad46c2ef8d"
      },
      "source": [
        "# 원본 데이터 프레임에 넣어준다.\n",
        "matzip['Price'] = matzip_price\n",
        "matzip['Price'].value_counts()"
      ],
      "execution_count": null,
      "outputs": [
        {
          "output_type": "execute_result",
          "data": {
            "text/plain": [
              "10000    162\n",
              "20000    161\n",
              "30000     46\n",
              "40000     31\n",
              "Name: Price, dtype: int64"
            ]
          },
          "metadata": {
            "tags": []
          },
          "execution_count": 16
        }
      ]
    },
    {
      "cell_type": "code",
      "metadata": {
        "id": "utWMmYQ65mkY"
      },
      "source": [
        ""
      ],
      "execution_count": null,
      "outputs": []
    }
  ]
}