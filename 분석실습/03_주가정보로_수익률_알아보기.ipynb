{
  "nbformat": 4,
  "nbformat_minor": 0,
  "metadata": {
    "colab": {
      "name": "03_주가정보로 수익률 알아보기.ipynb",
      "provenance": []
    },
    "kernelspec": {
      "name": "python3",
      "display_name": "Python 3"
    },
    "language_info": {
      "name": "python"
    }
  },
  "cells": [
    {
      "cell_type": "code",
      "metadata": {
        "id": "G4kpKPMUoSI5"
      },
      "source": [
        "# 기본\n",
        "import pandas as pd\n",
        "import numpy as np\n",
        "import matplotlib.pyplot as plt\n",
        "import seaborn as sns\n",
        "\n",
        "# 경고 뜨지 않게 설정\n",
        "import warnings\n",
        "warnings.filterwarnings('ignore')\n",
        "\n",
        "# 그래프 설정\n",
        "plt.rcParams['font.family'] = 'Malgun Gothic'\n",
        "# plt.rcParams['font.family'] = 'AppleGothic'\n",
        "plt.rcParams['font.size'] = 16\n",
        "plt.rcParams['figure.figsize'] = 20, 10\n",
        "plt.rcParams['axes.unicode_minus'] = False\n",
        "\n",
        "# 데이터 전처리 알고리즘\n",
        "from sklearn.preprocessing import LabelEncoder\n",
        "from sklearn.preprocessing import StandardScaler\n",
        "\n",
        "# 학습용과 검증용으로 나누는 함수\n",
        "from sklearn.model_selection import train_test_split\n",
        "\n",
        "# 교차 검증\n",
        "# 지표를 하나만 설정할 경우\n",
        "from sklearn.model_selection import cross_val_score\n",
        "# 지표를 하나 이상 설정할 경우\n",
        "from sklearn.model_selection import cross_validate\n",
        "from sklearn.model_selection import KFold\n",
        "from sklearn.model_selection import StratifiedKFold\n",
        "\n",
        "# 모델의 최적의 하이퍼파라미터를 찾기 위한 도구\n",
        "from sklearn.model_selection import GridSearchCV\n",
        "\n",
        "# 평가함수\n",
        "# 분류용\n",
        "from sklearn.metrics import accuracy_score\n",
        "from sklearn.metrics import precision_score\n",
        "from sklearn.metrics import recall_score\n",
        "from sklearn.metrics import f1_score\n",
        "from sklearn.metrics import roc_auc_score\n",
        "\n",
        "# 회귀용\n",
        "from sklearn.metrics import r2_score\n",
        "from sklearn.metrics import mean_squared_error\n",
        "\n",
        "# 머신러닝 알고리즘 - 분류\n",
        "from sklearn.neighbors import KNeighborsClassifier\n",
        "from sklearn.linear_model import LogisticRegression\n",
        "from sklearn.svm import SVC\n",
        "from sklearn.tree import DecisionTreeClassifier\n",
        "from sklearn.ensemble import RandomForestClassifier\n",
        "from sklearn.ensemble import AdaBoostClassifier\n",
        "from sklearn.ensemble import GradientBoostingClassifier\n",
        "from lightgbm import LGBMClassifier\n",
        "from xgboost import XGBClassifier\n",
        "from sklearn.ensemble import VotingClassifier\n",
        "\n",
        "# 머신러닝 알고리즘 - 회귀\n",
        "from sklearn.neighbors import KNeighborsRegressor\n",
        "from sklearn.linear_model import LinearRegression\n",
        "from sklearn.linear_model import Ridge\n",
        "from sklearn.linear_model import Lasso\n",
        "from sklearn.linear_model import ElasticNet\n",
        "from sklearn.svm import SVR\n",
        "from sklearn.tree import DecisionTreeRegressor\n",
        "from sklearn.ensemble import RandomForestRegressor\n",
        "from sklearn.ensemble import AdaBoostRegressor\n",
        "from sklearn.ensemble import GradientBoostingRegressor\n",
        "from lightgbm import LGBMRegressor\n",
        "from xgboost import XGBRegressor\n",
        "from sklearn.ensemble import VotingRegressor\n",
        "\n",
        "# 차원축소\n",
        "from sklearn.decomposition import PCA\n",
        "from sklearn.discriminant_analysis import LinearDiscriminantAnalysis\n",
        "\n",
        "# 군집화\n",
        "from sklearn.cluster import KMeans\n",
        "from sklearn.cluster import MeanShift\n",
        "from sklearn.cluster import estimate_bandwidth\n",
        "\n",
        "# 시간 측정을 위한 시간 모듈\n",
        "import datetime\n",
        "\n",
        "# 주식 정보를 읽어오기 위한 라이브러리\n",
        "from pandas_datareader import data"
      ],
      "execution_count": null,
      "outputs": []
    },
    {
      "cell_type": "markdown",
      "metadata": {
        "id": "dbFI5bJfnE9Z"
      },
      "source": [
        "# 주식 정보를 읽어오기 위한 라이브러리\n",
        "from pandas_datareader import data"
      ]
    },
    {
      "cell_type": "markdown",
      "metadata": {
        "id": "5gTWTGlXnB1X"
      },
      "source": [
        "- 아나콘다 프롬프트에서 다음과 같이 입력한다.\n",
        "- pip install pandas_datareader\n"
      ]
    },
    {
      "cell_type": "code",
      "metadata": {
        "id": "47dI3m9jnQh0"
      },
      "source": [
        "from pandas_datareader import data"
      ],
      "execution_count": null,
      "outputs": []
    },
    {
      "cell_type": "code",
      "metadata": {
        "id": "isoPa-HOnQfC"
      },
      "source": [
        "# 시작날짜\n",
        "start = datetime.datetime(2010, 1, 1)\n",
        "# 종료날짜\n",
        "end = datetime.datetime(2020,12, 31)"
      ],
      "execution_count": null,
      "outputs": []
    },
    {
      "cell_type": "markdown",
      "metadata": {
        "id": "JQvzXeVanhkv"
      },
      "source": [
        "# Pandas Data Reader를 통해서 Yahoo Finace의 데이터를 가져오기\n",
        "df = pdr.DataReader('주식 종목코드', 'yahoo',시작날,종료날)\n",
        "- 데이터 프레임 형태로 불러올 수\n"
      ]
    },
    {
      "cell_type": "code",
      "metadata": {
        "id": "rjRH3yAIoFle",
        "outputId": "d9d6a8eb-8724-475b-8135-a14dbab97a57"
      },
      "source": [
        "#삼성전자 주식 데이터를 읽어온다.\n",
        "slb=data.DataReader('035720.KS','yahoo',start,end)\n",
        "slb"
      ],
      "execution_count": null,
      "outputs": [
        {
          "output_type": "execute_result",
          "data": {
            "text/html": [
              "<div>\n",
              "<style scoped>\n",
              "    .dataframe tbody tr th:only-of-type {\n",
              "        vertical-align: middle;\n",
              "    }\n",
              "\n",
              "    .dataframe tbody tr th {\n",
              "        vertical-align: top;\n",
              "    }\n",
              "\n",
              "    .dataframe thead th {\n",
              "        text-align: right;\n",
              "    }\n",
              "</style>\n",
              "<table border=\"1\" class=\"dataframe\">\n",
              "  <thead>\n",
              "    <tr style=\"text-align: right;\">\n",
              "      <th></th>\n",
              "      <th>High</th>\n",
              "      <th>Low</th>\n",
              "      <th>Open</th>\n",
              "      <th>Close</th>\n",
              "      <th>Volume</th>\n",
              "      <th>Adj Close</th>\n",
              "    </tr>\n",
              "    <tr>\n",
              "      <th>Date</th>\n",
              "      <th></th>\n",
              "      <th></th>\n",
              "      <th></th>\n",
              "      <th></th>\n",
              "      <th></th>\n",
              "      <th></th>\n",
              "    </tr>\n",
              "  </thead>\n",
              "  <tbody>\n",
              "    <tr>\n",
              "      <th>2010-01-04</th>\n",
              "      <td>14840.0</td>\n",
              "      <td>13820.0</td>\n",
              "      <td>14060.0</td>\n",
              "      <td>14680.0</td>\n",
              "      <td>794880.0</td>\n",
              "      <td>13853.011719</td>\n",
              "    </tr>\n",
              "    <tr>\n",
              "      <th>2010-01-05</th>\n",
              "      <td>15060.0</td>\n",
              "      <td>14440.0</td>\n",
              "      <td>14600.0</td>\n",
              "      <td>14800.0</td>\n",
              "      <td>620780.0</td>\n",
              "      <td>13966.250977</td>\n",
              "    </tr>\n",
              "    <tr>\n",
              "      <th>2010-01-06</th>\n",
              "      <td>15040.0</td>\n",
              "      <td>14600.0</td>\n",
              "      <td>14920.0</td>\n",
              "      <td>14860.0</td>\n",
              "      <td>362265.0</td>\n",
              "      <td>14022.872070</td>\n",
              "    </tr>\n",
              "    <tr>\n",
              "      <th>2010-01-07</th>\n",
              "      <td>14960.0</td>\n",
              "      <td>14420.0</td>\n",
              "      <td>14860.0</td>\n",
              "      <td>14680.0</td>\n",
              "      <td>496205.0</td>\n",
              "      <td>13853.011719</td>\n",
              "    </tr>\n",
              "    <tr>\n",
              "      <th>2010-01-08</th>\n",
              "      <td>14700.0</td>\n",
              "      <td>14020.0</td>\n",
              "      <td>14700.0</td>\n",
              "      <td>14580.0</td>\n",
              "      <td>572770.0</td>\n",
              "      <td>13758.645508</td>\n",
              "    </tr>\n",
              "    <tr>\n",
              "      <th>...</th>\n",
              "      <td>...</td>\n",
              "      <td>...</td>\n",
              "      <td>...</td>\n",
              "      <td>...</td>\n",
              "      <td>...</td>\n",
              "      <td>...</td>\n",
              "    </tr>\n",
              "    <tr>\n",
              "      <th>2020-12-23</th>\n",
              "      <td>77100.0</td>\n",
              "      <td>75400.0</td>\n",
              "      <td>76200.0</td>\n",
              "      <td>75500.0</td>\n",
              "      <td>3149760.0</td>\n",
              "      <td>75469.640625</td>\n",
              "    </tr>\n",
              "    <tr>\n",
              "      <th>2020-12-24</th>\n",
              "      <td>76000.0</td>\n",
              "      <td>74400.0</td>\n",
              "      <td>75700.0</td>\n",
              "      <td>74800.0</td>\n",
              "      <td>2325660.0</td>\n",
              "      <td>74769.921875</td>\n",
              "    </tr>\n",
              "    <tr>\n",
              "      <th>2020-12-28</th>\n",
              "      <td>75400.0</td>\n",
              "      <td>73900.0</td>\n",
              "      <td>74900.0</td>\n",
              "      <td>74600.0</td>\n",
              "      <td>3232320.0</td>\n",
              "      <td>74570.000000</td>\n",
              "    </tr>\n",
              "    <tr>\n",
              "      <th>2020-12-29</th>\n",
              "      <td>77100.0</td>\n",
              "      <td>75600.0</td>\n",
              "      <td>76200.0</td>\n",
              "      <td>76900.0</td>\n",
              "      <td>4287020.0</td>\n",
              "      <td>76900.000000</td>\n",
              "    </tr>\n",
              "    <tr>\n",
              "      <th>2020-12-30</th>\n",
              "      <td>78800.0</td>\n",
              "      <td>76700.0</td>\n",
              "      <td>76900.0</td>\n",
              "      <td>77900.0</td>\n",
              "      <td>4065710.0</td>\n",
              "      <td>77900.000000</td>\n",
              "    </tr>\n",
              "  </tbody>\n",
              "</table>\n",
              "<p>2708 rows × 6 columns</p>\n",
              "</div>"
            ],
            "text/plain": [
              "               High      Low     Open    Close     Volume     Adj Close\n",
              "Date                                                                   \n",
              "2010-01-04  14840.0  13820.0  14060.0  14680.0   794880.0  13853.011719\n",
              "2010-01-05  15060.0  14440.0  14600.0  14800.0   620780.0  13966.250977\n",
              "2010-01-06  15040.0  14600.0  14920.0  14860.0   362265.0  14022.872070\n",
              "2010-01-07  14960.0  14420.0  14860.0  14680.0   496205.0  13853.011719\n",
              "2010-01-08  14700.0  14020.0  14700.0  14580.0   572770.0  13758.645508\n",
              "...             ...      ...      ...      ...        ...           ...\n",
              "2020-12-23  77100.0  75400.0  76200.0  75500.0  3149760.0  75469.640625\n",
              "2020-12-24  76000.0  74400.0  75700.0  74800.0  2325660.0  74769.921875\n",
              "2020-12-28  75400.0  73900.0  74900.0  74600.0  3232320.0  74570.000000\n",
              "2020-12-29  77100.0  75600.0  76200.0  76900.0  4287020.0  76900.000000\n",
              "2020-12-30  78800.0  76700.0  76900.0  77900.0  4065710.0  77900.000000\n",
              "\n",
              "[2708 rows x 6 columns]"
            ]
          },
          "metadata": {
            "tags": []
          },
          "execution_count": 34
        }
      ]
    },
    {
      "cell_type": "code",
      "metadata": {
        "id": "AJ3Mpy6hnRRN"
      },
      "source": [
        "#파일로 저장한다\n",
        "slb.to_csv('data/kk_stock.csv')"
      ],
      "execution_count": null,
      "outputs": []
    },
    {
      "cell_type": "markdown",
      "metadata": {
        "id": "ETl83DOOoFlg"
      },
      "source": [
        "### 저장한 정보를 읽어온다."
      ]
    },
    {
      "cell_type": "code",
      "metadata": {
        "id": "fHDTbllIoFlg",
        "outputId": "00979bfe-7d3e-442e-851a-0e340bb09e4f"
      },
      "source": [
        "#파일에서 데이터를 읽어온다\n",
        "cel=pd.read_csv('data/kk_stock.csv')\n",
        "\n",
        "#시계열 데이터는 날짜가 인덱스로 설정되어있는것이 좋음\n",
        "cel.set_index('Date',inplace=True) #Date를 인덱스로 설정\n",
        "\n",
        "cel"
      ],
      "execution_count": null,
      "outputs": [
        {
          "output_type": "execute_result",
          "data": {
            "text/html": [
              "<div>\n",
              "<style scoped>\n",
              "    .dataframe tbody tr th:only-of-type {\n",
              "        vertical-align: middle;\n",
              "    }\n",
              "\n",
              "    .dataframe tbody tr th {\n",
              "        vertical-align: top;\n",
              "    }\n",
              "\n",
              "    .dataframe thead th {\n",
              "        text-align: right;\n",
              "    }\n",
              "</style>\n",
              "<table border=\"1\" class=\"dataframe\">\n",
              "  <thead>\n",
              "    <tr style=\"text-align: right;\">\n",
              "      <th></th>\n",
              "      <th>High</th>\n",
              "      <th>Low</th>\n",
              "      <th>Open</th>\n",
              "      <th>Close</th>\n",
              "      <th>Volume</th>\n",
              "      <th>Adj Close</th>\n",
              "    </tr>\n",
              "    <tr>\n",
              "      <th>Date</th>\n",
              "      <th></th>\n",
              "      <th></th>\n",
              "      <th></th>\n",
              "      <th></th>\n",
              "      <th></th>\n",
              "      <th></th>\n",
              "    </tr>\n",
              "  </thead>\n",
              "  <tbody>\n",
              "    <tr>\n",
              "      <th>2010-01-04</th>\n",
              "      <td>14840.0</td>\n",
              "      <td>13820.0</td>\n",
              "      <td>14060.0</td>\n",
              "      <td>14680.0</td>\n",
              "      <td>794880.0</td>\n",
              "      <td>13853.011719</td>\n",
              "    </tr>\n",
              "    <tr>\n",
              "      <th>2010-01-05</th>\n",
              "      <td>15060.0</td>\n",
              "      <td>14440.0</td>\n",
              "      <td>14600.0</td>\n",
              "      <td>14800.0</td>\n",
              "      <td>620780.0</td>\n",
              "      <td>13966.250977</td>\n",
              "    </tr>\n",
              "    <tr>\n",
              "      <th>2010-01-06</th>\n",
              "      <td>15040.0</td>\n",
              "      <td>14600.0</td>\n",
              "      <td>14920.0</td>\n",
              "      <td>14860.0</td>\n",
              "      <td>362265.0</td>\n",
              "      <td>14022.872070</td>\n",
              "    </tr>\n",
              "    <tr>\n",
              "      <th>2010-01-07</th>\n",
              "      <td>14960.0</td>\n",
              "      <td>14420.0</td>\n",
              "      <td>14860.0</td>\n",
              "      <td>14680.0</td>\n",
              "      <td>496205.0</td>\n",
              "      <td>13853.011719</td>\n",
              "    </tr>\n",
              "    <tr>\n",
              "      <th>2010-01-08</th>\n",
              "      <td>14700.0</td>\n",
              "      <td>14020.0</td>\n",
              "      <td>14700.0</td>\n",
              "      <td>14580.0</td>\n",
              "      <td>572770.0</td>\n",
              "      <td>13758.645508</td>\n",
              "    </tr>\n",
              "    <tr>\n",
              "      <th>...</th>\n",
              "      <td>...</td>\n",
              "      <td>...</td>\n",
              "      <td>...</td>\n",
              "      <td>...</td>\n",
              "      <td>...</td>\n",
              "      <td>...</td>\n",
              "    </tr>\n",
              "    <tr>\n",
              "      <th>2020-12-23</th>\n",
              "      <td>77100.0</td>\n",
              "      <td>75400.0</td>\n",
              "      <td>76200.0</td>\n",
              "      <td>75500.0</td>\n",
              "      <td>3149760.0</td>\n",
              "      <td>75469.640625</td>\n",
              "    </tr>\n",
              "    <tr>\n",
              "      <th>2020-12-24</th>\n",
              "      <td>76000.0</td>\n",
              "      <td>74400.0</td>\n",
              "      <td>75700.0</td>\n",
              "      <td>74800.0</td>\n",
              "      <td>2325660.0</td>\n",
              "      <td>74769.921875</td>\n",
              "    </tr>\n",
              "    <tr>\n",
              "      <th>2020-12-28</th>\n",
              "      <td>75400.0</td>\n",
              "      <td>73900.0</td>\n",
              "      <td>74900.0</td>\n",
              "      <td>74600.0</td>\n",
              "      <td>3232320.0</td>\n",
              "      <td>74570.000000</td>\n",
              "    </tr>\n",
              "    <tr>\n",
              "      <th>2020-12-29</th>\n",
              "      <td>77100.0</td>\n",
              "      <td>75600.0</td>\n",
              "      <td>76200.0</td>\n",
              "      <td>76900.0</td>\n",
              "      <td>4287020.0</td>\n",
              "      <td>76900.000000</td>\n",
              "    </tr>\n",
              "    <tr>\n",
              "      <th>2020-12-30</th>\n",
              "      <td>78800.0</td>\n",
              "      <td>76700.0</td>\n",
              "      <td>76900.0</td>\n",
              "      <td>77900.0</td>\n",
              "      <td>4065710.0</td>\n",
              "      <td>77900.000000</td>\n",
              "    </tr>\n",
              "  </tbody>\n",
              "</table>\n",
              "<p>2708 rows × 6 columns</p>\n",
              "</div>"
            ],
            "text/plain": [
              "               High      Low     Open    Close     Volume     Adj Close\n",
              "Date                                                                   \n",
              "2010-01-04  14840.0  13820.0  14060.0  14680.0   794880.0  13853.011719\n",
              "2010-01-05  15060.0  14440.0  14600.0  14800.0   620780.0  13966.250977\n",
              "2010-01-06  15040.0  14600.0  14920.0  14860.0   362265.0  14022.872070\n",
              "2010-01-07  14960.0  14420.0  14860.0  14680.0   496205.0  13853.011719\n",
              "2010-01-08  14700.0  14020.0  14700.0  14580.0   572770.0  13758.645508\n",
              "...             ...      ...      ...      ...        ...           ...\n",
              "2020-12-23  77100.0  75400.0  76200.0  75500.0  3149760.0  75469.640625\n",
              "2020-12-24  76000.0  74400.0  75700.0  74800.0  2325660.0  74769.921875\n",
              "2020-12-28  75400.0  73900.0  74900.0  74600.0  3232320.0  74570.000000\n",
              "2020-12-29  77100.0  75600.0  76200.0  76900.0  4287020.0  76900.000000\n",
              "2020-12-30  78800.0  76700.0  76900.0  77900.0  4065710.0  77900.000000\n",
              "\n",
              "[2708 rows x 6 columns]"
            ]
          },
          "metadata": {
            "tags": []
          },
          "execution_count": 36
        }
      ]
    },
    {
      "cell_type": "code",
      "metadata": {
        "id": "XpnStZ8RoFlh",
        "outputId": "e535ca6d-c113-4ac3-d27c-013efc4b4c1b"
      },
      "source": [
        "#인덱스의 데이터 타입을 확인 한다.\n",
        "#dtype을 확인한다.\n",
        "cel.index"
      ],
      "execution_count": null,
      "outputs": [
        {
          "output_type": "execute_result",
          "data": {
            "text/plain": [
              "Index(['2010-01-04', '2010-01-05', '2010-01-06', '2010-01-07', '2010-01-08',\n",
              "       '2010-01-11', '2010-01-12', '2010-01-13', '2010-01-14', '2010-01-15',\n",
              "       ...\n",
              "       '2020-12-16', '2020-12-17', '2020-12-18', '2020-12-21', '2020-12-22',\n",
              "       '2020-12-23', '2020-12-24', '2020-12-28', '2020-12-29', '2020-12-30'],\n",
              "      dtype='object', name='Date', length=2708)"
            ]
          },
          "metadata": {
            "tags": []
          },
          "execution_count": 37
        }
      ]
    },
    {
      "cell_type": "code",
      "metadata": {
        "id": "HMjkMLNkoFli",
        "outputId": "57e0688d-8b16-477d-ca75-861aac2e4903"
      },
      "source": [
        "# 인덱스를 날짜 타입으로 변경한다.\n",
        "cel.index = pd.to_datetime(cel.index, format='%Y-%m-%d')\n",
        "cel.index\n"
      ],
      "execution_count": null,
      "outputs": [
        {
          "output_type": "execute_result",
          "data": {
            "text/plain": [
              "DatetimeIndex(['2010-01-04', '2010-01-05', '2010-01-06', '2010-01-07',\n",
              "               '2010-01-08', '2010-01-11', '2010-01-12', '2010-01-13',\n",
              "               '2010-01-14', '2010-01-15',\n",
              "               ...\n",
              "               '2020-12-16', '2020-12-17', '2020-12-18', '2020-12-21',\n",
              "               '2020-12-22', '2020-12-23', '2020-12-24', '2020-12-28',\n",
              "               '2020-12-29', '2020-12-30'],\n",
              "              dtype='datetime64[ns]', name='Date', length=2708, freq=None)"
            ]
          },
          "metadata": {
            "tags": []
          },
          "execution_count": 39
        }
      ]
    },
    {
      "cell_type": "code",
      "metadata": {
        "id": "4dugjOPloFli",
        "outputId": "3362b2ab-c6cc-4785-e31b-8239264e1a2c"
      },
      "source": [
        "# 컬럼들의 데이터 타입을 확인한다.\n",
        "cel.info()"
      ],
      "execution_count": null,
      "outputs": [
        {
          "output_type": "stream",
          "text": [
            "<class 'pandas.core.frame.DataFrame'>\n",
            "Index: 2708 entries, 2010-01-04 to 2020-12-30\n",
            "Data columns (total 6 columns):\n",
            " #   Column     Non-Null Count  Dtype  \n",
            "---  ------     --------------  -----  \n",
            " 0   High       2708 non-null   float64\n",
            " 1   Low        2708 non-null   float64\n",
            " 2   Open       2708 non-null   float64\n",
            " 3   Close      2708 non-null   float64\n",
            " 4   Volume     2708 non-null   float64\n",
            " 5   Adj Close  2708 non-null   float64\n",
            "dtypes: float64(6)\n",
            "memory usage: 148.1+ KB\n"
          ],
          "name": "stdout"
        }
      ]
    },
    {
      "cell_type": "code",
      "metadata": {
        "id": "dqkGG8BboFlk",
        "outputId": "c6dad2fe-26a3-4d42-a87a-c58c5c181a28"
      },
      "source": [
        "#결측치 확인\n",
        "cel.isna().sum()"
      ],
      "execution_count": null,
      "outputs": [
        {
          "output_type": "execute_result",
          "data": {
            "text/plain": [
              "High         0\n",
              "Low          0\n",
              "Open         0\n",
              "Close        0\n",
              "Volume       0\n",
              "Adj Close    0\n",
              "dtype: int64"
            ]
          },
          "metadata": {
            "tags": []
          },
          "execution_count": 41
        }
      ]
    },
    {
      "cell_type": "markdown",
      "metadata": {
        "id": "KBPkJFdDoFlk"
      },
      "source": [
        "### 일별 수익률 계산"
      ]
    },
    {
      "cell_type": "markdown",
      "metadata": {
        "id": "DkIADtjCov5n"
      },
      "source": [
        "#### 이전 데이터와 값의 차이"
      ]
    },
    {
      "cell_type": "markdown",
      "metadata": {
        "id": "kyaQOtG0qraR"
      },
      "source": [
        "cel['Close'] : 종가"
      ]
    },
    {
      "cell_type": "code",
      "metadata": {
        "id": "KdhSZBHtoFlk",
        "outputId": "6455bf9a-01a3-4589-f6e9-9720f6424431"
      },
      "source": [
        "cel['Close'].diff()"
      ],
      "execution_count": null,
      "outputs": [
        {
          "output_type": "execute_result",
          "data": {
            "text/plain": [
              "Date\n",
              "2010-01-04       NaN\n",
              "2010-01-05     120.0\n",
              "2010-01-06      60.0\n",
              "2010-01-07    -180.0\n",
              "2010-01-08    -100.0\n",
              "               ...  \n",
              "2020-12-23     300.0\n",
              "2020-12-24    -700.0\n",
              "2020-12-28    -200.0\n",
              "2020-12-29    2300.0\n",
              "2020-12-30    1000.0\n",
              "Name: Close, Length: 2708, dtype: float64"
            ]
          },
          "metadata": {
            "tags": []
          },
          "execution_count": 42
        }
      ]
    },
    {
      "cell_type": "markdown",
      "metadata": {
        "id": "PCzfOz7Eo35X"
      },
      "source": [
        "#### 이전 보다 몇 퍼센트 정도 등락(-1 ~ 0 ~ 1)"
      ]
    },
    {
      "cell_type": "code",
      "metadata": {
        "id": "6I0O1lBDoFll",
        "outputId": "57b96995-6554-43eb-88fc-39090f1ece4c"
      },
      "source": [
        "cel_daily= cel['Close'].pct_change()\n",
        "cel_daily"
      ],
      "execution_count": null,
      "outputs": [
        {
          "output_type": "execute_result",
          "data": {
            "text/plain": [
              "Date\n",
              "2010-01-04         NaN\n",
              "2010-01-05    0.008174\n",
              "2010-01-06    0.004054\n",
              "2010-01-07   -0.012113\n",
              "2010-01-08   -0.006812\n",
              "                ...   \n",
              "2020-12-23    0.003989\n",
              "2020-12-24   -0.009272\n",
              "2020-12-28   -0.002674\n",
              "2020-12-29    0.030831\n",
              "2020-12-30    0.013004\n",
              "Name: Close, Length: 2708, dtype: float64"
            ]
          },
          "metadata": {
            "tags": []
          },
          "execution_count": 43
        }
      ]
    },
    {
      "cell_type": "code",
      "metadata": {
        "id": "UzPQ76iHoFll",
        "outputId": "4ebf236e-2043-4a14-a443-12f7717c5bce"
      },
      "source": [
        "# 수익률이 0 미만인 데이터의 수를 구한다.\n",
        "# 주가가 떨어진것\n",
        "a1 = cel_daily < 0\n",
        "a1.sum()\n"
      ],
      "execution_count": null,
      "outputs": [
        {
          "output_type": "execute_result",
          "data": {
            "text/plain": [
              "1288"
            ]
          },
          "metadata": {
            "tags": []
          },
          "execution_count": 44
        }
      ]
    },
    {
      "cell_type": "markdown",
      "metadata": {
        "id": "E4PvnqT2oFlm"
      },
      "source": [
        "- 10년간 주식이 내린 날은 1288일\n"
      ]
    },
    {
      "cell_type": "markdown",
      "metadata": {
        "id": "gfplUTyCoFlm"
      },
      "source": [
        "### 종가에 대한 10%, 90% 위치를 살펴본다.\n"
      ]
    },
    {
      "cell_type": "code",
      "metadata": {
        "id": "_WU13_r4oFlm",
        "outputId": "9c5df5b3-d8cd-48ed-a41f-842e20a98248"
      },
      "source": [
        "#종가만 추출한다.\n",
        "cel_close=cel['Close']\n",
        "cel_close"
      ],
      "execution_count": null,
      "outputs": [
        {
          "output_type": "execute_result",
          "data": {
            "text/plain": [
              "Date\n",
              "2010-01-04    14680.0\n",
              "2010-01-05    14800.0\n",
              "2010-01-06    14860.0\n",
              "2010-01-07    14680.0\n",
              "2010-01-08    14580.0\n",
              "               ...   \n",
              "2020-12-23    75500.0\n",
              "2020-12-24    74800.0\n",
              "2020-12-28    74600.0\n",
              "2020-12-29    76900.0\n",
              "2020-12-30    77900.0\n",
              "Name: Close, Length: 2708, dtype: float64"
            ]
          },
          "metadata": {
            "tags": []
          },
          "execution_count": 45
        }
      ]
    },
    {
      "cell_type": "code",
      "metadata": {
        "id": "u9BpcOSEoFlm",
        "outputId": "1d250e75-644c-4883-a8e1-462329a2f0ff"
      },
      "source": [
        "# 종가 금액의 요약 통계 정보를 살펴본다.\n",
        "cel_des = cel_close.describe(percentiles=(0.1,0.9))\n",
        "cel_des"
      ],
      "execution_count": null,
      "outputs": [
        {
          "output_type": "execute_result",
          "data": {
            "text/plain": [
              "count     2708.000000\n",
              "mean     24515.782866\n",
              "std      12160.870158\n",
              "min      13100.000000\n",
              "10%      15660.000000\n",
              "50%      21890.000000\n",
              "90%      31400.000000\n",
              "max      82400.000000\n",
              "Name: Close, dtype: float64"
            ]
          },
          "metadata": {
            "tags": []
          },
          "execution_count": 46
        }
      ]
    },
    {
      "cell_type": "markdown",
      "metadata": {
        "id": "rpifRk46oFln"
      },
      "source": [
        "### 데이터 시각화"
      ]
    },
    {
      "cell_type": "code",
      "metadata": {
        "id": "Eobh-IDGoFln",
        "outputId": "ed21bbe3-f12b-44d3-8351-4fd768a8edf8"
      },
      "source": [
        "# 극단치 확인\n",
        "cel_close.plot.box()\n",
        "plt.show()\n"
      ],
      "execution_count": null,
      "outputs": [
        {
          "output_type": "display_data",
          "data": {
            "image/png": "[encoded data removed]",
            "text/plain": [
              "<Figure size 1440x720 with 1 Axes>"
            ]
          },
          "metadata": {
            "tags": [],
            "needs_background": "light"
          }
        }
      ]
    },
    {
      "cell_type": "markdown",
      "metadata": {
        "id": "iUygkKLLoFln"
      },
      "source": [
        "#### 종가 금액에 대한 그래프 색을 검정색으로 해서 그린다.\n",
        "- x 축은 일자, y 축은 금액으로 처리한다.\n",
        "- 데이터 프레임이나 시리즈의 인덱스가 x 축이 된다.\n"
      ]
    },
    {
      "cell_type": "code",
      "metadata": {
        "id": "E2r-10HXoFlo",
        "outputId": "32a1f5e9-9c3f-4399-d4b0-936eddd1c80e"
      },
      "source": [
        "cel_close.plot(color='black')\n",
        "plt.show()\n"
      ],
      "execution_count": null,
      "outputs": [
        {
          "output_type": "display_data",
          "data": {
            "image/png": "[encoded data removed]",
            "text/plain": [
              "<Figure size 1440x720 with 1 Axes>"
            ]
          },
          "metadata": {
            "tags": [],
            "needs_background": "light"
          }
        }
      ]
    },
    {
      "cell_type": "markdown",
      "metadata": {
        "id": "ND9fu9-UoFlo"
      },
      "source": [
        "#### 특정 범위를 벗어나는 그래프의 색을 다르게 표시한다.\n",
        "- 하나의 별도 그래프를 그려서 별도의 모양과 색으로 처리한다.\n"
      ]
    },
    {
      "cell_type": "code",
      "metadata": {
        "id": "dKK6BgUToFlp",
        "outputId": "6d3ce22d-1fd9-4005-ef8b-01440d5ab632"
      },
      "source": [
        "# 요약통계 정보를 가져온다.\n",
        "cel_des = cel_close.describe(percentiles=[0.1, 0.9])\n",
        "cel_des\n"
      ],
      "execution_count": null,
      "outputs": [
        {
          "output_type": "execute_result",
          "data": {
            "text/plain": [
              "count     2708.000000\n",
              "mean     24515.782866\n",
              "std      12160.870158\n",
              "min      13100.000000\n",
              "10%      15660.000000\n",
              "50%      21890.000000\n",
              "90%      31400.000000\n",
              "max      82400.000000\n",
              "Name: Close, dtype: float64"
            ]
          },
          "metadata": {
            "tags": []
          },
          "execution_count": 49
        }
      ]
    },
    {
      "cell_type": "markdown",
      "metadata": {
        "id": "mlRVY4CZsh9-"
      },
      "source": [
        "### 10%, 90%를 이용하한 시각화"
      ]
    },
    {
      "cell_type": "markdown",
      "metadata": {
        "id": "YROlMChWr28H"
      },
      "source": [
        "- 10% 이하의 값들 요약통계 정보에서 10% 위치 값을 가져온다.\n",
        "\n",
        "- 10%이하의 값들에 해당하는 것은 True로 되어있는 결과를 가져온다."
      ]
    },
    {
      "cell_type": "code",
      "metadata": {
        "id": "Lhik3hdGoFlp",
        "outputId": "5493308d-d705-4eed-e02f-90872195339b"
      },
      "source": [
        "a1=cel_des.loc['10%']\n",
        "a1\n",
        "\n",
        "a2=cel_close <= a1 # 10%이하의 값들에 해당하는 것은 True로 되어있는 결과를 가져온다.\n",
        "a2 "
      ],
      "execution_count": null,
      "outputs": [
        {
          "output_type": "execute_result",
          "data": {
            "text/plain": [
              "Date\n",
              "2010-01-04     True\n",
              "2010-01-05     True\n",
              "2010-01-06     True\n",
              "2010-01-07     True\n",
              "2010-01-08     True\n",
              "              ...  \n",
              "2020-12-23    False\n",
              "2020-12-24    False\n",
              "2020-12-28    False\n",
              "2020-12-29    False\n",
              "2020-12-30    False\n",
              "Name: Close, Length: 2708, dtype: bool"
            ]
          },
          "metadata": {
            "tags": []
          },
          "execution_count": 50
        }
      ]
    },
    {
      "cell_type": "markdown",
      "metadata": {
        "id": "Dt_mruQOrdOx"
      },
      "source": [
        "- 90% 이상의 값들을 요약통계 정보에서 90% 위치 값을 가져온다.\n",
        "\n",
        "- 90%이상의 값들에 해당하는 것은 True로 되어있는 결과를 가져온다."
      ]
    },
    {
      "cell_type": "code",
      "metadata": {
        "id": "zCc2tKdkoFlq",
        "outputId": "727d3a5d-7b7a-4253-8520-d7be748c27f5"
      },
      "source": [
        "a3=cel_des.loc['90%']\n",
        "a3\n",
        "\n",
        "a4=cel_close >= a3 # 90%이상의 값들에 해당하는 것은 True로 되어있는 결과를 가져온\n",
        "a4"
      ],
      "execution_count": null,
      "outputs": [
        {
          "output_type": "execute_result",
          "data": {
            "text/plain": [
              "Date\n",
              "2010-01-04    False\n",
              "2010-01-05    False\n",
              "2010-01-06    False\n",
              "2010-01-07    False\n",
              "2010-01-08    False\n",
              "              ...  \n",
              "2020-12-23     True\n",
              "2020-12-24     True\n",
              "2020-12-28     True\n",
              "2020-12-29     True\n",
              "2020-12-30     True\n",
              "Name: Close, Length: 2708, dtype: bool"
            ]
          },
          "metadata": {
            "tags": []
          },
          "execution_count": 51
        }
      ]
    },
    {
      "cell_type": "markdown",
      "metadata": {
        "id": "OEtdmhNurt-i"
      },
      "source": [
        "- 위의 두 결과를 합친다. (or 연산을 한다.)\n",
        "- or : |, 둘 중 하나라도 True면 결과를 True가 된다.\n",
        "- and : &, 둘 중 하나라도 False면 결과를 False가 된다."
      ]
    },
    {
      "cell_type": "code",
      "metadata": {
        "id": "Q7ii_qqEoFlq",
        "outputId": "99b48b70-021c-49dc-8f20-2aa4ecf6fc85"
      },
      "source": [
        "a5 = a2 | a4\n",
        "a5.value_counts()\n"
      ],
      "execution_count": null,
      "outputs": [
        {
          "output_type": "execute_result",
          "data": {
            "text/plain": [
              "False    2160\n",
              "True      548\n",
              "Name: Close, dtype: int64"
            ]
          },
          "metadata": {
            "tags": []
          },
          "execution_count": 52
        }
      ]
    },
    {
      "cell_type": "markdown",
      "metadata": {
        "id": "pg1MK_1Rs0IY"
      },
      "source": [
        "#### 10%이하, 90%이상인 것들을 가져온다"
      ]
    },
    {
      "cell_type": "code",
      "metadata": {
        "id": "P6PO1ZrWoFlq",
        "outputId": "14507f86-34f3-45c9-8faa-de0e23d37ef2"
      },
      "source": [
        "cel_top_bottom=cel_close[a5]\n",
        "cel_top_bottom"
      ],
      "execution_count": null,
      "outputs": [
        {
          "output_type": "execute_result",
          "data": {
            "text/plain": [
              "Date\n",
              "2010-01-04    14680.0\n",
              "2010-01-05    14800.0\n",
              "2010-01-06    14860.0\n",
              "2010-01-07    14680.0\n",
              "2010-01-08    14580.0\n",
              "               ...   \n",
              "2020-12-23    75500.0\n",
              "2020-12-24    74800.0\n",
              "2020-12-28    74600.0\n",
              "2020-12-29    76900.0\n",
              "2020-12-30    77900.0\n",
              "Name: Close, Length: 548, dtype: float64"
            ]
          },
          "metadata": {
            "tags": []
          },
          "execution_count": 53
        }
      ]
    },
    {
      "cell_type": "markdown",
      "metadata": {
        "id": "acv_uqkWs46F"
      },
      "source": [
        "# 시각화\n",
        "- style : 선의 모양. ' ' 를 주면 선의 모양은 빈칸이 된다.\n",
        "- marker : 값 위치에 표시할 모양, o는 점\n",
        "- ms : 마커의 크기\n",
        "- color : 색상"
      ]
    },
    {
      "cell_type": "code",
      "metadata": {
        "id": "IgGjATiGoFlr",
        "outputId": "d3dc5b2d-ebee-4b10-ded4-17ee728465e1"
      },
      "source": [
        "cel_top_bottom.plot(style=' ', marker='o', ms=4, color='darkgray')\n",
        "plt.show()\n"
      ],
      "execution_count": null,
      "outputs": [
        {
          "output_type": "display_data",
          "data": {
            "image/png": "[encoded data removed]",
            "text/plain": [
              "<Figure size 1440x720 with 1 Axes>"
            ]
          },
          "metadata": {
            "tags": [],
            "needs_background": "light"
          }
        }
      ]
    },
    {
      "cell_type": "markdown",
      "metadata": {
        "id": "V4_nU6pyoFls"
      },
      "source": [
        "## 그래프 내에 강조 선 그리기\n",
        "- 상위(90%), 하위(10%) 선을 그린다.\n"
      ]
    },
    {
      "cell_type": "code",
      "metadata": {
        "id": "Dp0NUrvroFls",
        "outputId": "137de44d-7829-4794-8045-ec1411c563b0"
      },
      "source": [
        "# 10% 이하의 값들\n",
        "a1 = cel_close <= cel_des.loc['10%']\n",
        "# 90% 이상의 값들\n",
        "a2 = cel_close >= cel_des.loc['90%']\n",
        "\n",
        "criteria = a1 | a2\n",
        "criteria\n"
      ],
      "execution_count": null,
      "outputs": [
        {
          "output_type": "execute_result",
          "data": {
            "text/plain": [
              "Date\n",
              "2010-01-04    True\n",
              "2010-01-05    True\n",
              "2010-01-06    True\n",
              "2010-01-07    True\n",
              "2010-01-08    True\n",
              "              ... \n",
              "2020-12-23    True\n",
              "2020-12-24    True\n",
              "2020-12-28    True\n",
              "2020-12-29    True\n",
              "2020-12-30    True\n",
              "Name: Close, Length: 2708, dtype: bool"
            ]
          },
          "metadata": {
            "tags": []
          },
          "execution_count": 55
        }
      ]
    },
    {
      "cell_type": "markdown",
      "metadata": {
        "id": "XcOlkQN8tZDI"
      },
      "source": [
        "- 선을 그리기 위해 y 축을 10%, 90%의 위치로 지정하고 x 축은 시작점과\n",
        "- 종료점으로 셋팅한다."
      ]
    },
    {
      "cell_type": "code",
      "metadata": {
        "id": "rSFxbpVeoFls",
        "outputId": "c96694c3-6fd4-49ba-daf0-e43f90ec2e06"
      },
      "source": [
        "# 10% 위치값\n",
        "value_10 = cel_des.loc['10%']\n",
        "# 90% 위치값\n",
        "value_90 = cel_des.loc['90%']\n",
        "\n",
        "# 제일 작은 날짜값\n",
        "index_min = criteria.index[0]\n",
        "# 제일 큰 날짜값\n",
        "index_max = criteria.index[-1]\n",
        "\n",
        "plt.hlines(y = [value_10, value_90], xmin=index_min, xmax=index_max, \n",
        "          color='red')\n",
        "plt.show()\n"
      ],
      "execution_count": null,
      "outputs": [
        {
          "output_type": "display_data",
          "data": {
            "image/png": "[encoded data removed]",
            "text/plain": [
              "<Figure size 1440x720 with 1 Axes>"
            ]
          },
          "metadata": {
            "tags": [],
            "needs_background": "light"
          }
        }
      ]
    },
    {
      "cell_type": "markdown",
      "metadata": {
        "id": "QwIvzyXpoFlt"
      },
      "source": [
        "#### 지금까지 살펴본 3가지 그래프를 한번에 그린다.\n"
      ]
    },
    {
      "cell_type": "code",
      "metadata": {
        "id": "y9gMIawRoFlt",
        "outputId": "2f03caff-8b3f-48d7-d5a6-73df86596fb1"
      },
      "source": [
        "# 종가 전체 그래프\n",
        "cel_close.plot(color='black')\n",
        "\n",
        "# 상위 90% 이상, 하위 10% 이하에 점을 찍는다.\n",
        "cel_top_bottom.plot(style=' ', marker='o', ms=4, color='blue')\n",
        "\n",
        "# 상위 90% 위치, 하위 10% 위치에 강조선을 긋는다.\n",
        "plt.hlines(y = [value_10, value_90], xmin=index_min, xmax=index_max, \n",
        "          color='red')\n",
        "plt.show()"
      ],
      "execution_count": null,
      "outputs": [
        {
          "output_type": "display_data",
          "data": {
            "image/png": "[encoded data removed]",
            "text/plain": [
              "<Figure size 1440x720 with 1 Axes>"
            ]
          },
          "metadata": {
            "tags": [],
            "needs_background": "light"
          }
        }
      ]
    },
    {
      "cell_type": "markdown",
      "metadata": {
        "id": "t87X1xZBymGq"
      },
      "source": [
        "#### pct_change : 현재 원소와 이전 원소간의 % 변화율 계산"
      ]
    },
    {
      "cell_type": "code",
      "metadata": {
        "id": "yMA0mN-doFlu",
        "outputId": "daca8df1-3cbd-4d29-dfdb-cba4334571dd"
      },
      "source": [
        "cel_pct_change = cel['Close'].pct_change()\n",
        "cel_pct_change"
      ],
      "execution_count": null,
      "outputs": [
        {
          "output_type": "execute_result",
          "data": {
            "text/plain": [
              "Date\n",
              "2010-01-04         NaN\n",
              "2010-01-05    0.008174\n",
              "2010-01-06    0.004054\n",
              "2010-01-07   -0.012113\n",
              "2010-01-08   -0.006812\n",
              "                ...   \n",
              "2020-12-23    0.003989\n",
              "2020-12-24   -0.009272\n",
              "2020-12-28   -0.002674\n",
              "2020-12-29    0.030831\n",
              "2020-12-30    0.013004\n",
              "Name: Close, Length: 2708, dtype: float64"
            ]
          },
          "metadata": {
            "tags": []
          },
          "execution_count": 59
        }
      ]
    },
    {
      "cell_type": "code",
      "metadata": {
        "id": "kACH2RDhoFlu",
        "outputId": "340ff279-937f-43ba-dc02-06380a05d1d8"
      },
      "source": [
        "# 첫 번째 날은 이전 날이 없기 때문에 결과가 결측치로 되어 있다.\n",
        "cel_pct_change.isna().sum()"
      ],
      "execution_count": null,
      "outputs": [
        {
          "output_type": "execute_result",
          "data": {
            "text/plain": [
              "1"
            ]
          },
          "metadata": {
            "tags": []
          },
          "execution_count": 60
        }
      ]
    },
    {
      "cell_type": "code",
      "metadata": {
        "id": "1J2sSQztoFlv",
        "outputId": "7e7d00c4-5386-44b5-a414-671053dd9821"
      },
      "source": [
        "# 제거한다.\n",
        "cel_pct_change.dropna(inplace=True)\n",
        "cel_pct_change.isna().sum()"
      ],
      "execution_count": null,
      "outputs": [
        {
          "output_type": "execute_result",
          "data": {
            "text/plain": [
              "0"
            ]
          },
          "metadata": {
            "tags": []
          },
          "execution_count": 61
        }
      ]
    },
    {
      "cell_type": "markdown",
      "metadata": {
        "id": "3GtkPb7Cyzsa"
      },
      "source": [
        "#### 0을 기준으로 양수: 오른날 음수: 내린날\n",
        "- 내린날 보다 오른날이 더 많은것을 알 수 있다. "
      ]
    },
    {
      "cell_type": "code",
      "metadata": {
        "id": "bFuJmt1KoFlv",
        "outputId": "0b35cd63-e456-4414-bfe8-fbf875c94fed"
      },
      "source": [
        "cel_pct_change.hist()\n",
        "plt.show()"
      ],
      "execution_count": null,
      "outputs": [
        {
          "output_type": "display_data",
          "data": {
            "image/png": "[encoded data removed]",
            "text/plain": [
              "<Figure size 1440x720 with 1 Axes>"
            ]
          },
          "metadata": {
            "tags": [],
            "needs_background": "light"
          }
        }
      ]
    },
    {
      "cell_type": "markdown",
      "metadata": {
        "id": "k_Eth1aeoFlw"
      },
      "source": [
        "### 통계량\n",
        "\n",
        "#### 첨도(Kurtosis)\n",
        "- 첨도는 분포의 꼬리부분의 길이와 중와 부분의 표족함에 대한 정보를 제공하는 통계량\n",
        "- 첨도가 0보다 크면 긴 꼬리를 갖고 분포가 중앙 부분에 덜 분포 되어 있는것으로 해석한다\n"
      ]
    },
    {
      "cell_type": "code",
      "metadata": {
        "id": "l9Jqm7IIoFlw",
        "outputId": "79f82313-85ca-4768-a8ad-eee42a42d2b4"
      },
      "source": [
        "cel_daily.kurt()\n"
      ],
      "execution_count": null,
      "outputs": [
        {
          "output_type": "execute_result",
          "data": {
            "text/plain": [
              "1.5544292402894202"
            ]
          },
          "metadata": {
            "tags": []
          },
          "execution_count": 32
        }
      ]
    },
    {
      "cell_type": "code",
      "metadata": {
        "id": "xjPeSYW-oFlw"
      },
      "source": [
        ""
      ],
      "execution_count": null,
      "outputs": []
    },
    {
      "cell_type": "code",
      "metadata": {
        "id": "mAD24zKanRDk"
      },
      "source": [
        ""
      ],
      "execution_count": null,
      "outputs": []
    },
    {
      "cell_type": "code",
      "metadata": {
        "id": "yuyFuMDfnRAy"
      },
      "source": [
        ""
      ],
      "execution_count": null,
      "outputs": []
    },
    {
      "cell_type": "code",
      "metadata": {
        "id": "GL9RUwLxnQ91"
      },
      "source": [
        ""
      ],
      "execution_count": null,
      "outputs": []
    },
    {
      "cell_type": "code",
      "metadata": {
        "id": "Gj96pqgknQcI"
      },
      "source": [
        ""
      ],
      "execution_count": null,
      "outputs": []
    },
    {
      "cell_type": "code",
      "metadata": {
        "id": "HBqFTHsdnQZz"
      },
      "source": [
        ""
      ],
      "execution_count": null,
      "outputs": []
    },
    {
      "cell_type": "code",
      "metadata": {
        "id": "FbmA_rY_nQWu"
      },
      "source": [
        ""
      ],
      "execution_count": null,
      "outputs": []
    }
  ]
}