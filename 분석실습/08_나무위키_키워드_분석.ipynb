{
  "nbformat": 4,
  "nbformat_minor": 0,
  "metadata": {
    "kernelspec": {
      "display_name": "Python 3",
      "language": "python",
      "name": "python3"
    },
    "language_info": {
      "codemirror_mode": {
        "name": "ipython",
        "version": 3
      },
      "file_extension": ".py",
      "mimetype": "text/x-python",
      "name": "python",
      "nbconvert_exporter": "python",
      "pygments_lexer": "ipython3",
      "version": "3.8.5"
    },
    "colab": {
      "name": "09_나무위키 키워드 분석.ipynb",
      "provenance": []
    }
  },
  "cells": [
    {
      "cell_type": "markdown",
      "metadata": {
        "id": "9O5bKVWIWqx1"
      },
      "source": [
        "### 한국어 분석을 위한 환경 구성\n",
        "[vs 빌도구도 설치]\n",
        "- 내려받으실 빌드 도구를 그냥 설치하시면 됩니다.\n",
        "- 설치시 C++ 도구를 선택(좌측 상단)하고 설치한다\n",
        "\n",
        "[JDK 설치]\n",
        "- 제공한 파일을 설치한다.\n",
        "\n",
        "[JDK 환경변수 설정]\n",
        "- 먼저 jdk가 설치된 경로를 파악한다.\n",
        "- 탐색기에서 내PC에서 마우스 우클릭하고 속성을 클릭\n",
        "- 환경변수를 눌러준다.\n",
        "- 새로만들기를 눌러 다음과 같이 작성한다.\n",
        "- 변수 이름 : JAVA_HOME\n",
        "- 변수 값 : jdk경로\n",
        "- 주피터를 완전히 종료하고 다시 실행한다.\n",
        "\n",
        "[필요한 라이브러리 설치]\n",
        "- pip install konlpy==0.5.1\n",
        "- pip install jpype1\n",
        "- pip install jpype1-py3"
      ]
    },
    {
      "cell_type": "markdown",
      "metadata": {
        "id": "l-jeSF4lWqx3"
      },
      "source": [
        "### 워드 클라우드를 사용하기 위한 설정\n",
        "- pip install pytagcloud\n",
        "- pip install pygame\n",
        "- pip install simplejson"
      ]
    },
    {
      "cell_type": "code",
      "metadata": {
        "id": "PQV1CMYiWqx4",
        "outputId": "feb1c79d-21ad-4490-d549-f0b56c109998"
      },
      "source": [
        "# 기본\n",
        "import pandas as pd\n",
        "import numpy as np\n",
        "import matplotlib.pyplot as plt\n",
        "import seaborn as sns\n",
        "\n",
        "# 경고 뜨지 않게 설정\n",
        "import warnings\n",
        "warnings.filterwarnings('ignore')\n",
        "\n",
        "# 그래프 설정\n",
        "plt.rcParams['font.family'] = 'Malgun Gothic'\n",
        "# plt.rcParams['font.family'] = 'AppleGothic'\n",
        "plt.rcParams['font.size'] = 16\n",
        "plt.rcParams['figure.figsize'] = 20, 10\n",
        "plt.rcParams['axes.unicode_minus'] = False\n",
        "\n",
        "# 데이터 전처리 알고리즘\n",
        "from sklearn.preprocessing import LabelEncoder\n",
        "from sklearn.preprocessing import StandardScaler\n",
        "\n",
        "# 학습용과 검증용으로 나누는 함수\n",
        "from sklearn.model_selection import train_test_split\n",
        "\n",
        "# 교차 검증\n",
        "# 지표를 하나만 설정할 경우\n",
        "from sklearn.model_selection import cross_val_score\n",
        "# 지표를 하나 이상 설정할 경우\n",
        "from sklearn.model_selection import cross_validate\n",
        "from sklearn.model_selection import KFold\n",
        "from sklearn.model_selection import StratifiedKFold\n",
        "\n",
        "# 모델의 최적의 하이퍼파라미터를 찾기 위한 도구\n",
        "from sklearn.model_selection import GridSearchCV\n",
        "\n",
        "# 평가함수\n",
        "# 분류용\n",
        "from sklearn.metrics import accuracy_score\n",
        "from sklearn.metrics import precision_score\n",
        "from sklearn.metrics import recall_score\n",
        "from sklearn.metrics import f1_score\n",
        "from sklearn.metrics import roc_auc_score\n",
        "\n",
        "# 회귀용\n",
        "from sklearn.metrics import r2_score\n",
        "from sklearn.metrics import mean_squared_error\n",
        "\n",
        "# 머신러닝 알고리즘 - 분류\n",
        "from sklearn.neighbors import KNeighborsClassifier\n",
        "from sklearn.linear_model import LogisticRegression\n",
        "from sklearn.svm import SVC\n",
        "from sklearn.tree import DecisionTreeClassifier\n",
        "from sklearn.ensemble import RandomForestClassifier\n",
        "from sklearn.ensemble import AdaBoostClassifier\n",
        "from sklearn.ensemble import GradientBoostingClassifier\n",
        "from lightgbm import LGBMClassifier\n",
        "from xgboost import XGBClassifier\n",
        "from sklearn.ensemble import VotingClassifier\n",
        "\n",
        "# 머신러닝 알고리즘 - 회귀\n",
        "from sklearn.neighbors import KNeighborsRegressor\n",
        "from sklearn.linear_model import LinearRegression\n",
        "from sklearn.linear_model import Ridge\n",
        "from sklearn.linear_model import Lasso\n",
        "from sklearn.linear_model import ElasticNet\n",
        "from sklearn.svm import SVR\n",
        "from sklearn.tree import DecisionTreeRegressor\n",
        "from sklearn.ensemble import RandomForestRegressor\n",
        "from sklearn.ensemble import AdaBoostRegressor\n",
        "from sklearn.ensemble import GradientBoostingRegressor\n",
        "from lightgbm import LGBMRegressor\n",
        "from xgboost import XGBRegressor\n",
        "from sklearn.ensemble import VotingRegressor\n",
        "\n",
        "# 차원축소\n",
        "from sklearn.decomposition import PCA\n",
        "from sklearn.discriminant_analysis import LinearDiscriminantAnalysis\n",
        "\n",
        "# 군집화\n",
        "from sklearn.cluster import KMeans\n",
        "from sklearn.cluster import MeanShift\n",
        "from sklearn.cluster import estimate_bandwidth\n",
        "\n",
        "# 시간 측정을 위한 시간 모듈\n",
        "import datetime\n",
        "# 주식 정보를 읽어오기 위한 라이브러리\n",
        "from pandas_datareader import data\n",
        "\n",
        "# 데이터 수집\n",
        "import requests\n",
        "from bs4 import BeautifulSoup\n",
        "import re\n",
        "import time\n",
        "import os\n",
        "\n",
        "# 한국어 형태소 분석\n",
        "from konlpy.tag import Okt, Hannanum, Kkma, Mecab, Komoran\n",
        "\n",
        "# 워드 클라우드를 위한 라이브러리\n",
        "from collections import Counter\n",
        "import pytagcloud\n",
        "from IPython.display import Image"
      ],
      "execution_count": null,
      "outputs": [
        {
          "output_type": "stream",
          "text": [
            "pygame 2.0.1 (SDL 2.0.14, Python 3.8.5)\n",
            "Hello from the pygame community. https://www.pygame.org/contribute.html\n"
          ],
          "name": "stdout"
        }
      ]
    },
    {
      "cell_type": "markdown",
      "metadata": {
        "id": "vM-HGpvQWqx9"
      },
      "source": [
        "### 데이터를 읽어온다."
      ]
    },
    {
      "cell_type": "code",
      "metadata": {
        "id": "Kjn16Jp3Wqx-",
        "outputId": "2e4709f2-d97c-4f1a-f1f8-1f25b1f836d5"
      },
      "source": [
        "df = pd.read_csv('data/wiki_data.csv')\n",
        "df.head()"
      ],
      "execution_count": null,
      "outputs": [
        {
          "output_type": "execute_result",
          "data": {
            "text/html": [
              "<div>\n",
              "<style scoped>\n",
              "    .dataframe tbody tr th:only-of-type {\n",
              "        vertical-align: middle;\n",
              "    }\n",
              "\n",
              "    .dataframe tbody tr th {\n",
              "        vertical-align: top;\n",
              "    }\n",
              "\n",
              "    .dataframe thead th {\n",
              "        text-align: right;\n",
              "    }\n",
              "</style>\n",
              "<table border=\"1\" class=\"dataframe\">\n",
              "  <thead>\n",
              "    <tr style=\"text-align: right;\">\n",
              "      <th></th>\n",
              "      <th>title</th>\n",
              "      <th>content</th>\n",
              "    </tr>\n",
              "  </thead>\n",
              "  <tbody>\n",
              "    <tr>\n",
              "      <th>0</th>\n",
              "      <td>알고있지만,</td>\n",
              "      <td>금토 드라마 [ 펼치기 · 접기 ]2021~2025(2021)(2021)토요 드라마...</td>\n",
              "    </tr>\n",
              "    <tr>\n",
              "      <th>1</th>\n",
              "      <td>서용빈</td>\n",
              "      <td>로그인 후 편집 가능한 문서입니다.kt wiz2021 시즌 코칭스태프kt wi...</td>\n",
              "    </tr>\n",
              "    <tr>\n",
              "      <th>2</th>\n",
              "      <td>한림연예예술고등학교</td>\n",
              "      <td>가입 후 15일이 지나야 편집 가능한 문서입니다.이 문서는 학교 관련 문서이며...</td>\n",
              "    </tr>\n",
              "    <tr>\n",
              "      <th>3</th>\n",
              "      <td>먹튀/야구/KBO 리그</td>\n",
              "      <td>상위 문서: 먹튀/스포츠/야구1. 기준2. KBO 리그2.1. 두산 베어스2....</td>\n",
              "    </tr>\n",
              "    <tr>\n",
              "      <th>4</th>\n",
              "      <td>크림히어로즈 채널 소유권 이전 사태</td>\n",
              "      <td>주의. 사건·사고 관련 내용을 설명합니다. 이 문서는 실제로 일어난 사건·사고의 자...</td>\n",
              "    </tr>\n",
              "  </tbody>\n",
              "</table>\n",
              "</div>"
            ],
            "text/plain": [
              "                 title                                            content\n",
              "0               알고있지만,  금토 드라마 [ 펼치기 · 접기 ]2021~2025(2021)(2021)토요 드라마...\n",
              "1                  서용빈     로그인 후 편집 가능한 문서입니다.kt wiz2021 시즌 코칭스태프kt wi...\n",
              "2           한림연예예술고등학교     가입 후 15일이 지나야 편집 가능한 문서입니다.이 문서는 학교 관련 문서이며...\n",
              "3         먹튀/야구/KBO 리그     상위 문서: 먹튀/스포츠/야구1. 기준2. KBO 리그2.1. 두산 베어스2....\n",
              "4  크림히어로즈 채널 소유권 이전 사태  주의. 사건·사고 관련 내용을 설명합니다. 이 문서는 실제로 일어난 사건·사고의 자..."
            ]
          },
          "metadata": {
            "tags": []
          },
          "execution_count": 2
        }
      ]
    },
    {
      "cell_type": "code",
      "metadata": {
        "id": "st1Db1ypWqx_",
        "outputId": "f4af26dd-bf85-47f2-d496-31d12c40c6d8"
      },
      "source": [
        "# 결측치 확인\n",
        "df.isna().sum()"
      ],
      "execution_count": null,
      "outputs": [
        {
          "output_type": "execute_result",
          "data": {
            "text/plain": [
              "title      0\n",
              "content    7\n",
              "dtype: int64"
            ]
          },
          "metadata": {
            "tags": []
          },
          "execution_count": 3
        }
      ]
    },
    {
      "cell_type": "code",
      "metadata": {
        "id": "81hnvLojWqyA",
        "outputId": "69b09ff5-e64e-4d01-937e-08683a94dab3"
      },
      "source": [
        "# 결측치 제거\n",
        "df.dropna(inplace=True)\n",
        "df.isna().sum()"
      ],
      "execution_count": null,
      "outputs": [
        {
          "output_type": "execute_result",
          "data": {
            "text/plain": [
              "title      0\n",
              "content    0\n",
              "dtype: int64"
            ]
          },
          "metadata": {
            "tags": []
          },
          "execution_count": 4
        }
      ]
    },
    {
      "cell_type": "markdown",
      "metadata": {
        "id": "A6wgfTZIWqyB"
      },
      "source": [
        "### 한글 정제 re.compile('[^ ㄱ-ㅣ가-힣]+')\n",
        "- 글 자체에 한글만 남기고 모두 날린다.\n",
        "-한글 정규식 정의(띄어쓰기, ㄱ~ㅣ,가~힣)\n",
        "- 위배되는 것들은 길이 0인 문자열로 변환"
      ]
    },
    {
      "cell_type": "code",
      "metadata": {
        "id": "dgbQfI5IWqyB"
      },
      "source": [
        "def text_cleaning(text) :\n",
        "    # 한글 정규식 정의(띄어쓰기, ㄱ ~ ㅣ, 가 - 힣)\n",
        "    hangul = re.compile('[^ ㄱ-ㅣ가-힣]+')\n",
        "    # 정재한다.(위 정규식에 위배되는 것들은 길이 0인 문자열로 변환)\n",
        "    result = hangul.sub('', text)\n",
        "    return result"
      ],
      "execution_count": null,
      "outputs": []
    },
    {
      "cell_type": "markdown",
      "metadata": {
        "id": "3qe25NEHY1DK"
      },
      "source": [
        "### 전체 데이터에 한글 정제 적용"
      ]
    },
    {
      "cell_type": "code",
      "metadata": {
        "scrolled": true,
        "id": "G1OyT93yWqyC",
        "outputId": "9447cbe4-0459-47cf-debd-b444e65b3e45"
      },
      "source": [
        "# 한글 정제\n",
        "df['title'] = df['title'].apply(lambda x : text_cleaning(x))\n",
        "df['content'] = df['content'].apply(lambda x : text_cleaning(x))\n",
        "\n",
        "df"
      ],
      "execution_count": null,
      "outputs": [
        {
          "output_type": "execute_result",
          "data": {
            "text/html": [
              "<div>\n",
              "<style scoped>\n",
              "    .dataframe tbody tr th:only-of-type {\n",
              "        vertical-align: middle;\n",
              "    }\n",
              "\n",
              "    .dataframe tbody tr th {\n",
              "        vertical-align: top;\n",
              "    }\n",
              "\n",
              "    .dataframe thead th {\n",
              "        text-align: right;\n",
              "    }\n",
              "</style>\n",
              "<table border=\"1\" class=\"dataframe\">\n",
              "  <thead>\n",
              "    <tr style=\"text-align: right;\">\n",
              "      <th></th>\n",
              "      <th>title</th>\n",
              "      <th>content</th>\n",
              "    </tr>\n",
              "  </thead>\n",
              "  <tbody>\n",
              "    <tr>\n",
              "      <th>0</th>\n",
              "      <td>알고있지만</td>\n",
              "      <td>금토 드라마  펼치기  접기 토요 드라마 알고있지만 전체 방송 프로그램 보기토요 드...</td>\n",
              "    </tr>\n",
              "    <tr>\n",
              "      <th>1</th>\n",
              "      <td>서용빈</td>\n",
              "      <td>로그인 후 편집 가능한 문서입니다  시즌 코칭스태프  시즌 코칭스태프  펼치기 ...</td>\n",
              "    </tr>\n",
              "    <tr>\n",
              "      <th>2</th>\n",
              "      <td>한림연예예술고등학교</td>\n",
              "      <td>가입 후 일이 지나야 편집 가능한 문서입니다이 문서는 학교 관련 문서이며 회원만...</td>\n",
              "    </tr>\n",
              "    <tr>\n",
              "      <th>3</th>\n",
              "      <td>먹튀야구 리그</td>\n",
              "      <td>상위 문서 먹튀스포츠야구 기준  리그 두산 베어스 국내 선수 외국인 선수  타이...</td>\n",
              "    </tr>\n",
              "    <tr>\n",
              "      <th>4</th>\n",
              "      <td>크림히어로즈 채널 소유권 이전 사태</td>\n",
              "      <td>주의 사건사고 관련 내용을 설명합니다 이 문서는 실제로 일어난 사건사고의 자세한 내...</td>\n",
              "    </tr>\n",
              "    <tr>\n",
              "      <th>...</th>\n",
              "      <td>...</td>\n",
              "      <td>...</td>\n",
              "    </tr>\n",
              "    <tr>\n",
              "      <th>94</th>\n",
              "      <td>대한외국인대한외국인팀</td>\n",
              "      <td>상위 문서 대한외국인 대한외국인팀 층 단계 단계 단계 단계 층 단계 단계 단계 ...</td>\n",
              "    </tr>\n",
              "    <tr>\n",
              "      <th>95</th>\n",
              "      <td>파일창왈리드</td>\n",
              "      <td>이 파일은 나무위키에서 제한된 한도 안에서 쓰입니다본 이미지는 퍼블릭 도메인 혹은 ...</td>\n",
              "    </tr>\n",
              "    <tr>\n",
              "      <th>96</th>\n",
              "      <td>시설관리</td>\n",
              "      <td>로그인 후 편집 가능한 문서입니다 직무의 일종 하는 일 요구 역량 공무원 각급 ...</td>\n",
              "    </tr>\n",
              "    <tr>\n",
              "      <th>97</th>\n",
              "      <td>신지우</td>\n",
              "      <td>신지우  미스터리 유튜버국적 대한민국출생년 월 일 세  서울특별시신체 형가족부모님자...</td>\n",
              "    </tr>\n",
              "    <tr>\n",
              "      <th>98</th>\n",
              "      <td>브륀힐드</td>\n",
              "      <td>고대 노르드어   독일어 개요 북유럽 신화의 브륀힐드 오딘의 벌 불행의 시작 최후...</td>\n",
              "    </tr>\n",
              "  </tbody>\n",
              "</table>\n",
              "<p>92 rows × 2 columns</p>\n",
              "</div>"
            ],
            "text/plain": [
              "                  title                                            content\n",
              "0                 알고있지만  금토 드라마  펼치기  접기 토요 드라마 알고있지만 전체 방송 프로그램 보기토요 드...\n",
              "1                   서용빈    로그인 후 편집 가능한 문서입니다  시즌 코칭스태프  시즌 코칭스태프  펼치기 ...\n",
              "2            한림연예예술고등학교    가입 후 일이 지나야 편집 가능한 문서입니다이 문서는 학교 관련 문서이며 회원만...\n",
              "3               먹튀야구 리그    상위 문서 먹튀스포츠야구 기준  리그 두산 베어스 국내 선수 외국인 선수  타이...\n",
              "4   크림히어로즈 채널 소유권 이전 사태  주의 사건사고 관련 내용을 설명합니다 이 문서는 실제로 일어난 사건사고의 자세한 내...\n",
              "..                  ...                                                ...\n",
              "94          대한외국인대한외국인팀    상위 문서 대한외국인 대한외국인팀 층 단계 단계 단계 단계 층 단계 단계 단계 ...\n",
              "95               파일창왈리드  이 파일은 나무위키에서 제한된 한도 안에서 쓰입니다본 이미지는 퍼블릭 도메인 혹은 ...\n",
              "96                 시설관리    로그인 후 편집 가능한 문서입니다 직무의 일종 하는 일 요구 역량 공무원 각급 ...\n",
              "97                  신지우  신지우  미스터리 유튜버국적 대한민국출생년 월 일 세  서울특별시신체 형가족부모님자...\n",
              "98                 브륀힐드   고대 노르드어   독일어 개요 북유럽 신화의 브륀힐드 오딘의 벌 불행의 시작 최후...\n",
              "\n",
              "[92 rows x 2 columns]"
            ]
          },
          "metadata": {
            "tags": []
          },
          "execution_count": 6
        }
      ]
    },
    {
      "cell_type": "code",
      "metadata": {
        "id": "DXuUS0qWWqyD"
      },
      "source": [
        "# 말뭉치 생성을 위해 모든 문장을 하나의 문장으로 합친다.\n",
        "title_corpus = ''.join(df['title'])\n",
        "content_corpus = ''.join(df['content'])\n",
        "\n",
        "# content_corpus"
      ],
      "execution_count": null,
      "outputs": []
    },
    {
      "cell_type": "markdown",
      "metadata": {
        "id": "OhPdXxPiY2_r"
      },
      "source": [
        "### 형태소 분석\n",
        "- Okt()\n",
        "- Kkma()\n",
        "- Hannanum()\n",
        "- Komoran()"
      ]
    },
    {
      "cell_type": "code",
      "metadata": {
        "id": "pz5Oc0B4WqyE",
        "outputId": "ed9c32fe-4070-4424-e581-2ef9abc2d9f5"
      },
      "source": [
        "# 형태소 분석 예제\n",
        "tagger1 = Okt()\n",
        "tagger2 = Kkma()\n",
        "tagger3 = Hannanum()\n",
        "tagger5 = Komoran()\n",
        "\n",
        "print(tagger1.morphs('동해물과 백두산이 마르고 닳도록'))\n",
        "print(tagger2.morphs('동해물과 백두산이 마르고 닳도록'))\n",
        "print(tagger3.morphs('동해물과 백두산이 마르고 닳도록'))\n",
        "print(tagger5.morphs('동해물과 백두산이 마르고 닳도록'))"
      ],
      "execution_count": null,
      "outputs": [
        {
          "output_type": "stream",
          "text": [
            "['동', '해물', '과', '백두산', '이', '마르고', '닳도록']\n",
            "['동하', '어', '물', '과', '백두산', '이', '마르', '고', '닳', '도록']\n",
            "['동해물', '과', '백두산', '이', '마르', '고', '닳', '도록']\n",
            "['동해물과 백두산이', '마르고', '닳', '도록']\n"
          ],
          "name": "stdout"
        }
      ]
    },
    {
      "cell_type": "code",
      "metadata": {
        "id": "IsUAfeDzWqyF"
      },
      "source": [
        "tagger = Okt()\n",
        "\n",
        "# 명사만 추출한다.\n",
        "title_nouns = tagger.nouns(title_corpus)\n",
        "content_nouns = tagger.nouns(content_corpus)\n",
        "\n",
        "# print(title_nouns)\n",
        "# print(content_nouns)"
      ],
      "execution_count": null,
      "outputs": []
    },
    {
      "cell_type": "code",
      "metadata": {
        "id": "higPYhtQWqyG"
      },
      "source": [
        "# 각 단어에 대한 빈도수를 계산한다.\n",
        "title_count = Counter(title_nouns)\n",
        "content_count = Counter(content_nouns)\n",
        "\n",
        "# print(title_count)\n",
        "# print(content_count)"
      ],
      "execution_count": null,
      "outputs": []
    },
    {
      "cell_type": "markdown",
      "metadata": {
        "id": "LdZR4kAmWqyH"
      },
      "source": [
        "### 키워드 다듬기"
      ]
    },
    {
      "cell_type": "code",
      "metadata": {
        "id": "TP2Yn6PlWqyI",
        "outputId": "d933f4cb-8b39-4bfa-e10a-9268ffe8a8ed"
      },
      "source": [
        "# 워드 클라우드는 두 글자 이상만 인식할 수 있기 때문에\n",
        "# 두글자 이상인 것만 남겨둔다.\n",
        "print(len(title_count))\n",
        "print(len(content_count))\n",
        "\n",
        "title_dict = {}\n",
        "for key in title_count :\n",
        "    # 이름이 1보다 크다면 담아준다.\n",
        "    if len(key) > 1 :\n",
        "        title_dict[key] = title_count[key]\n",
        "\n",
        "content_dict = {}\n",
        "for key in content_count :\n",
        "    if len(key) > 1 :\n",
        "        content_dict[key] = content_count[key]\n",
        "\n",
        "# 다시 Counter 객체로 생성한다.\n",
        "remove_title_count = Counter(title_dict)\n",
        "remove_content_count = Counter(content_dict)\n",
        "\n",
        "print(len(remove_title_count))\n",
        "print(len(remove_content_count))"
      ],
      "execution_count": null,
      "outputs": [
        {
          "output_type": "stream",
          "text": [
            "157\n",
            "20369\n",
            "137\n",
            "19539\n"
          ],
          "name": "stdout"
        }
      ]
    },
    {
      "cell_type": "markdown",
      "metadata": {
        "id": "zSXPZvUYWqyK"
      },
      "source": [
        "### 워드 클라우드"
      ]
    },
    {
      "cell_type": "code",
      "metadata": {
        "id": "D5Vo9i30WqyK"
      },
      "source": [
        "# 가장 빈도수가 높은 단어 100개를 선정한다.\n",
        "ranked_title_tags = remove_title_count.most_common(100)\n",
        "ranked_content_tags = remove_content_count.most_common(100)"
      ],
      "execution_count": null,
      "outputs": []
    },
    {
      "cell_type": "code",
      "metadata": {
        "id": "FASsy95RWqyL"
      },
      "source": [
        "# 워드 클라우드를 위한 단어 사전을 생성한다.\n",
        "title_tag_list = pytagcloud.make_tags(ranked_title_tags)\n",
        "content_tag_list = pytagcloud.make_tags(ranked_content_tags)"
      ],
      "execution_count": null,
      "outputs": []
    },
    {
      "cell_type": "markdown",
      "metadata": {
        "id": "OTbiHfygWqyM"
      },
      "source": [
        "### 폰트 설정\n",
        "- 워드클라우드는 한글 폰트가 없기 때문에 오류가 발생한다.\n",
        "- 한글 폰트 등록을 해야한다.\n",
        "- https://hangeul.naver.com/webfont/NanumGothic/NanumGothic.ttf\n",
        "- 아나콘다 설치 폴더\\Lib\\site-packages\\pytagcloud\\fonts 에 넣어준다.\n",
        "- 같은 폴더의 font.json 파일에 다음과 같이 추가해준다.\n",
        "- { <br/>\n",
        "    \"name\" : \"NanumGothic\", <br/>\n",
        "    \"ttf\" : \"NanumGothic.ttf\", <br/>\n",
        "    \"web\" : \"http://fonts.googleapis.com/css?family=Nanum+Gothic\" <br/>\n",
        " }"
      ]
    },
    {
      "cell_type": "code",
      "metadata": {
        "scrolled": true,
        "id": "pqqDRZKdWqyN"
      },
      "source": [
        "pytagcloud.create_tag_image(title_tag_list, 'title_word.jpg',\n",
        "                           size=(900, 600), fontname='NanumGothic',\n",
        "                           rectangular=False)"
      ],
      "execution_count": null,
      "outputs": []
    },
    {
      "cell_type": "code",
      "metadata": {
        "id": "tGWPLTX3WqyO"
      },
      "source": [
        "pytagcloud.create_tag_image(content_tag_list, 'content_word.jpg',\n",
        "                           size=(900, 600), fontname='NanumGothic',\n",
        "                           rectangular=False)"
      ],
      "execution_count": null,
      "outputs": []
    },
    {
      "cell_type": "code",
      "metadata": {
        "id": "pVu9qdCIWqyP",
        "outputId": "624e3006-82f5-48f9-ebf7-77e62bc11403"
      },
      "source": [
        "print('title')\n",
        "Image(filename='title_word.jpg')"
      ],
      "execution_count": null,
      "outputs": [
        {
          "output_type": "stream",
          "text": [
            "title\n"
          ],
          "name": "stdout"
        },
        {
          "output_type": "execute_result",
          "data": {
            "image/jpeg": "[encoded data removed]",
            "text/plain": [
              "<IPython.core.display.Image object>"
            ]
          },
          "metadata": {
            "tags": []
          },
          "execution_count": 21
        }
      ]
    },
    {
      "cell_type": "code",
      "metadata": {
        "id": "Mqy98YtxWqyQ",
        "outputId": "03f87b55-e87c-4abd-e4d0-9042cb9818a9"
      },
      "source": [
        "print('content')\n",
        "Image(filename='content_word.jpg')"
      ],
      "execution_count": null,
      "outputs": [
        {
          "output_type": "stream",
          "text": [
            "content\n"
          ],
          "name": "stdout"
        },
        {
          "output_type": "execute_result",
          "data": {
            "image/jpeg": "[encoded data removed]",
            "text/plain": [
              "<IPython.core.display.Image object>"
            ]
          },
          "metadata": {
            "tags": []
          },
          "execution_count": 22
        }
      ]
    },
    {
      "cell_type": "code",
      "metadata": {
        "id": "HwY5rwodWqyQ"
      },
      "source": [
        ""
      ],
      "execution_count": null,
      "outputs": []
    }
  ]
}