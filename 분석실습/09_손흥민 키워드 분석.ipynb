{
 "cells": [
  {
   "cell_type": "code",
   "execution_count": 1,
   "metadata": {},
   "outputs": [
    {
     "name": "stdout",
     "output_type": "stream",
     "text": [
      "pygame 2.0.1 (SDL 2.0.14, Python 3.8.5)\n",
      "Hello from the pygame community. https://www.pygame.org/contribute.html\n"
     ]
    }
   ],
   "source": [
    "# 기본\n",
    "import pandas as pd\n",
    "import numpy as np\n",
    "import matplotlib.pyplot as plt\n",
    "import seaborn as sns\n",
    "\n",
    "# 경고 뜨지 않게 설정\n",
    "import warnings\n",
    "warnings.filterwarnings('ignore')\n",
    "\n",
    "# 그래프 설정\n",
    "plt.rcParams['font.family'] = 'Malgun Gothic'\n",
    "# plt.rcParams['font.family'] = 'AppleGothic'\n",
    "plt.rcParams['font.size'] = 16\n",
    "plt.rcParams['figure.figsize'] = 20, 10\n",
    "plt.rcParams['axes.unicode_minus'] = False\n",
    "\n",
    "# 데이터 전처리 알고리즘\n",
    "from sklearn.preprocessing import LabelEncoder\n",
    "from sklearn.preprocessing import StandardScaler\n",
    "\n",
    "# 학습용과 검증용으로 나누는 함수\n",
    "from sklearn.model_selection import train_test_split\n",
    "\n",
    "# 교차 검증\n",
    "# 지표를 하나만 설정할 경우\n",
    "from sklearn.model_selection import cross_val_score\n",
    "# 지표를 하나 이상 설정할 경우\n",
    "from sklearn.model_selection import cross_validate\n",
    "from sklearn.model_selection import KFold\n",
    "from sklearn.model_selection import StratifiedKFold\n",
    "\n",
    "# 모델의 최적의 하이퍼파라미터를 찾기 위한 도구\n",
    "from sklearn.model_selection import GridSearchCV\n",
    "\n",
    "# 평가함수\n",
    "# 분류용\n",
    "from sklearn.metrics import accuracy_score\n",
    "from sklearn.metrics import precision_score\n",
    "from sklearn.metrics import recall_score\n",
    "from sklearn.metrics import f1_score\n",
    "from sklearn.metrics import roc_auc_score\n",
    "\n",
    "# 회귀용\n",
    "from sklearn.metrics import r2_score\n",
    "from sklearn.metrics import mean_squared_error\n",
    "\n",
    "# 머신러닝 알고리즘 - 분류\n",
    "from sklearn.neighbors import KNeighborsClassifier\n",
    "from sklearn.linear_model import LogisticRegression\n",
    "from sklearn.svm import SVC\n",
    "from sklearn.tree import DecisionTreeClassifier\n",
    "from sklearn.ensemble import RandomForestClassifier\n",
    "from sklearn.ensemble import AdaBoostClassifier\n",
    "from sklearn.ensemble import GradientBoostingClassifier\n",
    "from lightgbm import LGBMClassifier\n",
    "from xgboost import XGBClassifier\n",
    "from sklearn.ensemble import VotingClassifier\n",
    "\n",
    "# 머신러닝 알고리즘 - 회귀\n",
    "from sklearn.neighbors import KNeighborsRegressor\n",
    "from sklearn.linear_model import LinearRegression\n",
    "from sklearn.linear_model import Ridge\n",
    "from sklearn.linear_model import Lasso\n",
    "from sklearn.linear_model import ElasticNet\n",
    "from sklearn.svm import SVR\n",
    "from sklearn.tree import DecisionTreeRegressor\n",
    "from sklearn.ensemble import RandomForestRegressor\n",
    "from sklearn.ensemble import AdaBoostRegressor\n",
    "from sklearn.ensemble import GradientBoostingRegressor\n",
    "from lightgbm import LGBMRegressor\n",
    "from xgboost import XGBRegressor\n",
    "from sklearn.ensemble import VotingRegressor\n",
    "\n",
    "# 차원축소\n",
    "from sklearn.decomposition import PCA\n",
    "from sklearn.discriminant_analysis import LinearDiscriminantAnalysis\n",
    "\n",
    "# 군집화\n",
    "from sklearn.cluster import KMeans\n",
    "from sklearn.cluster import MeanShift\n",
    "from sklearn.cluster import estimate_bandwidth\n",
    "\n",
    "# 시간 측정을 위한 시간 모듈\n",
    "import datetime\n",
    "# 주식 정보를 읽어오기 위한 라이브러리\n",
    "from pandas_datareader import data\n",
    "\n",
    "# 데이터 수집\n",
    "import requests\n",
    "from bs4 import BeautifulSoup\n",
    "import re\n",
    "import time\n",
    "import os\n",
    "import json\n",
    "\n",
    "# 한국어 형태소 분석\n",
    "from konlpy.tag import Okt, Hannanum, Kkma, Mecab, Komoran\n",
    "\n",
    "# 워드 클라우드를 위한 라이브러리\n",
    "from collections import Counter\n",
    "import pytagcloud\n",
    "from IPython.display import Image"
   ]
  },
  {
   "cell_type": "code",
   "execution_count": 2,
   "metadata": {},
   "outputs": [
    {
     "data": {
      "text/html": [
       "<div>\n",
       "<style scoped>\n",
       "    .dataframe tbody tr th:only-of-type {\n",
       "        vertical-align: middle;\n",
       "    }\n",
       "\n",
       "    .dataframe tbody tr th {\n",
       "        vertical-align: top;\n",
       "    }\n",
       "\n",
       "    .dataframe thead th {\n",
       "        text-align: right;\n",
       "    }\n",
       "</style>\n",
       "<table border=\"1\" class=\"dataframe\">\n",
       "  <thead>\n",
       "    <tr style=\"text-align: right;\">\n",
       "      <th></th>\n",
       "      <th>title</th>\n",
       "      <th>description</th>\n",
       "    </tr>\n",
       "  </thead>\n",
       "  <tbody>\n",
       "    <tr>\n",
       "      <th>0</th>\n",
       "      <td>한국인 스타 EPL 손흥민-NFL 구영회, 10월 런던에서 만난다</td>\n",
       "      <td>한국인 스포츠 스타인 잉글랜드 프로축구 프리미어리그(EPL)의 손흥민(29·토트넘)...</td>\n",
       "    </tr>\n",
       "    <tr>\n",
       "      <th>1</th>\n",
       "      <td>손흥민-구영회 두 한국인 스타 10월에 만난다</td>\n",
       "      <td>잉글랜드 프로축구 토트넘의 손흥민(29)과 미국프로풋볼(NFL) 애틀란타 팰컨스 구...</td>\n",
       "    </tr>\n",
       "    <tr>\n",
       "      <th>2</th>\n",
       "      <td>EPL 손흥민-NFL 구영회, 10월 만남 기대</td>\n",
       "      <td>잉글랜드 프로축구 프리미어리그(EPL)의 손흥민(29·토트넘 홋스퍼)과 미국프로풋볼...</td>\n",
       "    </tr>\n",
       "    <tr>\n",
       "      <th>3</th>\n",
       "      <td>토트넘, 손흥민 한 시즌 최다 골 조명…최고 기록 썼다</td>\n",
       "      <td>잉글랜드 프로축구 토트넘이 손흥민(29)의 개인 한 시즌 공식전 최다 득점 기록을 ...</td>\n",
       "    </tr>\n",
       "    <tr>\n",
       "      <th>4</th>\n",
       "      <td>손흥민·구영회, 한국 최고 Football 스타들 10월 만난다</td>\n",
       "      <td>매경닷컴 MK스포츠 박찬형 기자 손흥민(29·토트넘 홋스퍼)과 구영회(27·애틀랜타...</td>\n",
       "    </tr>\n",
       "  </tbody>\n",
       "</table>\n",
       "</div>"
      ],
      "text/plain": [
       "                                  title  \\\n",
       "0  한국인 스타 EPL 손흥민-NFL 구영회, 10월 런던에서 만난다   \n",
       "1             손흥민-구영회 두 한국인 스타 10월에 만난다   \n",
       "2            EPL 손흥민-NFL 구영회, 10월 만남 기대   \n",
       "3        토트넘, 손흥민 한 시즌 최다 골 조명…최고 기록 썼다   \n",
       "4   손흥민·구영회, 한국 최고 Football 스타들 10월 만난다   \n",
       "\n",
       "                                         description  \n",
       "0  한국인 스포츠 스타인 잉글랜드 프로축구 프리미어리그(EPL)의 손흥민(29·토트넘)...  \n",
       "1  잉글랜드 프로축구 토트넘의 손흥민(29)과 미국프로풋볼(NFL) 애틀란타 팰컨스 구...  \n",
       "2  잉글랜드 프로축구 프리미어리그(EPL)의 손흥민(29·토트넘 홋스퍼)과 미국프로풋볼...  \n",
       "3  잉글랜드 프로축구 토트넘이 손흥민(29)의 개인 한 시즌 공식전 최다 득점 기록을 ...  \n",
       "4  매경닷컴 MK스포츠 박찬형 기자 손흥민(29·토트넘 홋스퍼)과 구영회(27·애틀랜타...  "
      ]
     },
     "execution_count": 2,
     "metadata": {},
     "output_type": "execute_result"
    }
   ],
   "source": [
    "df = pd.read_csv('data/son_data.csv')\n",
    "df.head()"
   ]
  },
  {
   "cell_type": "code",
   "execution_count": 3,
   "metadata": {},
   "outputs": [
    {
     "data": {
      "text/plain": [
       "title          0\n",
       "description    0\n",
       "dtype: int64"
      ]
     },
     "execution_count": 3,
     "metadata": {},
     "output_type": "execute_result"
    }
   ],
   "source": [
    "# 결측치 확인\n",
    "df.isna().sum()"
   ]
  },
  {
   "cell_type": "markdown",
   "metadata": {},
   "source": [
    "### 한글 정제"
   ]
  },
  {
   "cell_type": "code",
   "execution_count": 4,
   "metadata": {},
   "outputs": [],
   "source": [
    "def text_cleaning(text) :\n",
    "    # 한글 정규식 정의(띄어쓰기, ㄱ ~ ㅣ, 가 - 힣)\n",
    "    hangul = re.compile('[^ ㄱ-ㅣ가-힣]+')\n",
    "    # 정재한다.(위 정규식에 위배되는 것들은 길이 0인 문자열로 변환)\n",
    "    result = hangul.sub('', text)\n",
    "    return result"
   ]
  },
  {
   "cell_type": "code",
   "execution_count": 5,
   "metadata": {},
   "outputs": [
    {
     "data": {
      "text/html": [
       "<div>\n",
       "<style scoped>\n",
       "    .dataframe tbody tr th:only-of-type {\n",
       "        vertical-align: middle;\n",
       "    }\n",
       "\n",
       "    .dataframe tbody tr th {\n",
       "        vertical-align: top;\n",
       "    }\n",
       "\n",
       "    .dataframe thead th {\n",
       "        text-align: right;\n",
       "    }\n",
       "</style>\n",
       "<table border=\"1\" class=\"dataframe\">\n",
       "  <thead>\n",
       "    <tr style=\"text-align: right;\">\n",
       "      <th></th>\n",
       "      <th>title</th>\n",
       "      <th>description</th>\n",
       "    </tr>\n",
       "  </thead>\n",
       "  <tbody>\n",
       "    <tr>\n",
       "      <th>0</th>\n",
       "      <td>한국인 스타  손흥민 구영회 월 런던에서 만난다</td>\n",
       "      <td>한국인 스포츠 스타인 잉글랜드 프로축구 프리미어리그의 손흥민토트넘과 미국프로풋볼의 ...</td>\n",
       "    </tr>\n",
       "    <tr>\n",
       "      <th>1</th>\n",
       "      <td>손흥민구영회 두 한국인 스타 월에 만난다</td>\n",
       "      <td>잉글랜드 프로축구 토트넘의 손흥민과 미국프로풋볼 애틀란타 팰컨스 구영회애틀랜타 팰컨...</td>\n",
       "    </tr>\n",
       "    <tr>\n",
       "      <th>2</th>\n",
       "      <td>손흥민 구영회 월 만남 기대</td>\n",
       "      <td>잉글랜드 프로축구 프리미어리그의 손흥민토트넘 홋스퍼과 미국프로풋볼의 구영회 애틀랜타...</td>\n",
       "    </tr>\n",
       "    <tr>\n",
       "      <th>3</th>\n",
       "      <td>토트넘 손흥민 한 시즌 최다 골 조명최고 기록 썼다</td>\n",
       "      <td>잉글랜드 프로축구 토트넘이 손흥민의 개인 한 시즌 공식전 최다 득점 기록을 조명했다...</td>\n",
       "    </tr>\n",
       "    <tr>\n",
       "      <th>4</th>\n",
       "      <td>손흥민구영회 한국 최고  스타들 월 만난다</td>\n",
       "      <td>매경닷컴 스포츠 박찬형 기자 손흥민토트넘 홋스퍼과 구영회애틀랜타 팰컨스 축구 애틀랜...</td>\n",
       "    </tr>\n",
       "    <tr>\n",
       "      <th>...</th>\n",
       "      <td>...</td>\n",
       "      <td>...</td>\n",
       "    </tr>\n",
       "    <tr>\n",
       "      <th>995</th>\n",
       "      <td>개인 최다 골 손흥민 팀 내 위 평점 점</td>\n",
       "      <td>손흥민 토트넘 핫스퍼이 로 울고 또 웃었다 손흥민은 일한국시간 영국 런던 토트넘 핫...</td>\n",
       "    </tr>\n",
       "    <tr>\n",
       "      <th>996</th>\n",
       "      <td>안철수 국민의힘과는 손흥민케인 같은 관계</td>\n",
       "      <td>국민의당 안철수 서울시장 후보가 일 국민의힘 오세훈 후보와의 협력 관계를 잉글랜드 ...</td>\n",
       "    </tr>\n",
       "    <tr>\n",
       "      <th>997</th>\n",
       "      <td>손흥민 빛바랜 리그 호 골 토트넘 리즈에  완패위 위태</td>\n",
       "      <td>해리 케인 손흥민 가레스 베일 델레 알리 지오반니 로 셀소 피에르에밀 호이비에르 세...</td>\n",
       "    </tr>\n",
       "    <tr>\n",
       "      <th>998</th>\n",
       "      <td>서른살 감독님 환영선물 손흥민 호골 터뜨렸다</td>\n",
       "      <td>메이슨 감독 첫경기 손흥민 호골로 리그 개인 최다골 잉글랜드 프로축구 토트넘의 손흥...</td>\n",
       "    </tr>\n",
       "    <tr>\n",
       "      <th>999</th>\n",
       "      <td>토트넘 카라바오컵 준우승손흥민 끝내 눈물</td>\n",
       "      <td>프로 무대 통산 첫 우승 기회를 놓친 손흥민은 끝내 눈물을 흘렸다 손흥민은 년 함부...</td>\n",
       "    </tr>\n",
       "  </tbody>\n",
       "</table>\n",
       "<p>1000 rows × 2 columns</p>\n",
       "</div>"
      ],
      "text/plain": [
       "                              title  \\\n",
       "0        한국인 스타  손흥민 구영회 월 런던에서 만난다   \n",
       "1            손흥민구영회 두 한국인 스타 월에 만난다   \n",
       "2                   손흥민 구영회 월 만남 기대   \n",
       "3      토트넘 손흥민 한 시즌 최다 골 조명최고 기록 썼다   \n",
       "4           손흥민구영회 한국 최고  스타들 월 만난다   \n",
       "..                              ...   \n",
       "995          개인 최다 골 손흥민 팀 내 위 평점 점   \n",
       "996          안철수 국민의힘과는 손흥민케인 같은 관계   \n",
       "997  손흥민 빛바랜 리그 호 골 토트넘 리즈에  완패위 위태   \n",
       "998        서른살 감독님 환영선물 손흥민 호골 터뜨렸다   \n",
       "999          토트넘 카라바오컵 준우승손흥민 끝내 눈물   \n",
       "\n",
       "                                           description  \n",
       "0    한국인 스포츠 스타인 잉글랜드 프로축구 프리미어리그의 손흥민토트넘과 미국프로풋볼의 ...  \n",
       "1    잉글랜드 프로축구 토트넘의 손흥민과 미국프로풋볼 애틀란타 팰컨스 구영회애틀랜타 팰컨...  \n",
       "2    잉글랜드 프로축구 프리미어리그의 손흥민토트넘 홋스퍼과 미국프로풋볼의 구영회 애틀랜타...  \n",
       "3    잉글랜드 프로축구 토트넘이 손흥민의 개인 한 시즌 공식전 최다 득점 기록을 조명했다...  \n",
       "4    매경닷컴 스포츠 박찬형 기자 손흥민토트넘 홋스퍼과 구영회애틀랜타 팰컨스 축구 애틀랜...  \n",
       "..                                                 ...  \n",
       "995  손흥민 토트넘 핫스퍼이 로 울고 또 웃었다 손흥민은 일한국시간 영국 런던 토트넘 핫...  \n",
       "996  국민의당 안철수 서울시장 후보가 일 국민의힘 오세훈 후보와의 협력 관계를 잉글랜드 ...  \n",
       "997  해리 케인 손흥민 가레스 베일 델레 알리 지오반니 로 셀소 피에르에밀 호이비에르 세...  \n",
       "998  메이슨 감독 첫경기 손흥민 호골로 리그 개인 최다골 잉글랜드 프로축구 토트넘의 손흥...  \n",
       "999  프로 무대 통산 첫 우승 기회를 놓친 손흥민은 끝내 눈물을 흘렸다 손흥민은 년 함부...  \n",
       "\n",
       "[1000 rows x 2 columns]"
      ]
     },
     "execution_count": 5,
     "metadata": {},
     "output_type": "execute_result"
    }
   ],
   "source": [
    "# 한글 정제\n",
    "df['title'] = df['title'].apply(lambda x : text_cleaning(x))\n",
    "df['description'] = df['description'].apply(lambda x : text_cleaning(x))\n",
    "\n",
    "df"
   ]
  },
  {
   "cell_type": "code",
   "execution_count": 6,
   "metadata": {},
   "outputs": [],
   "source": [
    "# 말뭉치 생성을 위해 모든 문장을 하나의 문장으로 합친다.\n",
    "title_corpus = ''.join(df['title'])\n",
    "content_corpus = ''.join(df['description'])\n",
    "\n",
    "# 손흥민 단어를 제거한다.\n",
    "title_corpus = title_corpus.replace('손흥민', '')\n",
    "content_corpus = content_corpus.replace('손흥민', '')\n",
    "\n",
    "# content_corpus"
   ]
  },
  {
   "cell_type": "code",
   "execution_count": 7,
   "metadata": {},
   "outputs": [],
   "source": [
    "tagger = Okt()\n",
    "\n",
    "# 명사만 추출한다.\n",
    "title_nouns = tagger.nouns(title_corpus)\n",
    "content_nouns = tagger.nouns(content_corpus)\n",
    "\n",
    "# print(title_nouns)\n",
    "# print(content_nouns)"
   ]
  },
  {
   "cell_type": "code",
   "execution_count": 8,
   "metadata": {},
   "outputs": [],
   "source": [
    "# 각 단어에 대한 빈도수를 계산한다.\n",
    "title_count = Counter(title_nouns)\n",
    "content_count = Counter(content_nouns)\n",
    "\n",
    "# print(title_count)\n",
    "# print(content_count)"
   ]
  },
  {
   "cell_type": "markdown",
   "metadata": {},
   "source": [
    "### 키워드 다듬기"
   ]
  },
  {
   "cell_type": "code",
   "execution_count": 9,
   "metadata": {},
   "outputs": [
    {
     "name": "stdout",
     "output_type": "stream",
     "text": [
      "1167\n",
      "1977\n",
      "1001\n",
      "1728\n"
     ]
    }
   ],
   "source": [
    "# 워드 클라우드는 두 글자 이상만 인식할 수 있기 때문에\n",
    "# 두글자 이상인 것만 남겨둔다.\n",
    "print(len(title_count))\n",
    "print(len(content_count))\n",
    "\n",
    "title_dict = {}\n",
    "for key in title_count :\n",
    "    # 이름이 1보다 크다면 담아준다.\n",
    "    if len(key) > 1 :\n",
    "        title_dict[key] = title_count[key]\n",
    "\n",
    "content_dict = {}\n",
    "for key in content_count :\n",
    "    if len(key) > 1 :\n",
    "        content_dict[key] = content_count[key]\n",
    "\n",
    "# 다시 Counter 객체로 생성한다.\n",
    "remove_title_count = Counter(title_dict)\n",
    "remove_content_count = Counter(content_dict)\n",
    "\n",
    "print(len(remove_title_count))\n",
    "print(len(remove_content_count))"
   ]
  },
  {
   "cell_type": "markdown",
   "metadata": {},
   "source": [
    "### 워드클라우드"
   ]
  },
  {
   "cell_type": "code",
   "execution_count": 10,
   "metadata": {},
   "outputs": [],
   "source": [
    "# 가장 빈도수가 높은 단어 100개를 선정한다.\n",
    "ranked_title_tags = remove_title_count.most_common(100)\n",
    "ranked_content_tags = remove_content_count.most_common(100)"
   ]
  },
  {
   "cell_type": "code",
   "execution_count": 11,
   "metadata": {},
   "outputs": [],
   "source": [
    "# 워드 클라우드를 위한 단어 사전을 생성한다.\n",
    "title_tag_list = pytagcloud.make_tags(ranked_title_tags)\n",
    "content_tag_list = pytagcloud.make_tags(ranked_content_tags)"
   ]
  },
  {
   "cell_type": "code",
   "execution_count": 12,
   "metadata": {},
   "outputs": [],
   "source": [
    "pytagcloud.create_tag_image(title_tag_list, 'son_title_word.jpg',\n",
    "                           size=(900, 600), fontname='NanumGothic',\n",
    "                           rectangular=False)"
   ]
  },
  {
   "cell_type": "code",
   "execution_count": 13,
   "metadata": {},
   "outputs": [],
   "source": [
    "pytagcloud.create_tag_image(content_tag_list, 'son_content_word.jpg',\n",
    "                           size=(900, 600), fontname='NanumGothic',\n",
    "                           rectangular=False)"
   ]
  },
  {
   "cell_type": "code",
   "execution_count": 14,
   "metadata": {},
   "outputs": [
    {
     "name": "stdout",
     "output_type": "stream",
     "text": [
      "title\n"
     ]
    },
    {
     "data": {
      "image/jpeg": "[encoded data removed]",
      "text/plain": [
       "<IPython.core.display.Image object>"
      ]
     },
     "execution_count": 14,
     "metadata": {},
     "output_type": "execute_result"
    }
   ],
   "source": [
    "print('title')\n",
    "Image(filename='son_title_word.jpg')"
   ]
  },
  {
   "cell_type": "code",
   "execution_count": 15,
   "metadata": {},
   "outputs": [
    {
     "name": "stdout",
     "output_type": "stream",
     "text": [
      "description\n"
     ]
    },
    {
     "data": {
      "image/jpeg": "[encoded data removed]",
      "text/plain": [
       "<IPython.core.display.Image object>"
      ]
     },
     "execution_count": 15,
     "metadata": {},
     "output_type": "execute_result"
    }
   ],
   "source": [
    "print('description')\n",
    "Image(filename='son_content_word.jpg')"
   ]
  },
  {
   "cell_type": "code",
   "execution_count": null,
   "metadata": {},
   "outputs": [],
   "source": []
  }
 ],
 "metadata": {
  "kernelspec": {
   "display_name": "Python 3",
   "language": "python",
   "name": "python3"
  },
  "language_info": {
   "codemirror_mode": {
    "name": "ipython",
    "version": 3
   },
   "file_extension": ".py",
   "mimetype": "text/x-python",
   "name": "python",
   "nbconvert_exporter": "python",
   "pygments_lexer": "ipython3",
   "version": "3.8.5"
  }
 },
 "nbformat": 4,
 "nbformat_minor": 4
}
