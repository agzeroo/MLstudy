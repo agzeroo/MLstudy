{
  "nbformat": 4,
  "nbformat_minor": 0,
  "metadata": {
    "kernelspec": {
      "display_name": "Python 3",
      "language": "python",
      "name": "python3"
    },
    "language_info": {
      "codemirror_mode": {
        "name": "ipython",
        "version": 3
      },
      "file_extension": ".py",
      "mimetype": "text/x-python",
      "name": "python",
      "nbconvert_exporter": "python",
      "pygments_lexer": "ipython3",
      "version": "3.8.5"
    },
    "colab": {
      "name": "02_시간다루기 연습.ipynb",
      "provenance": [],
      "collapsed_sections": []
    }
  },
  "cells": [
    {
      "cell_type": "markdown",
      "metadata": {
        "id": "waVchbAPtBSO"
      },
      "source": [
        "## import **datetime**"
      ]
    },
    {
      "cell_type": "code",
      "metadata": {
        "id": "rQYeW9QFk2xa"
      },
      "source": [
        "import pandas as pd\n",
        "import numpy as np\n",
        "import datetime"
      ],
      "execution_count": 1,
      "outputs": []
    },
    {
      "cell_type": "markdown",
      "metadata": {
        "id": "vMwu2CFOtSzF"
      },
      "source": [
        "- 오늘 날짜, 시간\n"
      ]
    },
    {
      "cell_type": "code",
      "metadata": {
        "colab": {
          "base_uri": "https://localhost:8080/"
        },
        "id": "YD0dsX10k2xn",
        "outputId": "3a36eaa1-769b-43de-cef5-4ba47f455135"
      },
      "source": [
        "now=datetime.datetime.today()\n",
        "print(now)"
      ],
      "execution_count": 2,
      "outputs": [
        {
          "output_type": "stream",
          "text": [
            "2021-06-01 13:13:18.410568\n"
          ],
          "name": "stdout"
        }
      ]
    },
    {
      "cell_type": "code",
      "metadata": {
        "id": "3-dZ_d6Mk2xq",
        "outputId": "00d50bf5-d4f4-4474-b35a-f620f1ecd627"
      },
      "source": [
        "print(now.year)\n",
        "print(now.month)\n",
        "print(now.hour)\n",
        "print(now.minute)\n",
        "print(now.second)"
      ],
      "execution_count": null,
      "outputs": [
        {
          "output_type": "stream",
          "text": [
            "2021\n",
            "5\n",
            "16\n",
            "33\n",
            "20\n"
          ],
          "name": "stdout"
        }
      ]
    },
    {
      "cell_type": "markdown",
      "metadata": {
        "id": "PcMIhmE8tbCE"
      },
      "source": [
        "### 날짜를 지정한다."
      ]
    },
    {
      "cell_type": "code",
      "metadata": {
        "id": "jd0ooYDxk2xr",
        "outputId": "ded7c080-28b8-4de6-81be-cb675841c0d4"
      },
      "source": [
        "date = datetime.date(2018, 9, 29)\n",
        "print(date)\n"
      ],
      "execution_count": null,
      "outputs": [
        {
          "output_type": "stream",
          "text": [
            "2018-09-29\n"
          ],
          "name": "stdout"
        }
      ]
    },
    {
      "cell_type": "code",
      "metadata": {
        "id": "c-0TUYL1k2xt",
        "outputId": "f30efe36-e8a8-4f99-bc44-a8bca3d91fa0"
      },
      "source": [
        "print(date.year)\n",
        "print(date.month)\n",
        "print(date.day)"
      ],
      "execution_count": null,
      "outputs": [
        {
          "output_type": "stream",
          "text": [
            "2018\n",
            "9\n",
            "29\n"
          ],
          "name": "stdout"
        }
      ]
    },
    {
      "cell_type": "markdown",
      "metadata": {
        "id": "uKFgr_5HtnBN"
      },
      "source": [
        "### 시간을 지정한다\n",
        "- 시, 분, 초, microsecond"
      ]
    },
    {
      "cell_type": "code",
      "metadata": {
        "id": "D45iqMYnk2xv",
        "outputId": "1a9e705f-0108-4e40-debf-93813af24b91"
      },
      "source": [
        "time = datetime.time(12,30,19,463198)\n",
        "print(time)\n"
      ],
      "execution_count": null,
      "outputs": [
        {
          "output_type": "stream",
          "text": [
            "12:30:19.463198\n"
          ],
          "name": "stdout"
        }
      ]
    },
    {
      "cell_type": "code",
      "metadata": {
        "id": "ksgnbHDBk2xx",
        "outputId": "46a501d2-267f-4190-9fb1-74b7f02b0b70"
      },
      "source": [
        "print(time.hour)\n",
        "print(time.minute)\n",
        "print(time.second)\n",
        "print(time.microsecond)"
      ],
      "execution_count": null,
      "outputs": [
        {
          "output_type": "stream",
          "text": [
            "12\n",
            "30\n",
            "19\n",
            "463198\n"
          ],
          "name": "stdout"
        }
      ]
    },
    {
      "cell_type": "markdown",
      "metadata": {
        "id": "IvRQfuP_tvlP"
      },
      "source": [
        "### 날짜와 시간을 지정한다."
      ]
    },
    {
      "cell_type": "code",
      "metadata": {
        "id": "W8O3eZejk2xz",
        "outputId": "15c4102a-fd53-48dc-be52-9bdc28345fc1"
      },
      "source": [
        "dt = datetime.datetime(2018, 9, 29, 12, 30, 19, 463198)\n",
        "print(dt)\n"
      ],
      "execution_count": null,
      "outputs": [
        {
          "output_type": "stream",
          "text": [
            "2018-09-29 12:30:19.463198\n"
          ],
          "name": "stdout"
        }
      ]
    },
    {
      "cell_type": "markdown",
      "metadata": {
        "id": "OdMsu1PruDuf"
      },
      "source": [
        "# import time"
      ]
    },
    {
      "cell_type": "markdown",
      "metadata": {
        "id": "MPt72Kt6uJJa"
      },
      "source": [
        "### 기준시 값을 출력 해본다.\n",
        "- 1970년 1월 1일 0시 0분 0초 0ms(세계표준시) 시점을 0으로 잡고 1ms마다 1씩 시긴 숫자 형태로 관리한다"
      ]
    },
    {
      "cell_type": "code",
      "metadata": {
        "id": "_uIIa35Zk2x1",
        "outputId": "d3d6b6b4-2114-430d-8255-13e544282ae4"
      },
      "source": [
        "time.gmtime(0)\n",
        "time.time()"
      ],
      "execution_count": null,
      "outputs": [
        {
          "output_type": "execute_result",
          "data": {
            "text/plain": [
              "1620374463.2257044"
            ]
          },
          "metadata": {
            "tags": []
          },
          "execution_count": 12
        }
      ]
    },
    {
      "cell_type": "markdown",
      "metadata": {
        "id": "XtNKnKB7k2x2"
      },
      "source": [
        "### 데이터 프레임의 시간 관련 기능\n",
        "- 기준시 : 1970-01-01 0:0:0.0 를 0으로 정한 값을 관리한다.\n",
        "- 유닉스 탄생 시간\n"
      ]
    },
    {
      "cell_type": "code",
      "metadata": {
        "id": "xCRsB0gXk2x3",
        "outputId": "2d96e3d5-5244-468a-cc93-253413c5e8e4"
      },
      "source": [
        "pd.Timestamp(0)"
      ],
      "execution_count": null,
      "outputs": [
        {
          "output_type": "execute_result",
          "data": {
            "text/plain": [
              "Timestamp('1970-01-01 00:00:00')"
            ]
          },
          "metadata": {
            "tags": []
          },
          "execution_count": 13
        }
      ]
    },
    {
      "cell_type": "code",
      "metadata": {
        "id": "twCh2O_xk2x4",
        "outputId": "8eb1917b-ff06-4933-e640-06a79d842f1b"
      },
      "source": [
        "#날짜가 담겨있는 Series를 생성한다.\n",
        "a1=pd.Timestamp(0)\n",
        "s1=pd.Series(a1)\n",
        "s1"
      ],
      "execution_count": null,
      "outputs": [
        {
          "output_type": "execute_result",
          "data": {
            "text/plain": [
              "0   1970-01-01\n",
              "dtype: datetime64[ns]"
            ]
          },
          "metadata": {
            "tags": []
          },
          "execution_count": 14
        }
      ]
    },
    {
      "cell_type": "markdown",
      "metadata": {
        "id": "BwsmYzqGuyn7"
      },
      "source": [
        "#### 나노 세컨드 단위 셋티\n",
        "- 초>밀리<마이크로>나노"
      ]
    },
    {
      "cell_type": "code",
      "metadata": {
        "id": "g0OF1d7Mk2x4",
        "outputId": "af297411-8abc-4cf2-9983-27b5253a4f1e"
      },
      "source": [
        "pd.Timestamp(17800)"
      ],
      "execution_count": null,
      "outputs": [
        {
          "output_type": "execute_result",
          "data": {
            "text/plain": [
              "Timestamp('1970-01-01 00:00:00.000017800')"
            ]
          },
          "metadata": {
            "tags": []
          },
          "execution_count": 15
        }
      ]
    },
    {
      "cell_type": "markdown",
      "metadata": {
        "id": "wtm02LIwu5Nf"
      },
      "source": [
        "#### 마이크로 세컨드"
      ]
    },
    {
      "cell_type": "code",
      "metadata": {
        "id": "zuA_Bukrk2x5",
        "outputId": "a0a66570-2b95-49fd-c7c5-a4bbd50b4580"
      },
      "source": [
        "pd.Timestamp(17800,unit='us')"
      ],
      "execution_count": null,
      "outputs": [
        {
          "output_type": "execute_result",
          "data": {
            "text/plain": [
              "Timestamp('1970-01-01 00:00:00.017800')"
            ]
          },
          "metadata": {
            "tags": []
          },
          "execution_count": 16
        }
      ]
    },
    {
      "cell_type": "markdown",
      "metadata": {
        "id": "MlJk0DU4vA4C"
      },
      "source": [
        "#### 밀리세컨드"
      ]
    },
    {
      "cell_type": "code",
      "metadata": {
        "id": "bYYuwaock2x5",
        "outputId": "b1b23c74-4e30-4071-8672-969c73373594"
      },
      "source": [
        "pd.Timestamp(17800,unit='ms')"
      ],
      "execution_count": null,
      "outputs": [
        {
          "output_type": "execute_result",
          "data": {
            "text/plain": [
              "Timestamp('1970-01-01 00:00:17.800000')"
            ]
          },
          "metadata": {
            "tags": []
          },
          "execution_count": 17
        }
      ]
    },
    {
      "cell_type": "markdown",
      "metadata": {
        "id": "i4OFEabqvFoz"
      },
      "source": [
        "#### 초 : s, 분 : m, 시 : h, 날짜 : D, 월 : M, 년 : Y"
      ]
    },
    {
      "cell_type": "code",
      "metadata": {
        "id": "tWC970U0k2x6",
        "outputId": "39a69c9d-3961-4e31-c565-e5813b2e18d3"
      },
      "source": [
        "pd.Timestamp(17800, unit='D')"
      ],
      "execution_count": null,
      "outputs": [
        {
          "output_type": "execute_result",
          "data": {
            "text/plain": [
              "Timestamp('2018-09-26 00:00:00')"
            ]
          },
          "metadata": {
            "tags": []
          },
          "execution_count": 18
        }
      ]
    },
    {
      "cell_type": "markdown",
      "metadata": {
        "id": "cyuqTGNDvN-g"
      },
      "source": [
        "#### 날짜를 직접 지정한다."
      ]
    },
    {
      "cell_type": "code",
      "metadata": {
        "id": "HcEJJG7Vk2x6",
        "outputId": "29618f3a-ab26-4908-c215-8a673b761480"
      },
      "source": [
        "\n",
        "pd.Timestamp(year=2021, month=5, day=7, hour=17, minute=7, second=30,\n",
        "            microsecond=100)\n"
      ],
      "execution_count": null,
      "outputs": [
        {
          "output_type": "execute_result",
          "data": {
            "text/plain": [
              "Timestamp('2021-05-07 17:07:30.000100')"
            ]
          },
          "metadata": {
            "tags": []
          },
          "execution_count": 19
        }
      ]
    },
    {
      "cell_type": "code",
      "metadata": {
        "id": "3834-OW6k2x7",
        "outputId": "b73ce8d2-a812-48fe-f36c-843ac55850a6"
      },
      "source": [
        "# Series에 저장되어 있는 정수값들을 날짜로 변환한다.\n",
        "s1 = pd.Series([10, 100, 1000, 10000])\n",
        "s1"
      ],
      "execution_count": null,
      "outputs": [
        {
          "output_type": "execute_result",
          "data": {
            "text/plain": [
              "0       10\n",
              "1      100\n",
              "2     1000\n",
              "3    10000\n",
              "dtype: int64"
            ]
          },
          "metadata": {
            "tags": []
          },
          "execution_count": 20
        }
      ]
    },
    {
      "cell_type": "code",
      "metadata": {
        "id": "oC8Wa9NBk2x7",
        "outputId": "0f42c9b0-e2b5-4a43-ae0f-d2802ac2826e"
      },
      "source": [
        "pd.to_datetime(s1,unit='D')"
      ],
      "execution_count": null,
      "outputs": [
        {
          "output_type": "execute_result",
          "data": {
            "text/plain": [
              "0   1970-01-11\n",
              "1   1970-04-11\n",
              "2   1972-09-27\n",
              "3   1997-05-19\n",
              "dtype: datetime64[ns]"
            ]
          },
          "metadata": {
            "tags": []
          },
          "execution_count": 21
        }
      ]
    },
    {
      "cell_type": "markdown",
      "metadata": {
        "id": "hLJ__XEHv2Ry"
      },
      "source": [
        "#### 데이터 프레임을 날짜로 변환한다\n",
        "- 컬럼 이름이 중요하다.\n",
        "- year, month, day, hour, minute, second, microsecond"
      ]
    },
    {
      "cell_type": "code",
      "metadata": {
        "id": "tvWjFRg9k2zG",
        "outputId": "891a4d4b-86d9-4f21-df7e-680cae809651"
      },
      "source": [
        "df = pd.DataFrame({\n",
        "    'year' : [2015, 2016],\n",
        "    'month' : [2, 3],\n",
        "    'day' : [4, 5]\n",
        "})\n",
        "df\n"
      ],
      "execution_count": null,
      "outputs": [
        {
          "output_type": "execute_result",
          "data": {
            "text/html": [
              "<div>\n",
              "<style scoped>\n",
              "    .dataframe tbody tr th:only-of-type {\n",
              "        vertical-align: middle;\n",
              "    }\n",
              "\n",
              "    .dataframe tbody tr th {\n",
              "        vertical-align: top;\n",
              "    }\n",
              "\n",
              "    .dataframe thead th {\n",
              "        text-align: right;\n",
              "    }\n",
              "</style>\n",
              "<table border=\"1\" class=\"dataframe\">\n",
              "  <thead>\n",
              "    <tr style=\"text-align: right;\">\n",
              "      <th></th>\n",
              "      <th>year</th>\n",
              "      <th>month</th>\n",
              "      <th>day</th>\n",
              "    </tr>\n",
              "  </thead>\n",
              "  <tbody>\n",
              "    <tr>\n",
              "      <th>0</th>\n",
              "      <td>2015</td>\n",
              "      <td>2</td>\n",
              "      <td>4</td>\n",
              "    </tr>\n",
              "    <tr>\n",
              "      <th>1</th>\n",
              "      <td>2016</td>\n",
              "      <td>3</td>\n",
              "      <td>5</td>\n",
              "    </tr>\n",
              "  </tbody>\n",
              "</table>\n",
              "</div>"
            ],
            "text/plain": [
              "   year  month  day\n",
              "0  2015      2    4\n",
              "1  2016      3    5"
            ]
          },
          "metadata": {
            "tags": []
          },
          "execution_count": 23
        }
      ]
    },
    {
      "cell_type": "code",
      "metadata": {
        "id": "X5gdR5QRk2x8",
        "outputId": "99b797b1-2177-4aaf-f3e3-ee2680605a1b"
      },
      "source": [
        "# 다시 datetime으로\n",
        "df = pd.DataFrame({\n",
        "    'year' : [2015, 2016],\n",
        "    'month' : [2, 3],\n",
        "    'day' : [4, 5]\n",
        "})\n",
        "\n",
        "pd.to_datetime(df)\n"
      ],
      "execution_count": null,
      "outputs": [
        {
          "output_type": "execute_result",
          "data": {
            "text/plain": [
              "0   2015-02-04\n",
              "1   2016-03-05\n",
              "dtype: datetime64[ns]"
            ]
          },
          "metadata": {
            "tags": []
          },
          "execution_count": 22
        }
      ]
    },
    {
      "cell_type": "markdown",
      "metadata": {
        "id": "ovi_tr8fwLZf"
      },
      "source": [
        "#### 문자열로 되어 있는 값을 날짜로 변환한다.\n",
        "\n",
        "- 년-월-일로 인식한다.\n",
        "- s1 = pd.Series(['2018-01-01', '2019-01-01'])\n",
        "\n",
        "- 월-일-년 으로 인식"
      ]
    },
    {
      "cell_type": "code",
      "metadata": {
        "id": "TyMxoK3-k2zL",
        "outputId": "cc623d9f-20b5-4622-e780-e822f63d96cd"
      },
      "source": [
        "s1 = pd.Series(['01-01-2018', '01-01-2019'])\n",
        "\n",
        "#오류발생\n",
        "# s1 = pd.Series(['01-2018-01', '01-2019-01'])\n",
        "#근데 진짜 이런 데이터면 format사용\n",
        "\n",
        "#년도가 제일 앞에 있거나 제일 뒤에 있어야한다.\n",
        "\n",
        "display(s1)\n",
        "\n",
        "display(pd.to_datetime(s1))\n"
      ],
      "execution_count": null,
      "outputs": [
        {
          "output_type": "display_data",
          "data": {
            "text/plain": [
              "0    01-01-2018\n",
              "1    01-01-2019\n",
              "dtype: object"
            ]
          },
          "metadata": {
            "tags": []
          }
        },
        {
          "output_type": "display_data",
          "data": {
            "text/plain": [
              "0   2018-01-01\n",
              "1   2019-01-01\n",
              "dtype: datetime64[ns]"
            ]
          },
          "metadata": {
            "tags": []
          }
        }
      ]
    },
    {
      "cell_type": "markdown",
      "metadata": {
        "id": "ZAV9yGIawcMB"
      },
      "source": [
        "### format='%m-%Y-%d'\n",
        "- 양식을 이용해 지정할 수 있다.\n",
        "- https://docs.python.org/3/library/datetime.html#strftime-and-strptime-behavior"
      ]
    },
    {
      "cell_type": "code",
      "metadata": {
        "id": "ymQ5G5cBk2zO",
        "outputId": "21911f36-0a9c-4cf2-ef8b-ff53fcdca567"
      },
      "source": [
        "s1 = pd.Series(['01-2018-01', '01-2019-01'])\n",
        "\n",
        "pd.to_datetime(s1,format='%m-%Y-%d')\n"
      ],
      "execution_count": null,
      "outputs": [
        {
          "output_type": "execute_result",
          "data": {
            "text/plain": [
              "0   2018-01-01\n",
              "1   2019-01-01\n",
              "dtype: datetime64[ns]"
            ]
          },
          "metadata": {
            "tags": []
          },
          "execution_count": 33
        }
      ]
    },
    {
      "cell_type": "code",
      "metadata": {
        "id": "XWjAPaRHk2zP"
      },
      "source": [
        ""
      ],
      "execution_count": null,
      "outputs": []
    }
  ]
}