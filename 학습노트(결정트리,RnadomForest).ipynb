{
 "cells": [
  {
   "cell_type": "markdown",
   "metadata": {},
   "source": [
    "## 결정트리\n",
    "- 학습 데이터의 값을 보고 질문을 생성하는 방식으로 학습하는 알고리즘\n",
    "- 학습 데이터에 최적화 되기 때문에 과적합이 발생하는 알고리즘\n",
    "- 학습속도, 예측속도 모두 선형 모델보다 느리다.\n",
    "- 과적합이 발생하기 때문에 성능이 좋지 않을 가능성이 매우 높다.\n"
   ]
  },
  {
   "cell_type": "markdown",
   "metadata": {},
   "source": [
    "### 분류"
   ]
  },
  {
   "cell_type": "markdown",
   "metadata": {},
   "source": [
    "#### 데이터 준비>데이터 전처리(X,y-인코딩( LabelEncoder())-표준화(StandardScaler()))"
   ]
  },
  {
   "cell_type": "markdown",
   "metadata": {},
   "source": [
    "### 기본 모델 사용 DecisionTreeClassifier()"
   ]
  },
  {
   "cell_type": "code",
   "execution_count": null,
   "metadata": {},
   "outputs": [],
   "source": [
    "model1 = DecisionTreeClassifier()\n",
    "\n",
    "# 교차 검증\n",
    "kfold = KFold(n_splits=10, shuffle=True, random_state=1)\n",
    "r1 = cross_val_score(model1, X, y, scoring='f1', cv=kfold)\n",
    "print(f'평균 정확도 : {r1.mean()}')"
   ]
  },
  {
   "cell_type": "markdown",
   "metadata": {},
   "source": [
    "### 모델 하이퍼 파라미터 튜닝\n",
    "- 사실 결정트리에서 이 작업은 거의 하지 않는다.\n",
    "- 결정트리의 하이퍼 파라미터 튜닝의 목적은 과적합 방지를 위해 학습을 덜 시키는 의미이다.\n",
    "- 결정트리는 단독으로 사용하기 보다는 앙상블 모델을 위해서 사용한다."
   ]
  },
  {
   "cell_type": "code",
   "execution_count": null,
   "metadata": {},
   "outputs": [],
   "source": [
    "# max_depth: 생성될 최대 질문 깊이, None은 무한대 \n",
    "params = {\n",
    "    'max_depth' : [ None, 1,2,3,4,5,6,7,8,9,10]\n",
    "}\n",
    "\n",
    "model1 = DecisionTreeClassifier()\n",
    "\n",
    "kfold = KFold(n_splits=10, shuffle=True, random_state=1)\n",
    "\n",
    "grid_clf1 = GridSearchCV(model1, param_grid=params, scoring='f1', cv=kfold)\n",
    "grid_clf1.fit(X, y)\n",
    "print(f'최적의 하이퍼 파라미터 : {grid_clf1.best_params_}')\n",
    "print(f'최적의 모델 평균 성능 : {grid_clf1.best_score_}')"
   ]
  },
  {
   "cell_type": "markdown",
   "metadata": {},
   "source": [
    "### 최적의 모델에 데이터를 학습시킨다."
   ]
  },
  {
   "cell_type": "code",
   "execution_count": null,
   "metadata": {},
   "outputs": [],
   "source": [
    "# 최적의 하이퍼파라미터가 셋팅된 모델을 받아온다.\n",
    "best_model1 = grid_clf1.best_estimator_\n",
    "\n",
    "# 학습\n",
    "best_model1.fit(X, y)"
   ]
  },
  {
   "cell_type": "markdown",
   "metadata": {},
   "source": [
    "### 학습한 데이터를 통해 검증 한다."
   ]
  },
  {
   "cell_type": "code",
   "execution_count": null,
   "metadata": {},
   "outputs": [],
   "source": [
    "y_pred1 = best_model1.predict(X)\n",
    "\n",
    "plt.scatter(list(range(len(y))), y, label='original')\n",
    "plt.scatter(list(range(len(y_pred1))), y_pred1, label='prediction')\n",
    "plt.legend()\n",
    "plt.title('DecisionTreeClassifier')\n",
    "plt.show()"
   ]
  },
  {
   "cell_type": "code",
   "execution_count": null,
   "metadata": {},
   "outputs": [],
   "source": [
    "# 결과 확률\n",
    "proba_a1 = best_model1.predict_proba(X)\n",
    "\n",
    "# 0일 확률들\n",
    "a10 = proba_a1[:, 0]\n",
    "# 1일 확률들\n",
    "a11 = proba_a1[:, 1]\n",
    "\n",
    "plt.scatter(list(range(len(a10))), a10, label='0일 확률')\n",
    "plt.scatter(list(range(len(a11))), a11, label='1일 확률')\n",
    "plt.legend()\n",
    "plt.show()"
   ]
  },
  {
   "cell_type": "markdown",
   "metadata": {},
   "source": [
    "### 새로운 데이터에 대한 예측을 수행한다."
   ]
  },
  {
   "cell_type": "markdown",
   "metadata": {},
   "source": [
    "#### 데이터 준비>데이터 전처리(표준화(StandardScaler())>결과 예측>시각화"
   ]
  },
  {
   "cell_type": "code",
   "execution_count": null,
   "metadata": {},
   "outputs": [],
   "source": [
    "# 결과를 예측한다.\n",
    "y_pred1 = best_model1.predict(scaled_data)\n",
    "\n",
    "display(y_pred1)"
   ]
  },
  {
   "cell_type": "code",
   "execution_count": null,
   "metadata": {},
   "outputs": [],
   "source": [
    "# 예측 확률을 시각화한다.\n",
    "proba_data = best_model1.predict_proba(scaled_data)\n",
    "\n",
    "# 0일확률과 1일 확률 값을 각각 가져온다.\n",
    "a10 = proba_data[:, 0]\n",
    "a11 = proba_data[:, 1]\n",
    "\n",
    "plt.scatter(list(range(len(a10))), a10, label='0일 확률')\n",
    "plt.scatter(list(range(len(a11))), a11, label='1일 확률')\n",
    "plt.legend()\n",
    "plt.show()\n"
   ]
  },
  {
   "cell_type": "code",
   "execution_count": null,
   "metadata": {},
   "outputs": [],
   "source": [
    "# 결과 데이터를 복원한다.\n",
    "result_data1 = encoder1.inverse_transform(y_pred1)\n",
    "\n",
    "display(result_data1)"
   ]
  },
  {
   "cell_type": "code",
   "execution_count": null,
   "metadata": {},
   "outputs": [],
   "source": [
    "# 결과를 저장한다.\n",
    "df2['target'] = result_data1\n",
    "df2.to_csv('data/breast_cancer_DecisionTree.csv')\n",
    "\n",
    "print('저장완료')\n"
   ]
  },
  {
   "cell_type": "code",
   "execution_count": null,
   "metadata": {},
   "outputs": [],
   "source": []
  },
  {
   "cell_type": "code",
   "execution_count": null,
   "metadata": {},
   "outputs": [],
   "source": []
  },
  {
   "cell_type": "code",
   "execution_count": null,
   "metadata": {},
   "outputs": [],
   "source": []
  },
  {
   "cell_type": "code",
   "execution_count": null,
   "metadata": {},
   "outputs": [],
   "source": []
  },
  {
   "cell_type": "code",
   "execution_count": null,
   "metadata": {},
   "outputs": [],
   "source": []
  },
  {
   "cell_type": "code",
   "execution_count": null,
   "metadata": {},
   "outputs": [],
   "source": []
  },
  {
   "cell_type": "code",
   "execution_count": null,
   "metadata": {},
   "outputs": [],
   "source": []
  },
  {
   "cell_type": "code",
   "execution_count": null,
   "metadata": {},
   "outputs": [],
   "source": []
  },
  {
   "cell_type": "code",
   "execution_count": null,
   "metadata": {},
   "outputs": [],
   "source": []
  },
  {
   "cell_type": "code",
   "execution_count": null,
   "metadata": {},
   "outputs": [],
   "source": []
  },
  {
   "cell_type": "code",
   "execution_count": null,
   "metadata": {},
   "outputs": [],
   "source": []
  },
  {
   "cell_type": "code",
   "execution_count": null,
   "metadata": {},
   "outputs": [],
   "source": []
  },
  {
   "cell_type": "code",
   "execution_count": null,
   "metadata": {},
   "outputs": [],
   "source": []
  },
  {
   "cell_type": "code",
   "execution_count": null,
   "metadata": {},
   "outputs": [],
   "source": []
  },
  {
   "cell_type": "code",
   "execution_count": null,
   "metadata": {},
   "outputs": [],
   "source": []
  },
  {
   "cell_type": "code",
   "execution_count": null,
   "metadata": {},
   "outputs": [],
   "source": []
  },
  {
   "cell_type": "code",
   "execution_count": null,
   "metadata": {},
   "outputs": [],
   "source": []
  },
  {
   "cell_type": "code",
   "execution_count": null,
   "metadata": {},
   "outputs": [],
   "source": []
  },
  {
   "cell_type": "code",
   "execution_count": null,
   "metadata": {},
   "outputs": [],
   "source": []
  },
  {
   "cell_type": "code",
   "execution_count": null,
   "metadata": {},
   "outputs": [],
   "source": []
  },
  {
   "cell_type": "code",
   "execution_count": null,
   "metadata": {},
   "outputs": [],
   "source": []
  },
  {
   "cell_type": "code",
   "execution_count": null,
   "metadata": {},
   "outputs": [],
   "source": []
  },
  {
   "cell_type": "code",
   "execution_count": null,
   "metadata": {},
   "outputs": [],
   "source": []
  },
  {
   "cell_type": "code",
   "execution_count": null,
   "metadata": {},
   "outputs": [],
   "source": []
  },
  {
   "cell_type": "code",
   "execution_count": null,
   "metadata": {},
   "outputs": [],
   "source": []
  }
 ],
 "metadata": {
  "kernelspec": {
   "display_name": "Python 3",
   "language": "python",
   "name": "python3"
  },
  "language_info": {
   "codemirror_mode": {
    "name": "ipython",
    "version": 3
   },
   "file_extension": ".py",
   "mimetype": "text/x-python",
   "name": "python",
   "nbconvert_exporter": "python",
   "pygments_lexer": "ipython3",
   "version": "3.8.5"
  }
 },
 "nbformat": 4,
 "nbformat_minor": 4
}
