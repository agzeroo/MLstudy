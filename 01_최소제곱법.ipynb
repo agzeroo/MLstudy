{
 "cells": [
  {
   "cell_type": "code",
   "execution_count": 1,
   "metadata": {},
   "outputs": [],
   "source": [
    "import numpy as np"
   ]
  },
  {
   "cell_type": "code",
   "execution_count": 2,
   "metadata": {},
   "outputs": [],
   "source": [
    "# 학습할 데이터\n",
    "공부한시간 = [2, 4, 6, 8]\n",
    "성적 = [81, 93, 91, 97]"
   ]
  },
  {
   "cell_type": "code",
   "execution_count": 3,
   "metadata": {},
   "outputs": [],
   "source": [
    "# x와 y의 평균을 구하는 함수\n",
    "def getMean(x, y) :\n",
    "    a1 = np.mean(x)\n",
    "    a2 = np.mean(y)\n",
    "    \n",
    "    return a1, a2"
   ]
  },
  {
   "cell_type": "code",
   "execution_count": 4,
   "metadata": {},
   "outputs": [],
   "source": [
    "# 분자를 구하는 함수\n",
    "# (x-x평균)(y - y평균)의 합\n",
    "def getDividend(x, y, x평균, y평균) :\n",
    "    \n",
    "    총합 = 0\n",
    "    \n",
    "    # 데이터의 만큼 반복한다.\n",
    "    for idx in range(len(x)) :\n",
    "        a1 = (x[idx] - x평균) * (y[idx] - y평균)\n",
    "        총합 = 총합 + a1\n",
    "    \n",
    "    return 총합"
   ]
  },
  {
   "cell_type": "code",
   "execution_count": 5,
   "metadata": {},
   "outputs": [],
   "source": [
    "# 분모를 구하는 함수\n",
    "# (x - x 평균)의 제곱의 합\n",
    "def getDevider(x, x평균) :\n",
    "    \n",
    "    총합 = 0\n",
    "    \n",
    "    for a1 in x :\n",
    "        a2 = (a1 - x평균) ** 2\n",
    "        총합 = 총합 + a2\n",
    "        \n",
    "    return 총합"
   ]
  },
  {
   "cell_type": "code",
   "execution_count": 6,
   "metadata": {},
   "outputs": [],
   "source": [
    "def getAB(분자, 분모, x평균, y평균) :\n",
    "    a = 분자 / 분모\n",
    "    b = y평균 - (x평균 * a)\n",
    "    \n",
    "    return a, b"
   ]
  },
  {
   "cell_type": "code",
   "execution_count": 7,
   "metadata": {},
   "outputs": [
    {
     "name": "stdout",
     "output_type": "stream",
     "text": [
      "5.0\n",
      "90.5\n"
     ]
    }
   ],
   "source": [
    "# x(공부한시간), y(성적)의 평균을 각각 구한다.\n",
    "공부시간평균, 성적평균 = getMean(공부한시간, 성적)\n",
    "print(공부시간평균)\n",
    "print(성적평균)"
   ]
  },
  {
   "cell_type": "code",
   "execution_count": 8,
   "metadata": {},
   "outputs": [
    {
     "name": "stdout",
     "output_type": "stream",
     "text": [
      "46.0\n"
     ]
    }
   ],
   "source": [
    "# 분자를 구한다.\n",
    "분자 = getDividend(공부한시간, 성적, 공부시간평균, 성적평균)\n",
    "print(분자)"
   ]
  },
  {
   "cell_type": "code",
   "execution_count": 9,
   "metadata": {},
   "outputs": [
    {
     "name": "stdout",
     "output_type": "stream",
     "text": [
      "20.0\n"
     ]
    }
   ],
   "source": [
    "# 분모를 구한다.\n",
    "분모 = getDevider(공부한시간, 공부시간평균)\n",
    "print(분모)"
   ]
  },
  {
   "cell_type": "code",
   "execution_count": 10,
   "metadata": {},
   "outputs": [
    {
     "name": "stdout",
     "output_type": "stream",
     "text": [
      "2.3\n",
      "79.0\n"
     ]
    }
   ],
   "source": [
    "# 기울기와 절편을 구한다.\n",
    "기울기, 절편 = getAB(분자, 분모, 공부시간평균, 성적평균)\n",
    "print(기울기)\n",
    "print(절편)"
   ]
  },
  {
   "cell_type": "code",
   "execution_count": 11,
   "metadata": {},
   "outputs": [
    {
     "name": "stdout",
     "output_type": "stream",
     "text": [
      "83.6\n",
      "88.2\n",
      "92.8\n",
      "97.4\n"
     ]
    }
   ],
   "source": [
    "# 예측 공부시간을 가져온다.\n",
    "for v1 in 공부한시간 :\n",
    "    예측성적 = (기울기 * v1) + 절편\n",
    "    print(예측성적)"
   ]
  },
  {
   "cell_type": "code",
   "execution_count": 12,
   "metadata": {},
   "outputs": [
    {
     "data": {
      "text/plain": [
       "[81, 93, 91, 97]"
      ]
     },
     "execution_count": 12,
     "metadata": {},
     "output_type": "execute_result"
    }
   ],
   "source": [
    "성적"
   ]
  },
  {
   "cell_type": "code",
   "execution_count": null,
   "metadata": {},
   "outputs": [],
   "source": []
  }
 ],
 "metadata": {
  "kernelspec": {
   "display_name": "Python 3",
   "language": "python",
   "name": "python3"
  },
  "language_info": {
   "codemirror_mode": {
    "name": "ipython",
    "version": 3
   },
   "file_extension": ".py",
   "mimetype": "text/x-python",
   "name": "python",
   "nbconvert_exporter": "python",
   "pygments_lexer": "ipython3",
   "version": "3.8.5"
  }
 },
 "nbformat": 4,
 "nbformat_minor": 4
}
